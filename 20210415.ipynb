{
  "nbformat": 4,
  "nbformat_minor": 0,
  "metadata": {
    "colab": {
      "name": "Colaboratory에 오신 것을 환영합니다",
      "provenance": [],
      "collapsed_sections": [],
      "include_colab_link": true
    },
    "kernelspec": {
      "display_name": "Python 3",
      "name": "python3"
    }
  },
  "cells": [
    {
      "cell_type": "markdown",
      "metadata": {
        "id": "view-in-github",
        "colab_type": "text"
      },
      "source": [
        "<a href=\"https://colab.research.google.com/github/suumino/homework/blob/main/20210415.ipynb\" target=\"_parent\"><img src=\"https://colab.research.google.com/assets/colab-badge.svg\" alt=\"Open In Colab\"/></a>"
      ]
    },
    {
      "cell_type": "code",
      "metadata": {
        "id": "hPwVEzfwsBZj"
      },
      "source": [
        "29. What is the purpose of 'super' keyword in java?\n",
        "\n",
        "super는 부모 클래스의 객체를 즉시 가져다 쓸 때 사용하고, 부모의 인스턴스를 초기화할 때 쓰는 함수이다. super를 쓸 때 상속구조에서 부모 인스턴스가 먼저 생성된다.\n",
        "자바에서는 모든 클래스의 부모 클래스가 객체이기 때문에 super로 객체 인스턴스화를 먼저 진행한다."
      ],
      "execution_count": null,
      "outputs": []
    },
    {
      "cell_type": "code",
      "metadata": {
        "id": "VncxKetdsIJS"
      },
      "source": [
        "30. Is it possible to use this() and super() both in same constructor?\n",
        "\n",
        "함께 사용할 수 없다. this와 super는 { 바로 다음에만 쓸 수 있기 때문에 같이 쓸 수 없다.\n",
        "주로 부모 멤버와 자신의 멤버를 구분할 때 super를 쓰고 그렇지 않을때 this를 쓴다.\n",
        "두 개를 같이쓰면 super가 중복되어서 같이 쓰지 않는다."
      ],
      "execution_count": null,
      "outputs": []
    },
    {
      "cell_type": "code",
      "metadata": {
        "id": "tP64elyjsILu"
      },
      "source": [
        "31. What is the meaning of object cloning in Java?\n",
        "\n",
        "클로닝을 통하여 객체복사를 하여 객체가 생성되면, 객체는 생성자 메소드를 실행하지 않고 객체가 유지하고 있는 값을 그대로 복사한다. "
      ],
      "execution_count": null,
      "outputs": []
    },
    {
      "cell_type": "code",
      "metadata": {
        "id": "FjGnkOe-sIOO"
      },
      "source": [
        "32. In java, why do we use static variable?\n",
        "\n",
        "먼저, 정적 변수라는 것은 프로그램 안에서 공유되는 변수이다. 메소드 앞에 static을 작성하여 사용하고,\n",
        "객체를 생성하지 않아도 메모리에 할당된다. static 메소드에서는 static 변수만 사용할 수 있고, \n",
        "다른 변수를 쓰려면 new 연산자를 써야한다. 클래스의 인스턴스 없이 호출이 가능하기 때문에 쓰인다."
      ],
      "execution_count": null,
      "outputs": []
    },
    {
      "cell_type": "code",
      "metadata": {
        "id": "9wwA0NUxsIQl",
        "outputId": "d5fac6d7-d69a-4a5f-91a5-b137bc093428",
        "colab": {
          "base_uri": "https://localhost:8080/"
        }
      },
      "source": [
        "# ALGORITHM HOMEWORK\n",
        "\n",
        "a = input(\"Input : \").split()        # a 받음\n",
        "b = input(\"Input : \").split()        # b 받음\n",
        "c = []                               # 빈 리스트 받음\n",
        "for i in range(len(a)):              # a 길이동안\n",
        "  if i % 2 == 0:                     # 짝수면\n",
        "    c.append(list(zip(a[i], b[i])))  # ab\n",
        "  else :                             # 홀수면\n",
        "    c.append(list(zip(b[i], a[i])))  # ba\n",
        "print(c)                             # 출력"
      ],
      "execution_count": 17,
      "outputs": [
        {
          "output_type": "stream",
          "text": [
            "Input : 1 2 3 4\n",
            "Input : a b c d\n",
            "[[('1', 'a')], [('b', '2')], [('3', 'c')], [('d', '4')]]\n"
          ],
          "name": "stdout"
        }
      ]
    }
  ]
}