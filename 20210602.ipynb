{
  "nbformat": 4,
  "nbformat_minor": 0,
  "metadata": {
    "colab": {
      "name": "Colaboratory에 오신 것을 환영합니다",
      "provenance": [],
      "collapsed_sections": [],
      "include_colab_link": true
    },
    "kernelspec": {
      "display_name": "Python 3",
      "name": "python3"
    }
  },
  "cells": [
    {
      "cell_type": "markdown",
      "metadata": {
        "id": "view-in-github",
        "colab_type": "text"
      },
      "source": [
        "<a href=\"https://colab.research.google.com/github/suumino/homework/blob/main/20210602.ipynb\" target=\"_parent\"><img src=\"https://colab.research.google.com/assets/colab-badge.svg\" alt=\"Open In Colab\"/></a>"
      ]
    },
    {
      "cell_type": "code",
      "metadata": {
        "id": "IM3P5GXp_OK7"
      },
      "source": [
        "301. What are the minimum requirements for a Deadlock situation in a program?\n",
        "\n",
        "mutual exclusion이 필요하다. 관련된 리소스가 공유되지 않아야 한다. "
      ],
      "execution_count": null,
      "outputs": []
    },
    {
      "cell_type": "code",
      "metadata": {
        "id": "muT62GHu_ONA"
      },
      "source": [
        "302. How can we prevent a Deadlock?\n",
        "\n",
        "deadlock은 mutual exclusion: 한 순간에는 한 프로세스만 자원을 사용할 수 있는것 \n",
        " hold와 wait(점유대기): 이미 자원을 보유한 프로세스가 다른 자원을 요청하며 기다리는 것\n",
        "no preemption(비선점): 프로세스에 의해 점유된 자원을 다른 프로세스가 강제로 빼앗을 수 없는 것\n",
        "circular wait(환형대기): 프로세스간에 닫힌 연결이 존재하는 것\n",
        "등으로 방지할 수 있다."
      ],
      "execution_count": null,
      "outputs": []
    },
    {
      "cell_type": "code",
      "metadata": {
        "id": "y2HeOI_C_OO5"
      },
      "source": [
        "303. how can we detect a Deadlock situation?\n",
        "\n",
        "분산 트랜젝션이나 동시성 제어를 사용할 때 발생할 수 있다. \n",
        "deadlock은 감지기의 로컬 대기 그래프에서 전역 대기 그래프를 구성하거나\n",
        "에지 추적과 같은 분산 알고리즘을 통해 감지할 수 있다."
      ],
      "execution_count": null,
      "outputs": []
    },
    {
      "cell_type": "code",
      "metadata": {
        "id": "FMGwxyLR_OQy"
      },
      "source": [
        "304. What is a Livelock?\n",
        "\n",
        "한 프로세스가 이미 자원을 점유한 상태에서 다른 프로세스가 그 자원을 사용하기 위해 무한정 대기상태에 빠지는 것"
      ],
      "execution_count": null,
      "outputs": []
    },
    {
      "cell_type": "code",
      "metadata": {
        "id": "DtSdEcJl_OS0"
      },
      "source": [
        "305. What is Thread starvation?\n",
        "\n",
        "어떤 스레드가 다른 스레드들이 CPU의 시간을 모두 잡고있어 CPU의 시간을 사용할 수 없게 되는 현상"
      ],
      "execution_count": null,
      "outputs": []
    },
    {
      "cell_type": "code",
      "metadata": {
        "id": "dpTeiWbU_OUx"
      },
      "source": [
        "306. how can a synchronized block cause Thread starvation in Java?\n",
        "\n",
        "기아상태의 원인은 크게 높은 순위를 가진 스레드들의 CPU 시간 독점, \n",
        "동기화 영역 진입을 위한 무한한 대기 중 블록상태, 객체에 대한 무한한 대기상태 가 있다."
      ],
      "execution_count": null,
      "outputs": []
    },
    {
      "cell_type": "code",
      "metadata": {
        "id": "cG5ko-CT_OWe"
      },
      "source": [
        "307. What is a Race condition?\n",
        "\n",
        "둘 이상의 입력 또는 조작의 타이밍이나 순서 등이 결과값에 영향을 줄 수 있는 상태를 말한다."
      ],
      "execution_count": null,
      "outputs": []
    },
    {
      "cell_type": "code",
      "metadata": {
        "id": "mnorszH0_OYk"
      },
      "source": [
        "308. What is a Fair lock in multi-threading?\n",
        "\n",
        "fair lock과 불공정한 잠금은 대기중인 스레드들이 모두 같은 잠금을 획득할 기회를 가지고 있다는 것을 뜻한다.\n",
        "특히 fair lock은 각 대기 스레드에 대해 fair lock을 획득할 수 있는 기회이다."
      ],
      "execution_count": null,
      "outputs": []
    },
    {
      "cell_type": "code",
      "metadata": {
        "id": "fl0fK5dh_Oa5"
      },
      "source": [
        "309. Which two methods of Object class can be used to implement a Producer Consumer scenario?\n",
        "\n",
        "생산자/소비자 메소드를 구성해야 한다. 이것은 생산자가 데이터를 제공하면 소비자가 이를 받아 사용하는\n",
        "관계과 과정을 말한다."
      ],
      "execution_count": null,
      "outputs": []
    },
    {
      "cell_type": "code",
      "metadata": {
        "id": "BiQeFQ8d_Oev"
      },
      "source": [
        "310. How JVM determines which thread should wake up on notify()?\n",
        "\n",
        "여러 스레드가 대기중인 경우 하나를 깨우게 된다. JVM이 선택하는 스레드는 임의적이다."
      ],
      "execution_count": null,
      "outputs": []
    },
    {
      "cell_type": "code",
      "metadata": {
        "id": "-hqil4tK_366",
        "outputId": "ed4fa6af-bcb8-45f7-b0d4-8b5ee93528f0",
        "colab": {
          "base_uri": "https://localhost:8080/"
        }
      },
      "source": [
        "def ccc(nlist, mlist):          # 함수 생성\n",
        "  check=[]                      # 있는지 없는지 확인할 리스트 생성\n",
        "  for i in range(len(mlist)):   # m의 길이 동안\n",
        "    if mlist[i] in nlist: check.append('yes')   # 손님이 찾는 부품이 가게에 있으면 yes 저장\n",
        "    else : check.append('no')   # 없으면 no 저장\n",
        "  for i in range(len(check)):   # 확인 리스트의 길이동안\n",
        "    print(check[i], end=' ')    # 요소들 출력\n",
        " \n",
        "n = int(input('N : '))          # n 개수 받음\n",
        "nlist = list(range(n))          # n 개수 제한\n",
        "nlist = list(map(int, input(\"N list : \").split())) # 입력 받음\n",
        "m = int(input('M : '))          # m 개수 받음\n",
        "mlist = list(range(m))          # m 개수 제한\n",
        "mlist = list(map(int, input('M list : ').split())) # 입력 받음\n",
        "ccc(nlist, mlist)               # 함수 호출\n"
      ],
      "execution_count": 14,
      "outputs": [
        {
          "output_type": "stream",
          "text": [
            "N : 5\n",
            "N list : 8 3 7 9 2\n",
            "M : 3\n",
            "M list : 5 7 9\n",
            "no yes yes "
          ],
          "name": "stdout"
        }
      ]
    },
    {
      "cell_type": "code",
      "metadata": {
        "id": "VoGPFbHFE_BT"
      },
      "source": [
        ""
      ],
      "execution_count": null,
      "outputs": []
    }
  ]
}