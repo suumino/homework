{
  "nbformat": 4,
  "nbformat_minor": 0,
  "metadata": {
    "colab": {
      "name": "Colaboratory에 오신 것을 환영합니다",
      "provenance": [],
      "collapsed_sections": [],
      "include_colab_link": true
    },
    "kernelspec": {
      "display_name": "Python 3",
      "name": "python3"
    }
  },
  "cells": [
    {
      "cell_type": "markdown",
      "metadata": {
        "id": "view-in-github",
        "colab_type": "text"
      },
      "source": [
        "<a href=\"https://colab.research.google.com/github/suumino/homework/blob/main/20210608.ipynb\" target=\"_parent\"><img src=\"https://colab.research.google.com/assets/colab-badge.svg\" alt=\"Open In Colab\"/></a>"
      ]
    },
    {
      "cell_type": "code",
      "metadata": {
        "id": "iYRkx5h3t9Di"
      },
      "source": [
        "361. Why do we need Functional interface in java?\n",
        "\n",
        "인터페이스는 람다식을 사용하여 인스턴스화하고 부피가 큰 익명 클래스 구현을 하지 않아도 된다는 점이다.\n"
      ],
      "execution_count": null,
      "outputs": []
    },
    {
      "cell_type": "code",
      "metadata": {
        "id": "20JuIlK6t9Fu"
      },
      "source": [
        "362. Is it mandatory to use @FunctionalInterface annotation to define a Functional interface in Java 8?\n",
        "\n",
        "반드시 주석처리를 해야하는 것은 아니다. 컴파일러가 오류를 발생시키지 않는다."
      ],
      "execution_count": null,
      "outputs": []
    },
    {
      "cell_type": "code",
      "metadata": {
        "id": "OhWQDWELt9IC"
      },
      "source": [
        "363. What are the differences between Collection and Stream API in Java 8?\n",
        "\n",
        "컬렉션은 크기가 제한되어있다. 스트림은 소스의 한 부분을 다시 쓰려면 새로운 스트림을 만들어야 한다.\n",
        "스트림이 소스를 수정하지 않고 단순히 결과만 생성하기 때문이다."
      ],
      "execution_count": null,
      "outputs": []
    },
    {
      "cell_type": "code",
      "metadata": {
        "id": "2OoRHTGlt9Kk"
      },
      "source": [
        "364. What are the main uses of Stream API in Java 8?\n",
        "\n",
        "개체 컬렉션을 처리한다. 스트림은 다양한 매서드를 지원하는 개체인데, 컬렉션, 배열 등으로 입력을 받는다."
      ],
      "execution_count": null,
      "outputs": []
    },
    {
      "cell_type": "code",
      "metadata": {
        "id": "Zi89NNLVt9M4"
      },
      "source": [
        "365. What are the differences between intermediate and Terminal Operations in Java 8 Streams?\n",
        "\n",
        "중간작업은 즉시실행이 되지 않지만, 터미널 작업은 된다. 터미널 작업은 비스트림 결과를 생성한다."
      ],
      "execution_count": null,
      "outputs": []
    },
    {
      "cell_type": "code",
      "metadata": {
        "id": "Xm_D9fvpwWtY"
      },
      "source": [
        "366. What is a Spliterator in Java 8?\n",
        "\n",
        "spliterator는 소스의 요소를 분할하기 위한 개체이다. spliterator는 요소를 개별적으로, 또는 대량 순차적으로 순회할\n",
        "수 있다. tryAdvance(), forEachRemaining이 있다."
      ],
      "execution_count": null,
      "outputs": []
    },
    {
      "cell_type": "code",
      "metadata": {
        "id": "q48vK5dOwWvT"
      },
      "source": [
        "367. What are the differences between Iterator and Spliterator in Java 8?\n",
        "\n",
        "iterator는 단순하게 반복되는 요소를 표현한 것이고, \n",
        "spliterator는 요소를 여러 집합으로 분할하는데 사용할 수 있다.\n",
        "이것은 서로 다른 스레드의 각 집합에 대해 연산이나 계산을 독립적으로 수행할 수 있다."
      ],
      "execution_count": null,
      "outputs": []
    },
    {
      "cell_type": "code",
      "metadata": {
        "id": "ZTcvdN6PwWxW"
      },
      "source": [
        "368. What is Type Inference in Java 8?\n",
        "\n",
        "컴파일러가 메소드의 호출과 인수 유형을 결정하는 선언을 살펴볼 수 있는 기능이 있다.\n",
        "java8에서 개선된 버전의 Type Inference를 제공한다. 양쪽에서 정수 유형을 언급하여 arraylist를 생성한다."
      ],
      "execution_count": null,
      "outputs": []
    },
    {
      "cell_type": "code",
      "metadata": {
        "id": "wsXQS6KBwWzL"
      },
      "source": [
        "369. Does Java 7 support Type Inference?\n",
        "\n",
        "java7은 일반 인스턴스 생성을 위해 제한된 유형 추론을 지원한다.\n",
        "생성자의 매개변수화된 유형이 분명한 경우에만 유형추론을 사용할 수 있다."
      ],
      "execution_count": null,
      "outputs": []
    },
    {
      "cell_type": "code",
      "metadata": {
        "id": "j1NKB0xrwnyc"
      },
      "source": [
        "370. How does Internal Iteration work in Java 8?\n",
        "\n",
        "내부반복기는 반복을 관리한다. 사용자가 반복을 관리할 때 컬렉션의 요소로 작업을 코딩할 수 있다."
      ],
      "execution_count": null,
      "outputs": []
    },
    {
      "cell_type": "code",
      "metadata": {
        "id": "B1_lIh9CwW1M",
        "outputId": "40f6fc9f-4a2e-4cf2-af1f-c1d59df80c94",
        "colab": {
          "base_uri": "https://localhost:8080/",
          "height": 361
        }
      },
      "source": [
        "def ccc(n):\n",
        "  x = n[0]\n",
        "  y = n[1]\n",
        "  z = int(n[2:])\n",
        "  u = []\n",
        "  a = z\n",
        "  print(x, y, z, u, )\n",
        "  while a > 0:\n",
        "    a = a / 10\n",
        "    u.append(a)\n",
        "  if 0 not in n:\n",
        "    if (x + y) not in u:\n",
        "      return 'false'\n",
        "\n",
        "\n",
        "n = input('input : ')\n",
        "ccc(n)"
      ],
      "execution_count": 5,
      "outputs": [
        {
          "output_type": "stream",
          "text": [
            "input : 112358\n",
            "1 1 2358 []\n"
          ],
          "name": "stdout"
        },
        {
          "output_type": "error",
          "ename": "TypeError",
          "evalue": "ignored",
          "traceback": [
            "\u001b[0;31m---------------------------------------------------------------------------\u001b[0m",
            "\u001b[0;31mTypeError\u001b[0m                                 Traceback (most recent call last)",
            "\u001b[0;32m<ipython-input-5-d31412a17de8>\u001b[0m in \u001b[0;36m<module>\u001b[0;34m()\u001b[0m\n\u001b[1;32m     15\u001b[0m \u001b[0;34m\u001b[0m\u001b[0m\n\u001b[1;32m     16\u001b[0m \u001b[0mn\u001b[0m \u001b[0;34m=\u001b[0m \u001b[0minput\u001b[0m\u001b[0;34m(\u001b[0m\u001b[0;34m'input : '\u001b[0m\u001b[0;34m)\u001b[0m\u001b[0;34m\u001b[0m\u001b[0;34m\u001b[0m\u001b[0m\n\u001b[0;32m---> 17\u001b[0;31m \u001b[0mccc\u001b[0m\u001b[0;34m(\u001b[0m\u001b[0mn\u001b[0m\u001b[0;34m)\u001b[0m\u001b[0;34m\u001b[0m\u001b[0;34m\u001b[0m\u001b[0m\n\u001b[0m",
            "\u001b[0;32m<ipython-input-5-d31412a17de8>\u001b[0m in \u001b[0;36mccc\u001b[0;34m(n)\u001b[0m\n\u001b[1;32m      9\u001b[0m     \u001b[0ma\u001b[0m \u001b[0;34m=\u001b[0m \u001b[0ma\u001b[0m \u001b[0;34m/\u001b[0m \u001b[0;36m10\u001b[0m\u001b[0;34m\u001b[0m\u001b[0;34m\u001b[0m\u001b[0m\n\u001b[1;32m     10\u001b[0m     \u001b[0mu\u001b[0m\u001b[0;34m.\u001b[0m\u001b[0mappend\u001b[0m\u001b[0;34m(\u001b[0m\u001b[0ma\u001b[0m\u001b[0;34m)\u001b[0m\u001b[0;34m\u001b[0m\u001b[0;34m\u001b[0m\u001b[0m\n\u001b[0;32m---> 11\u001b[0;31m   \u001b[0;32mif\u001b[0m \u001b[0;36m0\u001b[0m \u001b[0;32mnot\u001b[0m \u001b[0;32min\u001b[0m \u001b[0mn\u001b[0m\u001b[0;34m:\u001b[0m\u001b[0;34m\u001b[0m\u001b[0;34m\u001b[0m\u001b[0m\n\u001b[0m\u001b[1;32m     12\u001b[0m     \u001b[0;32mif\u001b[0m \u001b[0;34m(\u001b[0m\u001b[0mx\u001b[0m \u001b[0;34m+\u001b[0m \u001b[0my\u001b[0m\u001b[0;34m)\u001b[0m \u001b[0;32mnot\u001b[0m \u001b[0;32min\u001b[0m \u001b[0mu\u001b[0m\u001b[0;34m:\u001b[0m\u001b[0;34m\u001b[0m\u001b[0;34m\u001b[0m\u001b[0m\n\u001b[1;32m     13\u001b[0m       \u001b[0;32mreturn\u001b[0m \u001b[0;34m'false'\u001b[0m\u001b[0;34m\u001b[0m\u001b[0;34m\u001b[0m\u001b[0m\n",
            "\u001b[0;31mTypeError\u001b[0m: 'in <string>' requires string as left operand, not int"
          ]
        }
      ]
    },
    {
      "cell_type": "code",
      "metadata": {
        "id": "rQKlV9qv50U5"
      },
      "source": [
        ""
      ],
      "execution_count": null,
      "outputs": []
    }
  ]
}