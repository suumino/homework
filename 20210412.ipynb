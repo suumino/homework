{
  "nbformat": 4,
  "nbformat_minor": 0,
  "metadata": {
    "colab": {
      "name": "Colaboratory에 오신 것을 환영합니다",
      "provenance": [],
      "collapsed_sections": [],
      "include_colab_link": true
    },
    "kernelspec": {
      "display_name": "Python 3",
      "name": "python3"
    }
  },
  "cells": [
    {
      "cell_type": "markdown",
      "metadata": {
        "id": "view-in-github",
        "colab_type": "text"
      },
      "source": [
        "<a href=\"https://colab.research.google.com/github/suumino/homework/blob/main/20210412.ipynb\" target=\"_parent\"><img src=\"https://colab.research.google.com/assets/colab-badge.svg\" alt=\"Open In Colab\"/></a>"
      ]
    },
    {
      "cell_type": "code",
      "metadata": {
        "id": "46tnEHyJN0Bu"
      },
      "source": [
        "17. Why do we need default constructor in Java classes?\n",
        "\n",
        "자바의 기본 생성자는 객체를 초기화하는 데에 사용됩니다. 개체는 프로그램이 사용되기 전에 미리 기본값을 가지고 있어야하고, \n",
        "이런 기본값을 기본 생성자가 할당해준다."
      ],
      "execution_count": null,
      "outputs": []
    },
    {
      "cell_type": "code",
      "metadata": {
        "id": "eDlgu3LfN0Dx"
      },
      "source": [
        "18. What is the value returned by Constructor in Java?\n",
        "\n",
        "자바에서는 생성자에 의한 반환값이 없다."
      ],
      "execution_count": null,
      "outputs": []
    },
    {
      "cell_type": "code",
      "metadata": {
        "id": "YJXs6CLBN5R_"
      },
      "source": [
        "19. Can we inherit a Constructor?\n",
        "\n",
        "부모 클래스의 생성자는 자식 클래스로 상속이 되지 않는다. 자식 클래스에서 부모 클래스의 생성자를 사용하기 위해서는\n",
        "자식 클래스로 인스턴스를 생성하면 된다. 인스턴스를 생성하면 부모 클래스의 기본 생성자가 자동으로 호출된다."
      ],
      "execution_count": null,
      "outputs": []
    },
    {
      "cell_type": "code",
      "metadata": {
        "id": "qCDlpIeWN0GK"
      },
      "source": [
        "20. Why constructors cannot be final, static, or abstact in Java?\n",
        "\n",
        "자바의 생성자는 상속이 되지 않기 때문에 abstract, final이 될 수 없고, 객체의 생성시에만 호출이 되기 때문에 static일 수도 없다.\n"
      ],
      "execution_count": null,
      "outputs": []
    },
    {
      "cell_type": "code",
      "metadata": {
        "id": "lJzZs2yxN0IJ",
        "outputId": "ad3f9c42-cce0-4219-bdb4-2510236b5e88",
        "colab": {
          "base_uri": "https://localhost:8080/"
        }
      },
      "source": [
        "def cc(x, n):        # 함수 생성\n",
        "  while n <= x:       # 나누어지는 수 가 나누는 수보다 클 동안\n",
        "    x -= n           # 나누어지는 수에서 나누는 수 계속 뺌\n",
        "  if x == 0:         # 나누어지는 수가 0이면\n",
        "    return True      # 배수\n",
        "  else :             # 아니면\n",
        "    return False     # 배수아님\n",
        "\n",
        "print(cc(635, 5))    # 출력"
      ],
      "execution_count": 97,
      "outputs": [
        {
          "output_type": "stream",
          "text": [
            "True\n"
          ],
          "name": "stdout"
        }
      ]
    },
    {
      "cell_type": "code",
      "metadata": {
        "id": "033xw_-OR-z1",
        "outputId": "d3462781-1d48-4689-d54a-9ca7818f0430",
        "colab": {
          "base_uri": "https://localhost:8080/"
        }
      },
      "source": [
        "def aa(x, n):       # 함수 생성\n",
        "  i = 1             # 반복 변수\n",
        "  k = 0             # 곱 변수\n",
        "  while k < x:      # 곱이 x보다 작을동안\n",
        "    k = n * i       # 곱은 나누는수 * i\n",
        "    i += 1          # i에 1 더함\n",
        "  if k == x:        # 곱이 나누어지는수와 같다면\n",
        "    return True     # 배수\n",
        "  else:             # 아니면\n",
        "    return False    # 배수 아님\n",
        "\n",
        "print(aa(635, 5))   # 출력\n"
      ],
      "execution_count": 95,
      "outputs": [
        {
          "output_type": "stream",
          "text": [
            "True\n"
          ],
          "name": "stdout"
        }
      ]
    },
    {
      "cell_type": "code",
      "metadata": {
        "id": "XAwPsP4fSSfT"
      },
      "source": [
        ""
      ],
      "execution_count": null,
      "outputs": []
    }
  ]
}