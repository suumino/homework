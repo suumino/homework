{
  "nbformat": 4,
  "nbformat_minor": 0,
  "metadata": {
    "colab": {
      "name": "Colaboratory에 오신 것을 환영합니다",
      "provenance": [],
      "collapsed_sections": [],
      "include_colab_link": true
    },
    "kernelspec": {
      "display_name": "Python 3",
      "name": "python3"
    }
  },
  "cells": [
    {
      "cell_type": "markdown",
      "metadata": {
        "id": "view-in-github",
        "colab_type": "text"
      },
      "source": [
        "<a href=\"https://colab.research.google.com/github/suumino/homework/blob/main/20210419.ipynb\" target=\"_parent\"><img src=\"https://colab.research.google.com/assets/colab-badge.svg\" alt=\"Open In Colab\"/></a>"
      ]
    },
    {
      "cell_type": "code",
      "metadata": {
        "id": "TdL5TLPmQqda"
      },
      "source": [
        "33. Why it is not a good practice to create static variables in Java? \n",
        "\n",
        "Static 변수는 전역변수이다. 이것을 사용하면 이 변수가 여러 코드에게 영향을 받을 수 있어 디버깅이 어렵다. \n",
        "다른 변수를 사용한다면 오류가 났을 때 그것을 추론하는 것이 보다 쉬워진다."
      ],
      "execution_count": null,
      "outputs": []
    },
    {
      "cell_type": "code",
      "metadata": {
        "id": "1SwJ6kz5Qqf5"
      },
      "source": [
        "34. What is the purpose of static method in Java?\n",
        "\n",
        "Static method는 클래스의 인스턴스 없이 호출이 가능하다. 그리고 유틸리티 함수를 만드는 데 유용하게 사용된다."
      ],
      "execution_count": null,
      "outputs": []
    },
    {
      "cell_type": "code",
      "metadata": {
        "id": "kVCFReREQqic"
      },
      "source": [
        "35. Why do we mark main method as static in Java?\n",
        "\n",
        "static으로 호출되어진 것들은 프로그램이 종료되는 시점까지 계속 유지가 된다. \n",
        "때문에 계속 참조를 할 수 있고 프로그램의 시작과 끝을 함께 하는 main 메소드에서는 static 명령어가 꼭 필요하다."
      ],
      "execution_count": null,
      "outputs": []
    },
    {
      "cell_type": "code",
      "metadata": {
        "id": "fzZ02MuWQqlO"
      },
      "source": [
        "36. In what scenario do we use a static block?\n",
        "\n",
        "클래스에 복잡한 초기화가 필요한 정적 멤버가 있는 경우 static 블록이 사용된다. "
      ],
      "execution_count": null,
      "outputs": []
    },
    {
      "cell_type": "code",
      "metadata": {
        "id": "uT4BX9wdQqnw",
        "outputId": "e0a5bcc2-4604-4060-9593-7d2a3ac7e2ce",
        "colab": {
          "base_uri": "https://localhost:8080/"
        }
      },
      "source": [
        "# ALGORITHM HOMEWORK\n",
        "\n",
        "def ccc(n):             # 함수 생성\n",
        "  s = 0                 # 더하기 값\n",
        "  m = 0                 # 민규의 악수 횟수\n",
        "  p = 0                 # 행사 참가자\n",
        "  while (s+p < n):      # 반복\n",
        "    p += 1              # 참가자 1씩 증가\n",
        "    s += p              # 더하기에 참가자수 더함\n",
        "  m = n - s             # 민규의 횟수는 전체 악수 빼기 민규빼고 한 악수\n",
        "  return m, p+2         # 반환\n",
        "\n",
        "n = int(input(\"행사에서 진행된 악수 횟수 : \"))  # 인풋\n",
        "print(ccc(n))                                   # 출력"
      ],
      "execution_count": 31,
      "outputs": [
        {
          "output_type": "stream",
          "text": [
            "행사에서 진행된 악수 횟수 : 59\n",
            "(4, 12)\n"
          ],
          "name": "stdout"
        }
      ]
    },
    {
      "cell_type": "code",
      "metadata": {
        "id": "oHCN3vm-R_7l"
      },
      "source": [
        ""
      ],
      "execution_count": null,
      "outputs": []
    }
  ]
}