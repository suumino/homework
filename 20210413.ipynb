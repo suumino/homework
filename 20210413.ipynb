{
  "nbformat": 4,
  "nbformat_minor": 0,
  "metadata": {
    "colab": {
      "name": "Colaboratory에 오신 것을 환영합니다",
      "provenance": [],
      "collapsed_sections": [],
      "include_colab_link": true
    },
    "kernelspec": {
      "display_name": "Python 3",
      "name": "python3"
    }
  },
  "cells": [
    {
      "cell_type": "markdown",
      "metadata": {
        "id": "view-in-github",
        "colab_type": "text"
      },
      "source": [
        "<a href=\"https://colab.research.google.com/github/suumino/homework/blob/main/20210413.ipynb\" target=\"_parent\"><img src=\"https://colab.research.google.com/assets/colab-badge.svg\" alt=\"Open In Colab\"/></a>"
      ]
    },
    {
      "cell_type": "code",
      "metadata": {
        "id": "MNnDxN6mXU2M"
      },
      "source": [
        "21. What is the purpose of 'this' keyword in java?\n",
        "\n",
        "this는 자기 자신을 가리키는 키워드이다. 생성자와 함께 쓰이게 되면 자기 자신의 생성자를 호출하게 된다.\n",
        "파이썬에서 self 와 비슷한 개념이다."
      ],
      "execution_count": null,
      "outputs": []
    },
    {
      "cell_type": "code",
      "metadata": {
        "id": "qz6HEhlmXh6o"
      },
      "source": [
        "22. Explain the concept of Inheritance?\n",
        "\n",
        "부모 클래스와 자식 클래스의 기능이 같을 때, 부모 클래스를 자식 클래스에 상속시킬 수 있다. 자식 클래스는\n",
        "따로 코드를 적어주지 않아도 부모 클래스의 코드를 이용할 수 있다. "
      ],
      "execution_count": null,
      "outputs": []
    },
    {
      "cell_type": "code",
      "metadata": {
        "id": "6WE2I2P0Xh8y"
      },
      "source": [
        "23. Which class in Java is superclass of every other class?\n",
        "\n",
        "기본 바탕이 되는 클래스가 슈퍼클래스이다. 슈퍼 클래스의 멤버를 상속받는 클래스를 서브 클래스라고 한다."
      ],
      "execution_count": null,
      "outputs": []
    },
    {
      "cell_type": "code",
      "metadata": {
        "id": "1eYR-3XOXh-u"
      },
      "source": [
        "24. Why Java does not support multiple inheritance?\n",
        "\n",
        "다이아몬드 문제 때문이다. 예를들어 두 개의 부모 클래스로부터 상속을 받은 클래스는 둘 중 어떤 클래스의 메소드를\n",
        "사용하여야할지 결정하지 못하고 충돌하게된다."
      ],
      "execution_count": null,
      "outputs": []
    },
    {
      "cell_type": "code",
      "metadata": {
        "id": "E_ZlKNgkXuxk",
        "outputId": "04ee8849-7811-487a-e110-50bc81a3c13c",
        "colab": {
          "base_uri": "https://localhost:8080/"
        }
      },
      "source": [
        "# ALGORITHM HOMEWORK\n",
        "\n",
        "def ccc(a):                     # 함수 생성\n",
        "\n",
        "  for i in range(0, len(b)):    # b의 길이동안\n",
        "    bb = 0                      # 약수 개수 셀 변수 생성\n",
        "    for j in range(1, b[i]+1):  # b[i]의 값 동안\n",
        "      if b[i] % j == 0:         # 나눠서 약수면 \n",
        "        bb += 1                 # 1 추가\n",
        "    if bb % 2 == 0:             # 약수가 짝수개면\n",
        "      b[i] = 'no'               # 불 꺼짐\n",
        "    else:                       # 약수가 홀수개면\n",
        "      b[i] = 'yes'              # 불 켜짐\n",
        "\n",
        "  b.pop()                       # 마지막 0 뺌\n",
        "  print(\"Sample Output\\n\")      # 아웃풋 출력\n",
        "  for i in b:                   # b 동안\n",
        "    print(i)                    # b 출력\n",
        "\n",
        "\n",
        "\n",
        "b = []                           # 숫자를 받을 리스트\n",
        "a = 1                            # 받는 숫자\n",
        "\n",
        "print(\"Sample Input\\n\")          # 인풋 출력\n",
        "\n",
        "while a > 0:                     # 0이 아니면\n",
        "  a = int(input())               # 받아서\n",
        "  b.append(a)                    # 리스트에 넣어라\n",
        "\n",
        "ccc(b)                           # 함수 호출"
      ],
      "execution_count": 61,
      "outputs": [
        {
          "output_type": "stream",
          "text": [
            "Sample Input\n",
            "\n",
            "3\n",
            "6241\n",
            "8191\n",
            "0\n",
            "Sample Output\n",
            "\n",
            "no\n",
            "yes\n",
            "no\n"
          ],
          "name": "stdout"
        }
      ]
    },
    {
      "cell_type": "code",
      "metadata": {
        "id": "2GQAzQvEidkG"
      },
      "source": [
        ""
      ],
      "execution_count": null,
      "outputs": []
    }
  ]
}