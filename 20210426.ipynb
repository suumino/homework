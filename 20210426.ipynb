{
  "nbformat": 4,
  "nbformat_minor": 0,
  "metadata": {
    "colab": {
      "name": "Colaboratory에 오신 것을 환영합니다",
      "provenance": [],
      "collapsed_sections": [],
      "include_colab_link": true
    },
    "kernelspec": {
      "display_name": "Python 3",
      "name": "python3"
    }
  },
  "cells": [
    {
      "cell_type": "markdown",
      "metadata": {
        "id": "view-in-github",
        "colab_type": "text"
      },
      "source": [
        "<a href=\"https://colab.research.google.com/github/suumino/homework/blob/main/20210426.ipynb\" target=\"_parent\"><img src=\"https://colab.research.google.com/assets/colab-badge.svg\" alt=\"Open In Colab\"/></a>"
      ]
    },
    {
      "cell_type": "code",
      "metadata": {
        "id": "8ZQQuIXpUsff"
      },
      "source": [
        "61. What is an interface in Java?\n",
        "\n",
        "다른 클래스를 작성할 때 틀을 제공하며, 다른 클래스 사이의 중간매개역할을 수행하는 추상 클래스이다.\n",
        "자바의 인터페이스란 동일한 목적 하에 동일한 기능을 보장하게 하기 위해 사용한다."
      ],
      "execution_count": null,
      "outputs": []
    },
    {
      "cell_type": "code",
      "metadata": {
        "id": "Pf0elenzbQuK"
      },
      "source": [
        "62. Is it allowed to mark an interface method as static?\n",
        "\n",
        "인터페이스는 일종의 추상클래스인데, 정적, 최종 메소드는 추상이 될 수 없기 때문에\n",
        "인터페이스를 정적 메소드라고 보기는 어렵다."
      ],
      "execution_count": null,
      "outputs": []
    },
    {
      "cell_type": "code",
      "metadata": {
        "id": "gQsYv5CqUsw9"
      },
      "source": [
        "63. Why an Interface cannot be marked as final in Java?\n",
        "\n",
        "위의 것과 마찬가지로 인터페이스는 추상 클래스인데 최종 메소드는 추상이 될 수 없기 때문에\n",
        "인터페이스를 최종 메소드로 정의할 수 없다."
      ],
      "execution_count": null,
      "outputs": []
    },
    {
      "cell_type": "code",
      "metadata": {
        "id": "zelGY5xCUsz8"
      },
      "source": [
        "64. What is a marker interface?\n",
        "\n",
        "인터페이스와 동일하지만 사실상 아무 메서드도 선언하지 않은 인터페이스를 뜻한다."
      ],
      "execution_count": null,
      "outputs": []
    },
    {
      "cell_type": "code",
      "metadata": {
        "id": "gqN_-fNpUs3M"
      },
      "source": [
        "65. What can we use instead of Marker interface?\n",
        "\n",
        "마커 인터페이스는 사실상 아무 의미 없기 때문에 주석으로 완전히 대체가 가능하다."
      ],
      "execution_count": null,
      "outputs": []
    },
    {
      "cell_type": "code",
      "metadata": {
        "id": "Z-AUu9lCUs6N"
      },
      "source": [
        "66. How Annotations are better than Marker Interfaces?\n",
        "\n",
        "마커 인터페이스와 주석은 별 차이가 없지만, 인터페이스는 자식 클래스에도 영향을 미치지만\n",
        "주석은 자식 클래스에 영향을 미치지 않는다."
      ],
      "execution_count": null,
      "outputs": []
    },
    {
      "cell_type": "code",
      "metadata": {
        "id": "zjm_Gnk2Us9D"
      },
      "source": [
        "67. What is the difference between abstract class and interface in Java?\n",
        "\n",
        "가장 큰 차이점은 인터페이스의 메소드는 추상적이고 구현을 가질 수 없다는 것이다. \n",
        "추상 클래스는 기본 동작을 구현하는 인스턴스 메소드가 있을 수 있다. 또 인터페이스에서 선언된 변수는\n",
        "기본적으로 최종변수이지만, 추상 클래스의 변수는 최종이 아닐 수도 있다."
      ],
      "execution_count": null,
      "outputs": []
    },
    {
      "cell_type": "code",
      "metadata": {
        "id": "l4kqeU8HVLsD"
      },
      "source": [
        "68. Does Java allow us to use private and protexted modifiers for variables in interfaces?\n",
        "\n",
        "private와 protected로 인터페이스에서 변수를 선언하면 오류가 발생한다. 인터페이스에 private이나\n",
        "protected 멤버가 있는 것은 별로 의미는 없다. "
      ],
      "execution_count": null,
      "outputs": []
    },
    {
      "cell_type": "code",
      "metadata": {
        "id": "OukfumvRVLt8"
      },
      "source": [
        "69. How can we cast to an object reference to an interface reference?\n",
        "\n",
        "객체 참조를 인터페이스 참조로 캐스팅할 수 있다."
      ],
      "execution_count": null,
      "outputs": []
    },
    {
      "cell_type": "code",
      "metadata": {
        "id": "cxGRWuYoVLwU"
      },
      "source": [
        "70. How can you change the value of a final variable in Java?\n",
        "\n",
        "자바의 최종 변수는 변경이 불가능하다. 최종 변수를 지정하면 변경할 수 없다."
      ],
      "execution_count": null,
      "outputs": []
    },
    {
      "cell_type": "code",
      "metadata": {
        "id": "71_Pjt94UtAU",
        "outputId": "4679c617-df00-4a6a-9701-77def25c6034",
        "colab": {
          "base_uri": "https://localhost:8080/"
        }
      },
      "source": [
        "# ALGORITHM HOMEWORK\n",
        "\n",
        "def ccc(n):               # 함수 생성\n",
        "  m = reversed(n)         # 받은 숫자를 뒤집는다\n",
        "  a = ''.join(m)          # 뒤집는다\n",
        "  b = ''                  # 빈 문자열 생성\n",
        "  for i in range(len(n)): # 문자열 동안에\n",
        "    b += a[i]             # 끝에부터 빈 문자열에 추가\n",
        "    if i % 3 == 2 and i != len(a)-1:  # 만약 , 이 들어갈 자리고 제일 첫번째가 아니라면\n",
        "      b += \",\"            # 쉼표 추가\n",
        "  a = reversed(b)         # 다시 뒤집는다\n",
        "  m = ''.join(a)          # 뒤집는다\n",
        "  print((m))              # 출력한다\n",
        "\n",
        "n = list(input(\"number : \"))\n",
        "ccc(n)"
      ],
      "execution_count": 42,
      "outputs": [
        {
          "output_type": "stream",
          "text": [
            "number : 12345678\n",
            "12,345,678\n"
          ],
          "name": "stdout"
        }
      ]
    },
    {
      "cell_type": "code",
      "metadata": {
        "id": "arUjZqahWz93",
        "outputId": "c2da685b-cb71-4d90-89da-251897606bfb",
        "colab": {
          "base_uri": "https://localhost:8080/",
          "height": 134
        }
      },
      "source": [
        "|123"
      ],
      "execution_count": 35,
      "outputs": [
        {
          "output_type": "error",
          "ename": "SyntaxError",
          "evalue": "ignored",
          "traceback": [
            "\u001b[0;36m  File \u001b[0;32m\"<ipython-input-35-57e5aaa27358>\"\u001b[0;36m, line \u001b[0;32m1\u001b[0m\n\u001b[0;31m    |123\u001b[0m\n\u001b[0m    ^\u001b[0m\n\u001b[0;31mSyntaxError\u001b[0m\u001b[0;31m:\u001b[0m invalid syntax\n"
          ]
        }
      ]
    },
    {
      "cell_type": "code",
      "metadata": {
        "id": "OA1ivn6cZCd4"
      },
      "source": [
        "12"
      ],
      "execution_count": null,
      "outputs": []
    }
  ]
}