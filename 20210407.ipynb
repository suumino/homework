{
  "nbformat": 4,
  "nbformat_minor": 0,
  "metadata": {
    "colab": {
      "name": "Colaboratory에 오신 것을 환영합니다",
      "provenance": [],
      "collapsed_sections": [],
      "include_colab_link": true
    },
    "kernelspec": {
      "display_name": "Python 3",
      "name": "python3"
    }
  },
  "cells": [
    {
      "cell_type": "markdown",
      "metadata": {
        "id": "view-in-github",
        "colab_type": "text"
      },
      "source": [
        "<a href=\"https://colab.research.google.com/github/suumino/homework/blob/main/20210407.ipynb\" target=\"_parent\"><img src=\"https://colab.research.google.com/assets/colab-badge.svg\" alt=\"Open In Colab\"/></a>"
      ]
    },
    {
      "cell_type": "code",
      "metadata": {
        "id": "ViCgkSPB1L-X"
      },
      "source": [
        "9. Can we write main method as public void static instead of public static void?\n",
        "\n",
        "public static void를 public void static 으로 써도 된다."
      ],
      "execution_count": null,
      "outputs": []
    },
    {
      "cell_type": "code",
      "metadata": {
        "id": "ylRX_Skq2K26"
      },
      "source": [
        "10. In Java, if we do not specify any value for local variables, then what will be \n",
        "the default values of the local variables?\n",
        "\n",
        "undefined 가 나온다."
      ],
      "execution_count": null,
      "outputs": []
    },
    {
      "cell_type": "code",
      "metadata": {
        "id": "NyghZig93d5O"
      },
      "source": [
        "11. Let say, we run a java class without passing any arguments. What will be the \n",
        "value of String array of arguments in Main method?\n",
        "\n",
        "클래스 안에 있는 결과가 나온다. 인수가 없는 클래스도 있다."
      ],
      "execution_count": null,
      "outputs": []
    },
    {
      "cell_type": "code",
      "metadata": {
        "id": "yGji1qOw4rf_"
      },
      "source": [
        "12. What is the difference between byte and char data types in Java?\n",
        "\n",
        "byte는 원시 이진 데이터를 저장하는 데 사용되고, char는 텍스트 데이터를 저장하는 데 사용된다."
      ],
      "execution_count": null,
      "outputs": []
    },
    {
      "cell_type": "code",
      "metadata": {
        "id": "HYVNJR-P6-su",
        "outputId": "d97b4ff3-1635-41ed-ef97-702549b419fe",
        "colab": {
          "base_uri": "https://localhost:8080/"
        }
      },
      "source": [
        "# ALGORITHM HOMEWORK\n",
        "\n",
        "def cnvt(s):                         # 함수 생성\n",
        "  a = ''                             # 빈 문자열\n",
        "  s = list(s)                        # 리스트로 바꿔준다\n",
        "  j = '1234567890'                   # 숫자문자열\n",
        "  for i in range(1, len(s), 2):      # 문자의 길이동안 짝수번째에\n",
        "      if s[i] in j:                  # 만약 숫자라면\n",
        "        s[i:i+1] = ['*']             # 그걸 *로 바꾼다\n",
        "  for i in s:a += i                  # 리스트를 문자열로 바꾼다\n",
        "  return a                           # a 를 반환한다.\n",
        "\n",
        "print(cnvt(\"57uyft43yut89574389\"))   # 출력"
      ],
      "execution_count": 47,
      "outputs": [
        {
          "output_type": "stream",
          "text": [
            "5*uyft4*yut*9*7*3*9\n"
          ],
          "name": "stdout"
        }
      ]
    }
  ]
}