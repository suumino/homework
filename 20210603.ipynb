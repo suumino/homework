{
  "nbformat": 4,
  "nbformat_minor": 0,
  "metadata": {
    "colab": {
      "name": "Colaboratory에 오신 것을 환영합니다",
      "provenance": [],
      "collapsed_sections": [],
      "include_colab_link": true
    },
    "kernelspec": {
      "display_name": "Python 3",
      "name": "python3"
    }
  },
  "cells": [
    {
      "cell_type": "markdown",
      "metadata": {
        "id": "view-in-github",
        "colab_type": "text"
      },
      "source": [
        "<a href=\"https://colab.research.google.com/github/suumino/homework/blob/main/20210603.ipynb\" target=\"_parent\"><img src=\"https://colab.research.google.com/assets/colab-badge.svg\" alt=\"Open In Colab\"/></a>"
      ]
    },
    {
      "cell_type": "code",
      "metadata": {
        "id": "srmsz1ZEKK1Q"
      },
      "source": [
        "321. What is Lock contention in multi-threading?"
      ],
      "execution_count": null,
      "outputs": []
    },
    {
      "cell_type": "code",
      "metadata": {
        "id": "sfcrYiThKK3z"
      },
      "source": [
        "322. What are the techniques to reduce Lock contention?"
      ],
      "execution_count": null,
      "outputs": []
    },
    {
      "cell_type": "code",
      "metadata": {
        "id": "WTOC7YnbKK6Q"
      },
      "source": [
        "323. What technique can be used in following code to reduce Lock contention?"
      ],
      "execution_count": null,
      "outputs": []
    },
    {
      "cell_type": "code",
      "metadata": {
        "id": "VykyK0evKRnW"
      },
      "source": [
        "324. What is Lock splitting technique?"
      ],
      "execution_count": null,
      "outputs": []
    },
    {
      "cell_type": "code",
      "metadata": {
        "id": "h_3IVdv6KRpf"
      },
      "source": [
        "325. Which technique is used in ReadWriteLock class for reducing Lock contention?"
      ],
      "execution_count": null,
      "outputs": []
    },
    {
      "cell_type": "code",
      "metadata": {
        "id": "re2VmbY0KRri"
      },
      "source": [
        "326. What is Lock striping?327. What is a CAS operation?"
      ],
      "execution_count": null,
      "outputs": []
    },
    {
      "cell_type": "code",
      "metadata": {
        "id": "qofD4j36KRtU"
      },
      "source": [
        "328. Which Java classes use CAS operation?"
      ],
      "execution_count": null,
      "outputs": []
    },
    {
      "cell_type": "code",
      "metadata": {
        "id": "Vo1nBz3LKRvR"
      },
      "source": [
        "329. Is it always possible to improve performance by object pooling in a multi-threading application?"
      ],
      "execution_count": null,
      "outputs": []
    },
    {
      "cell_type": "code",
      "metadata": {
        "id": "xgaobfR7KRxA"
      },
      "source": [
        "330. How can techniques used for perfomance improvement in a single thread application \n",
        "may degrade the perfomance in a multi-threading application?"
      ],
      "execution_count": null,
      "outputs": []
    },
    {
      "cell_type": "code",
      "metadata": {
        "id": "jMVq8vMHKRzE",
        "outputId": "cc278b77-235a-4e03-aa91-929b93236bf1",
        "colab": {
          "base_uri": "https://localhost:8080/"
        }
      },
      "source": [
        "def ccc(a):                 # 함수 생성\n",
        "  x = []                    # 짝수번째 저장\n",
        "  y = []                    # 홀수번째 저장\n",
        "  for i in range(len(a)):   # a 동안에\n",
        "    if i % 2 == 0 : x.append(a[i]) # 짝수만 저장\n",
        "    else : y.append(a[i])   # 홀수만 저장\n",
        "  if x >= y: return sum(x)  # X가 크면 x의 합 반환\n",
        "  else : return sum(y)      # y가 크면 y의 합 반환\n",
        "\n",
        "n = int(input())            # n 입력받음\n",
        "a = list(map(int, input().split()))  # a 입력받음\n",
        "print(ccc(a))               # 함수 호출 및 출력\n"
      ],
      "execution_count": 5,
      "outputs": [
        {
          "output_type": "stream",
          "text": [
            "4\n",
            "1 3 1 5\n",
            "8\n"
          ],
          "name": "stdout"
        }
      ]
    },
    {
      "cell_type": "code",
      "metadata": {
        "id": "OTIP8NqdKR1P"
      },
      "source": [
        ""
      ],
      "execution_count": null,
      "outputs": []
    },
    {
      "cell_type": "code",
      "metadata": {
        "id": "ecO3ftorKK80",
        "outputId": "fafff00b-7d24-41f0-e2aa-621fc1ae67cf",
        "colab": {
          "base_uri": "https://localhost:8080/"
        }
      },
      "source": [
        "\n",
        "def ccc(a):               # 함수 생성\n",
        "  i = 2                   # i 는 2\n",
        "  s = 0                   # 합을 더하는 변수\n",
        "  while i <= len(a):      # 길이 동안\n",
        "    if a[i-2] < a [i-1] : # 전꺼랑 그전꺼중 큰거를\n",
        "      s += a[i-1]         # 더하고\n",
        "      i -= 1              # 횟수 1 증가\n",
        "    else :                # 아니면\n",
        "      s += a[i-2]         # 큰거 더함\n",
        "      i -= 2              # 그 인덱스 저장\n",
        "    i += 3                # 3 더해서 반복\n",
        "  return s                # 마지막에 더한거 반환\n",
        "n = int(input())            # n 입력받음\n",
        "a = list(map(int, input().split()))  # a 입력받음\n",
        "print(ccc(a))               # 함수 호출 및"
      ],
      "execution_count": 24,
      "outputs": [
        {
          "output_type": "stream",
          "text": [
            "4\n",
            "1 3 1 5\n",
            "8\n"
          ],
          "name": "stdout"
        }
      ]
    },
    {
      "cell_type": "code",
      "metadata": {
        "id": "F6Rpr8nJsFQe",
        "outputId": "fc1884f9-b6f9-43c9-ac3a-e2b5a172f8ab",
        "colab": {
          "base_uri": "https://localhost:8080/"
        }
      },
      "source": [
        "1\n",
        "n = int(input())\n",
        "\n",
        "array = list(map(int, input().split()))\n",
        "\n",
        "d = [0] * 100\n",
        "\n",
        "\n",
        "d[0] = array[0]\n",
        "d[1] = max(array[0], array[1])\n",
        "for i in range(2, n):\n",
        "  d[i] = max(d[i - 1], d[i - 2] + array[i])\n",
        "\n",
        "print(d[n - 1])"
      ],
      "execution_count": 15,
      "outputs": [
        {
          "output_type": "stream",
          "text": [
            "4\n",
            "1 3 1 5\n",
            "8\n"
          ],
          "name": "stdout"
        }
      ]
    },
    {
      "cell_type": "code",
      "metadata": {
        "id": "8lxukn9dtcY4",
        "outputId": "61e8978b-be76-45f7-e6c4-80d305ed3dfc",
        "colab": {
          "base_uri": "https://localhost:8080/"
        }
      },
      "source": [
        "\n",
        "def ccc(a):               # 함수 생성\n",
        "  i = 1                   # i 는 2\n",
        "  s = 0                   # 합을 더하는 변수\n",
        "  while i <= len(a)-2:      # 길이 동안\n",
        "    if a[i-1] < a [i] : # 전꺼랑 그전꺼중 큰거를\n",
        "      s += a[i]         # 더하고\n",
        "    else :\n",
        "      s += a[i-1]\n",
        "      i -= 1\n",
        "    i += 3\n",
        "    if i == len(a) -2:\n",
        "      s += a[i-1]\n",
        "  return s\n",
        "n = int(input())            # n 입력받음\n",
        "a = list(map(int, input().split()))  # a 입력받음\n",
        "print(ccc(a))               # 함수 호출 및"
      ],
      "execution_count": 23,
      "outputs": [
        {
          "output_type": "stream",
          "text": [
            "5\n",
            "3 2 4 5 1\n",
            "12\n"
          ],
          "name": "stdout"
        }
      ]
    },
    {
      "cell_type": "code",
      "metadata": {
        "id": "J9h6e_u2uUz5"
      },
      "source": [
        ""
      ],
      "execution_count": 19,
      "outputs": []
    }
  ]
}