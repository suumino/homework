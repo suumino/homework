{
  "nbformat": 4,
  "nbformat_minor": 0,
  "metadata": {
    "colab": {
      "name": "Colaboratory에 오신 것을 환영합니다",
      "provenance": [],
      "collapsed_sections": [],
      "include_colab_link": true
    },
    "kernelspec": {
      "display_name": "Python 3",
      "name": "python3"
    }
  },
  "cells": [
    {
      "cell_type": "markdown",
      "metadata": {
        "id": "view-in-github",
        "colab_type": "text"
      },
      "source": [
        "<a href=\"https://colab.research.google.com/github/suumino/homework/blob/main/20210603.ipynb\" target=\"_parent\"><img src=\"https://colab.research.google.com/assets/colab-badge.svg\" alt=\"Open In Colab\"/></a>"
      ]
    },
    {
      "cell_type": "code",
      "metadata": {
        "id": "srmsz1ZEKK1Q"
      },
      "source": [
        "321. What is Lock contention in multi-threading?\n",
        "\n",
        "잠금경합은 한 스레드가 다른 스레드가 보유하고있는 잠금을 기다리고 있는 상황을 말한다.\n",
        "대기중인 스레드는 그 객체에 대한 잠금이 해제될때까지 객체를 사용할 수 없다."
      ],
      "execution_count": null,
      "outputs": []
    },
    {
      "cell_type": "code",
      "metadata": {
        "id": "sfcrYiThKK3z"
      },
      "source": [
        "322. What are the techniques to reduce Lock contention?\n",
        "\n",
        "코드가 아닌 데이터를 보호한다. 전체 함수의 호출을 잠금하면 엑세스로부터 보호된다.\n",
        "아니면 잠금상태에서 중요한 값을 제거하면 된다. 또는 동기화된 데이터 구조를 사용하면\n",
        "잠금에 대한 걱정 없이 스레드를 동기화할 수 있다."
      ],
      "execution_count": null,
      "outputs": []
    },
    {
      "cell_type": "code",
      "metadata": {
        "id": "WTOC7YnbKK6Q"
      },
      "source": [
        "323. What technique can be used in following code to reduce Lock contention?\n",
        "\n",
        "값들을 블록 밖으로 이동시키면 lock contention을 줄일 수 있다."
      ],
      "execution_count": null,
      "outputs": []
    },
    {
      "cell_type": "code",
      "metadata": {
        "id": "VykyK0evKRnW"
      },
      "source": [
        "324. What is Lock splitting technique?\n",
        "\n",
        "잠금 분할 기능은 클래스의 다른 부분은 서로 다른 잠금을 사용하는 것이다."
      ],
      "execution_count": null,
      "outputs": []
    },
    {
      "cell_type": "code",
      "metadata": {
        "id": "h_3IVdv6KRpf"
      },
      "source": [
        "325. Which technique is used in ReadWriteLock class for reducing Lock contention?\n",
        "\n",
        "잠금이 유지되는 기간을 줄이거나 잠금이 요청되는 빈도를 줄인다. 또는\n",
        "더 큰 동시성으르 허용하는 조정메커니즘으로 독점 잠금을 예방할 수 있다."
      ],
      "execution_count": null,
      "outputs": []
    },
    {
      "cell_type": "code",
      "metadata": {
        "id": "re2VmbY0KRri"
      },
      "source": [
        "326. What is Lock striping?\n",
        "\n",
        "lock striping은 여러 버킷 또는 스트라이프에서 잠금이 발생하는 것이다. 버킷에\n",
        "접근하게 되면 해당 버킷만 잠긴다."
      ],
      "execution_count": null,
      "outputs": []
    },
    {
      "cell_type": "code",
      "metadata": {
        "id": "4iN_uk1QyOHG"
      },
      "source": [
        "327. What is a CAS operation?\n",
        "\n",
        "Campare-and-swap은 동기화를 달성하기 위해 멀티 스레딩에 사용되는 명령어이다.\n",
        "메모리위치의 내용을 주어진 값과 비교하고 동일한 경우에만 해당 메모리 위치의\n",
        "내용을 새로 주어진 값으로 수정한다."
      ],
      "execution_count": null,
      "outputs": []
    },
    {
      "cell_type": "code",
      "metadata": {
        "id": "qofD4j36KRtU"
      },
      "source": [
        "328. Which Java classes use CAS operation?\n",
        "\n",
        "AtomicInteger와 AtomicLong은 CAS를 사용한다. "
      ],
      "execution_count": null,
      "outputs": []
    },
    {
      "cell_type": "code",
      "metadata": {
        "id": "Vo1nBz3LKRvR"
      },
      "source": [
        "329. Is it always possible to improve performance by object pooling in a multi-threading application?\n",
        "\n",
        "개체풀을 사용하여 생성할 개체의 수를 제한한다. 단일 스레드에서 개체를 재사용하여 성능을 향상시킬 수 있다.\n",
        "다중 스레딩은 여러 스레드에 대한 동기화된 엑세스를 제공해야한다."
      ],
      "execution_count": null,
      "outputs": []
    },
    {
      "cell_type": "code",
      "metadata": {
        "id": "xgaobfR7KRxA"
      },
      "source": [
        "330. How can techniques used for perfomance improvement in a single thread application \n",
        "may degrade the performance in a multi-threading application?\n",
        "\n",
        "단일 스레드에서 개체풀을 사용하면 성능이 최적화되지만, 다중 스레딩 환경에서 같이 사용하는것은 좋지 않다.\n",
        "동기화와 잠금 경합의 오버헤드가 증가하면 성능이 저하될 수 있다. \n",
        "list가 요소 수를 유지하기 위해 변수를 유지하도록 하면, size()메소드를 사용하는데\n",
        "단일 스레드에서는 매우 유용하지만 다중 스레딩에서는 오히려 성능을 저하시킬 수 있다.\n",
        "여러 스레드에 요소가 삽입될 수 있기 때문이다."
      ],
      "execution_count": null,
      "outputs": []
    },
    {
      "cell_type": "code",
      "metadata": {
        "id": "jMVq8vMHKRzE",
        "colab": {
          "base_uri": "https://localhost:8080/"
        },
        "outputId": "cc278b77-235a-4e03-aa91-929b93236bf1"
      },
      "source": [
        "def ccc(a):                 # 함수 생성\n",
        "  x = []                    # 짝수번째 저장\n",
        "  y = []                    # 홀수번째 저장\n",
        "  for i in range(len(a)):   # a 동안에\n",
        "    if i % 2 == 0 : x.append(a[i]) # 짝수만 저장\n",
        "    else : y.append(a[i])   # 홀수만 저장\n",
        "  if x >= y: return sum(x)  # X가 크면 x의 합 반환\n",
        "  else : return sum(y)      # y가 크면 y의 합 반환\n",
        "\n",
        "n = int(input())            # n 입력받음\n",
        "a = list(map(int, input().split()))  # a 입력받음\n",
        "print(ccc(a))               # 함수 호출 및 출력\n"
      ],
      "execution_count": null,
      "outputs": [
        {
          "output_type": "stream",
          "text": [
            "4\n",
            "1 3 1 5\n",
            "8\n"
          ],
          "name": "stdout"
        }
      ]
    },
    {
      "cell_type": "code",
      "metadata": {
        "id": "OTIP8NqdKR1P"
      },
      "source": [
        ""
      ],
      "execution_count": null,
      "outputs": []
    },
    {
      "cell_type": "code",
      "metadata": {
        "id": "ecO3ftorKK80",
        "colab": {
          "base_uri": "https://localhost:8080/"
        },
        "outputId": "fafff00b-7d24-41f0-e2aa-621fc1ae67cf"
      },
      "source": [
        "\n",
        "def ccc(a):               # 함수 생성\n",
        "  i = 2                   # i 는 2\n",
        "  s = 0                   # 합을 더하는 변수\n",
        "  while i <= len(a):      # 길이 동안\n",
        "    if a[i-2] < a [i-1] : # 전꺼랑 그전꺼중 큰거를\n",
        "      s += a[i-1]         # 더하고\n",
        "      i -= 1              # 횟수 1 증가\n",
        "    else :                # 아니면\n",
        "      s += a[i-2]         # 큰거 더함\n",
        "      i -= 2              # 그 인덱스 저장\n",
        "    i += 3                # 3 더해서 반복\n",
        "  return s                # 마지막에 더한거 반환\n",
        "n = int(input())            # n 입력받음\n",
        "a = list(map(int, input().split()))  # a 입력받음\n",
        "print(ccc(a))               # 함수 호출 및"
      ],
      "execution_count": null,
      "outputs": [
        {
          "output_type": "stream",
          "text": [
            "4\n",
            "1 3 1 5\n",
            "8\n"
          ],
          "name": "stdout"
        }
      ]
    },
    {
      "cell_type": "code",
      "metadata": {
        "id": "F6Rpr8nJsFQe",
        "colab": {
          "base_uri": "https://localhost:8080/"
        },
        "outputId": "fc1884f9-b6f9-43c9-ac3a-e2b5a172f8ab"
      },
      "source": [
        "1\n",
        "n = int(input())\n",
        "\n",
        "array = list(map(int, input().split()))\n",
        "\n",
        "d = [0] * 100\n",
        "\n",
        "\n",
        "d[0] = array[0]\n",
        "d[1] = max(array[0], array[1])\n",
        "for i in range(2, n):\n",
        "  d[i] = max(d[i - 1], d[i - 2] + array[i])\n",
        "\n",
        "print(d[n - 1])"
      ],
      "execution_count": null,
      "outputs": [
        {
          "output_type": "stream",
          "text": [
            "4\n",
            "1 3 1 5\n",
            "8\n"
          ],
          "name": "stdout"
        }
      ]
    },
    {
      "cell_type": "code",
      "metadata": {
        "id": "8lxukn9dtcY4",
        "colab": {
          "base_uri": "https://localhost:8080/"
        },
        "outputId": "61e8978b-be76-45f7-e6c4-80d305ed3dfc"
      },
      "source": [
        "\n",
        "def ccc(a):               # 함수 생성\n",
        "  i = 1                   # i 는 2\n",
        "  s = 0                   # 합을 더하는 변수\n",
        "  while i <= len(a)-2:      # 길이 동안\n",
        "    if a[i-1] < a [i] : # 전꺼랑 그전꺼중 큰거를\n",
        "      s += a[i]         # 더하고\n",
        "    else :\n",
        "      s += a[i-1]\n",
        "      i -= 1\n",
        "    i += 3\n",
        "    if i == len(a) -2:\n",
        "      s += a[i-1]\n",
        "  return s\n",
        "n = int(input())            # n 입력받음\n",
        "a = list(map(int, input().split()))  # a 입력받음\n",
        "print(ccc(a))               # 함수 호출 및"
      ],
      "execution_count": null,
      "outputs": [
        {
          "output_type": "stream",
          "text": [
            "5\n",
            "3 2 4 5 1\n",
            "12\n"
          ],
          "name": "stdout"
        }
      ]
    },
    {
      "cell_type": "code",
      "metadata": {
        "id": "J9h6e_u2uUz5"
      },
      "source": [
        ""
      ],
      "execution_count": null,
      "outputs": []
    }
  ]
}