{
  "nbformat": 4,
  "nbformat_minor": 0,
  "metadata": {
    "colab": {
      "name": "Colaboratory에 오신 것을 환영합니다",
      "provenance": [],
      "collapsed_sections": [],
      "include_colab_link": true
    },
    "kernelspec": {
      "display_name": "Python 3",
      "name": "python3"
    }
  },
  "cells": [
    {
      "cell_type": "markdown",
      "metadata": {
        "id": "view-in-github",
        "colab_type": "text"
      },
      "source": [
        "<a href=\"https://colab.research.google.com/github/suumino/homework/blob/main/20210607.ipynb\" target=\"_parent\"><img src=\"https://colab.research.google.com/assets/colab-badge.svg\" alt=\"Open In Colab\"/></a>"
      ]
    },
    {
      "cell_type": "code",
      "metadata": {
        "id": "-s16r-vip_l6",
        "outputId": "7f2373b2-1918-4d56-bf22-c905c745b2b9",
        "colab": {
          "base_uri": "https://localhost:8080/"
        }
      },
      "source": [
        "import random                                  # 랜덤 쓸거임\n",
        "\n",
        "def ccc():                                     # 처음에 랜덤한 숫자를 뽑는 함수 만든다\n",
        "  lis = [1, 2, 3, 4, 5, 6, 7, 8, 9, 0]         # 숫자들 중에서\n",
        "  secret = random.sample(lis, 4)               # 랜덤으로 4개 중복없이 뽑아서\n",
        "  return secret                                # 반환한다\n",
        "\n",
        "def commu(secret):                             # 입력값을 랜덤숫자와 비교하는 함수를 만든다\n",
        "  guess = list(map(int, input(\"input 4 numbers : \")))    # 입력받는다\n",
        "  secret = tuple(secret)                       # 랜덤숫자는 튜플로 바꿀 수 없게 지정한다\n",
        "  se = list(secret)                            # 이건 힌트를 주기 위한 임시 랜덤숫자이다\n",
        "\n",
        "  hint = [0, 0]                                # 힌트의 [0]은 위치와 값이 모두 같은거, [1]은 값만 같은거의 개수이다\n",
        "  for i in range(4):                           # 4개 숫자중에\n",
        "    if se[i] == guess[i] :                     # 값과 위치가 모두 같다면\n",
        "      hint[0] += 1                             # [0]에 1을 더해라\n",
        "      se[i]='z'                                # 그리고 중복을 피하기 위해 그 숫자를 z로 만들어라\n",
        "    elif se[i] != guess[i] and guess[i] in se :# 만약 그 숫자가 위치는 다르지만 값이 같다면\n",
        "      hint[1] += 1                             # [1]에 1을 더해라\n",
        "      se[se.index(guess[i])]='z'               # 그리고 그 값을 임시 랜덤숫자에서 z로 만들어라\n",
        "  return hint                                  # 힌트를 반환해라\n",
        "\n",
        "secret = ccc()                                    # 랜덤숫자를 받아라\n",
        "\n",
        "a = [0, 0]                                        # A값은 일단 초기화시킨다\n",
        "try:                                              # 만약 에러가 나면\n",
        "  for i in range(0, 10):                          # 10번의 횟수동안\n",
        "    if a[0] != 4:                                 # 모든것이 bulls가 아니라면(=위치와 값이 모두 같지 않으면)\n",
        "      a = commu(secret)                           # 다시한번 commu함수를 불러라\n",
        "      print(a[0],'A',a[1],'B')                    # 그리고 힌트를 반환해라\n",
        "      if i == 9:                                  # 만약 횟수 안에 못맞춘다면\n",
        "        print('실패하셨습니다. 정답은',secret,'입니다.') # 실패를 알리고 정답을 알려줘라\n",
        "    elif a[0] == 4:                               # 만약 모든 값이 일치한다면\n",
        "      print(i+1, '회만에 성공했습니다.')          # 성공여부를 알려라\n",
        "      break                                       # 그리고 실패를 반환해라\n",
        "except IndexError :                               # 인덱스 에러가 나면\n",
        "  print('잘못입력하셨어요')                       # 잘못 입력했다고 하고 게임을 끝내라\n"
      ],
      "execution_count": 18,
      "outputs": [
        {
          "output_type": "stream",
          "text": [
            "input 4 numbers : 1234\n",
            "2 A 0 B\n",
            "input 4 numbers : 1256\n",
            "0 A 1 B\n",
            "input 4 numbers : 2345\n",
            "0 A 2 B\n",
            "input 4 numbers : 7238\n",
            "1 A 0 B\n",
            "input 4 numbers : 8964\n",
            "1 A 2 B\n",
            "input 4 numbers : 7234\n",
            "2 A 0 B\n",
            "input 4 numbers : 8234\n",
            "2 A 0 B\n",
            "input 4 numbers : 9234\n",
            "3 A 0 B\n",
            "input 4 numbers : 9284\n",
            "2 A 0 B\n",
            "input 4 numbers : 9134\n",
            "3 A 0 B\n",
            "실패하셨습니다. 정답은 [9, 6, 3, 4] 입니다.\n"
          ],
          "name": "stdout"
        }
      ]
    },
    {
      "cell_type": "code",
      "metadata": {
        "id": "c4wTFtG28TZI"
      },
      "source": [
        ""
      ],
      "execution_count": null,
      "outputs": []
    },
    {
      "cell_type": "code",
      "metadata": {
        "id": "DrjcK1NOrvrY"
      },
      "source": [
        "123 "
      ],
      "execution_count": 1,
      "outputs": []
    }
  ]
}