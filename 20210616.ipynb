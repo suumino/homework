{
  "nbformat": 4,
  "nbformat_minor": 0,
  "metadata": {
    "colab": {
      "name": "Colaboratory에 오신 것을 환영합니다",
      "provenance": [],
      "collapsed_sections": [],
      "include_colab_link": true
    },
    "kernelspec": {
      "display_name": "Python 3",
      "name": "python3"
    }
  },
  "cells": [
    {
      "cell_type": "markdown",
      "metadata": {
        "id": "view-in-github",
        "colab_type": "text"
      },
      "source": [
        "<a href=\"https://colab.research.google.com/github/suumino/homework/blob/main/20210616.ipynb\" target=\"_parent\"><img src=\"https://colab.research.google.com/assets/colab-badge.svg\" alt=\"Open In Colab\"/></a>"
      ]
    },
    {
      "cell_type": "code",
      "metadata": {
        "id": "rr7Y5ZwFAH5c"
      },
      "source": [
        "421. How can you convert an Array of bytes to String?\n",
        "\n",
        "바이트를 문자열로 전환하는 방법은 두가지다.\n",
        "String 클래스 생성자를 사용하던가 UTF-8 인코딩을 사용하는 것이다."
      ],
      "execution_count": null,
      "outputs": []
    },
    {
      "cell_type": "code",
      "metadata": {
        "id": "AC2l7_WZEM6G"
      },
      "source": [
        "422. What is difference between CyclicBarrier and CountDownLatch class?\n",
        "\n",
        "CyclicBarrier는 여러 스레드가 서로를 대기하도록 하고, CountDownLatch는 하나 이상의 스레드가\n",
        "여러 작업이 완료될때까지 대기하도록 허용한다."
      ],
      "execution_count": null,
      "outputs": []
    },
    {
      "cell_type": "code",
      "metadata": {
        "id": "O3M5pt2KAH9z"
      },
      "source": [
        "423. What is the difference between StringBuffer and StringBuilder?\n",
        "\n",
        "StringBuilder는 스레드로부터 안전하지 않고 빠르고, 문자열을 변경할 수 없지만,\n",
        "StringBuffer는 문자열이 변경 가능하고 동기화도 된다."
      ],
      "execution_count": null,
      "outputs": []
    },
    {
      "cell_type": "code",
      "metadata": {
        "id": "Tz-2z8uoAH_1"
      },
      "source": [
        "424. Which class contains clone method? Cloneable or object class?\n",
        "\n",
        "clone()은 shallow copy의 기본 구현을 가지고 있고, 인터페이스는 구현을 포함하지 않는다.\n",
        "때문에 객체 클래스에 배치되고 마커 인터페이스로 메소드 없이 복제 가능하다. "
      ],
      "execution_count": null,
      "outputs": []
    },
    {
      "cell_type": "code",
      "metadata": {
        "id": "7o1VL8LKAICR"
      },
      "source": [
        "425. How will you take thread dump in Java?\n",
        "\n",
        "스레드덤은 작업관리자에서 프로세스ID를 찾는다. 그리고 jstack <pid>를 실행하여\n",
        "단일 스레드 덤프를 캡쳐하면 된다. 이 명령은 프로레스 ID<pid> 의 스레드덤프를 하나 가져온다. "
      ],
      "execution_count": null,
      "outputs": []
    },
    {
      "cell_type": "code",
      "metadata": {
        "id": "Eh9e3EUQAjGS"
      },
      "source": [
        "426. Can you cast an int variable into a byte variable? What happens if the value of int is larger than byte?\n",
        "\n",
        "정수 부분이 바이트 범위보다 크다면 모듈로 바이트 범위가 줄어든다. 인트를 바이트로 캐스팅 할 수 있다."
      ],
      "execution_count": null,
      "outputs": []
    },
    {
      "cell_type": "code",
      "metadata": {
        "id": "6NSGdVinAjIl"
      },
      "source": [
        "427. In Java? can we store a double value in a long variable without explicit casting?\n",
        "\n",
        "double의 범위가 long보다 크기 때문에 캐스트 하지 않고는 long에 double을 저장할 수는 없다."
      ],
      "execution_count": null,
      "outputs": []
    },
    {
      "cell_type": "code",
      "metadata": {
        "id": "k-A_y2vXAjKy"
      },
      "source": [
        "428. What will this return 5*0.1 == 0.5? true or false?\n",
        "\n",
        "treu이다. 왜냐하면 내가 방금 실행시켰는데 yes라고 나왔다."
      ],
      "execution_count": null,
      "outputs": []
    },
    {
      "cell_type": "code",
      "metadata": {
        "id": "qrpxgLxrAjNH"
      },
      "source": [
        "429. Out of an int and Integer, which one takes more memory?\n",
        "\n",
        "integer가 더 크다. 왜냐하면 int는 언어나 하드웨어 환경의 정의에 의해 제한되기 때문이다."
      ],
      "execution_count": null,
      "outputs": []
    },
    {
      "cell_type": "code",
      "metadata": {
        "id": "f73Oz1pmAjPQ"
      },
      "source": [
        "430. Can we use String in the switch case statement in Java?\n",
        "\n",
        "된다. 스위치 케이스는 null이 아니면 된다. 대소문자를 구분하니 조심해야한다."
      ],
      "execution_count": null,
      "outputs": []
    },
    {
      "cell_type": "code",
      "metadata": {
        "id": "Gl9iR0_tAjRn",
        "outputId": "f86ae3ff-a6cf-4b0c-c33d-7ace1a272003",
        "colab": {
          "base_uri": "https://localhost:8080/"
        }
      },
      "source": [
        "def ccc(m):                       # 함수 생성\n",
        "  c = 0                           # 경우의 수를 셀 변수 생성\n",
        "  for i in range(len(m)-1):       # 길이동안\n",
        "    for j in range(i+1, len(m)):  # 남은 길이동안\n",
        "      if m[i] != m[j]: c += 1     # 두개 비교해서 다르면 경우의수 1 추가\n",
        "  return c                        # 경우의수 반환\n",
        "\n",
        "\n",
        "n = list(map(int, input('input n : ').split()))   # 입력받음\n",
        "m = list(map(int, input('input m: ').split()))    # 입력받음\n",
        "ccc(m)                             # 함수 호출"
      ],
      "execution_count": 3,
      "outputs": [
        {
          "output_type": "stream",
          "text": [
            "input n : 8 5\n",
            "input m: 1 5 4 3 2 4 5 2\n"
          ],
          "name": "stdout"
        },
        {
          "output_type": "execute_result",
          "data": {
            "text/plain": [
              "25"
            ]
          },
          "metadata": {
            "tags": []
          },
          "execution_count": 3
        }
      ]
    },
    {
      "cell_type": "code",
      "metadata": {
        "id": "0QjIJKspDQL0"
      },
      "source": [
        ""
      ],
      "execution_count": null,
      "outputs": []
    }
  ]
}