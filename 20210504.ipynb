{
  "nbformat": 4,
  "nbformat_minor": 0,
  "metadata": {
    "colab": {
      "name": "Colaboratory에 오신 것을 환영합니다",
      "provenance": [],
      "collapsed_sections": [],
      "include_colab_link": true
    },
    "kernelspec": {
      "display_name": "Python 3",
      "name": "python3"
    }
  },
  "cells": [
    {
      "cell_type": "markdown",
      "metadata": {
        "id": "view-in-github",
        "colab_type": "text"
      },
      "source": [
        "<a href=\"https://colab.research.google.com/github/suumino/homework/blob/main/20210504.ipynb\" target=\"_parent\"><img src=\"https://colab.research.google.com/assets/colab-badge.svg\" alt=\"Open In Colab\"/></a>"
      ]
    },
    {
      "cell_type": "code",
      "metadata": {
        "id": "DscVNQbSeRaG"
      },
      "source": [
        "111. What are the uses of Runtime class?\n",
        "\n",
        "런타임 클래스는 엑세스를 제공한다. 메모리 가용성, GC 호출 등과 같은 정보에 접근할 수 있다."
      ],
      "execution_count": null,
      "outputs": []
    },
    {
      "cell_type": "code",
      "metadata": {
        "id": "E5kEEB5leRb1"
      },
      "source": [
        "112. What is a Nested class?\n",
        "\n",
        "중첩 클래스는 private로 선언된 경우에도 클래스의 다른 멤버에 엑세스 할 수 있다.\n",
        "외부 클래스의 다른 멤버에 엑세스할 수 없다."
      ],
      "execution_count": null,
      "outputs": []
    },
    {
      "cell_type": "code",
      "metadata": {
        "id": "IYdgRk-eeRd5"
      },
      "source": [
        "113. How many types of Nested classes are in Java?\n",
        "\n",
        "비 정적 중첩 클래스와 정적 중첩 클래스가 있다.\n",
        "비정적 중첩 클래스는 내부 클래스이고 클래스 및 외부 메서드 내에서 생성된 클래스이다.\n",
        "인터페이스를 구현하거나 클래스를 확장하기 위해 생성된 클래스이다."
      ],
      "execution_count": null,
      "outputs": []
    },
    {
      "cell_type": "code",
      "metadata": {
        "id": "sbojXmrJeRgF"
      },
      "source": [
        "114. Why do we use Nested Classes?\n",
        "\n",
        "중첩 클래스를 사용하면 한 곳에서만 사용되는 클래스를 논리적으로 그룹화하고 더 읽기 쉽고\n",
        "유지 관리가 쉬운 코드를 만들 수 있다."
      ],
      "execution_count": null,
      "outputs": []
    },
    {
      "cell_type": "code",
      "metadata": {
        "id": "HRlpvqq2eRiI"
      },
      "source": [
        "115. What is the difference between a Nested class and an Inner class in\n",
        "\n",
        "중첩 클래스는 컨테이너 클래스의 인스턴트에 접근할 수 있지마나, 정적 내부 클래스는 인스턴스에 접근할 수 없다는 것이다."
      ],
      "execution_count": null,
      "outputs": []
    },
    {
      "cell_type": "code",
      "metadata": {
        "id": "P48sRnH3eRkA"
      },
      "source": [
        "116. What is a Nested interface?\n",
        "\n",
        "다른 인터페이스나 클래스 내에서 선언된 인터페이스를 중첩 인터페이스라고 한다. 중첩된 인터페이스는 직접\n",
        "접근이 불가능하기 때문에 주로 관련 인터페이스들과 네임스페이스를 해결하는 것이다."
      ],
      "execution_count": null,
      "outputs": []
    },
    {
      "cell_type": "code",
      "metadata": {
        "id": "UYzeDGj2eRmB"
      },
      "source": [
        "117. How can we access the non-final local variable, inside a Local Inner class?\n",
        "\n",
        "굳이 접근하기 위해서는 객체를 생성해야 한다."
      ],
      "execution_count": null,
      "outputs": []
    },
    {
      "cell_type": "code",
      "metadata": {
        "id": "nzPsXcbGeRoI"
      },
      "source": [
        "118. Can an Interface be defined in a Class?\n",
        "\n",
        "클래스 내부에서 인터페이스를 정의할 수 있고, 이것을 중첩 인터페이스라고 한다. \n",
        "중첩 인터페이스에는 직접 접근이 불가능하다. 내부 클래스를 사용하거나 클래스 이름을 사용하여\n",
        "접근할 수 있다."
      ],
      "execution_count": null,
      "outputs": []
    },
    {
      "cell_type": "code",
      "metadata": {
        "id": "xGTia7gVeRqY"
      },
      "source": [
        "119. Do we have to explicitly mark a Nested Interface public static?\n",
        "\n",
        "기본적으로 static 이다. 중복이기때문에 꼭 정적으로 표시할 이유가 없다."
      ],
      "execution_count": null,
      "outputs": []
    },
    {
      "cell_type": "code",
      "metadata": {
        "id": "Qv-amXDMeRse"
      },
      "source": [
        "120. Why do we use Static Nested interface in Java?\n",
        "\n",
        "외부클래스에서만 사용할 것으로 예상되는 경우 중첩 인터페이스를 만드는 것이 좋다."
      ],
      "execution_count": null,
      "outputs": []
    },
    {
      "cell_type": "code",
      "metadata": {
        "id": "lZOesgsHeRuy",
        "outputId": "2c94a0cb-4b2f-4461-d2e6-faa967c2fd9a",
        "colab": {
          "base_uri": "https://localhost:8080/",
          "height": 507
        }
      },
      "source": [
        "# ALGORITHM HOMEWORK\n",
        "\n",
        "def ccc(p, d):\n",
        "  c = 0\n",
        "  while len(p) > 0:\n",
        "    for i in range(len(p)):\n",
        "      if p[i] == min(p):\n",
        "        p.pop(i)\n",
        "        if i < d:\n",
        "          d -=1\n",
        "          i -= 1\n",
        "      \n",
        "      c += 1\n",
        "      print(c)\n",
        "      print(p)\n",
        "\n",
        "  return c\n",
        "\n",
        "\n",
        "\n",
        "p = list(map(int, input(\"point : \").split()))\n",
        "d = int(input(\"dish : \"))\n",
        "print(ccc(p, d))"
      ],
      "execution_count": 47,
      "outputs": [
        {
          "output_type": "stream",
          "text": [
            "point : 1 1 3 2 5\n",
            "dish : 3\n",
            "1\n",
            "[1, 3, 2, 5]\n",
            "2\n",
            "[1, 3, 2, 5]\n",
            "3\n",
            "[1, 3, 2, 5]\n",
            "4\n",
            "[1, 3, 2, 5]\n"
          ],
          "name": "stdout"
        },
        {
          "output_type": "error",
          "ename": "IndexError",
          "evalue": "ignored",
          "traceback": [
            "\u001b[0;31m---------------------------------------------------------------------------\u001b[0m",
            "\u001b[0;31mIndexError\u001b[0m                                Traceback (most recent call last)",
            "\u001b[0;32m<ipython-input-47-37c582d3c9b9>\u001b[0m in \u001b[0;36m<module>\u001b[0;34m()\u001b[0m\n\u001b[1;32m     21\u001b[0m \u001b[0mp\u001b[0m \u001b[0;34m=\u001b[0m \u001b[0mlist\u001b[0m\u001b[0;34m(\u001b[0m\u001b[0mmap\u001b[0m\u001b[0;34m(\u001b[0m\u001b[0mint\u001b[0m\u001b[0;34m,\u001b[0m \u001b[0minput\u001b[0m\u001b[0;34m(\u001b[0m\u001b[0;34m\"point : \"\u001b[0m\u001b[0;34m)\u001b[0m\u001b[0;34m.\u001b[0m\u001b[0msplit\u001b[0m\u001b[0;34m(\u001b[0m\u001b[0;34m)\u001b[0m\u001b[0;34m)\u001b[0m\u001b[0;34m)\u001b[0m\u001b[0;34m\u001b[0m\u001b[0;34m\u001b[0m\u001b[0m\n\u001b[1;32m     22\u001b[0m \u001b[0md\u001b[0m \u001b[0;34m=\u001b[0m \u001b[0mint\u001b[0m\u001b[0;34m(\u001b[0m\u001b[0minput\u001b[0m\u001b[0;34m(\u001b[0m\u001b[0;34m\"dish : \"\u001b[0m\u001b[0;34m)\u001b[0m\u001b[0;34m)\u001b[0m\u001b[0;34m\u001b[0m\u001b[0;34m\u001b[0m\u001b[0m\n\u001b[0;32m---> 23\u001b[0;31m \u001b[0mprint\u001b[0m\u001b[0;34m(\u001b[0m\u001b[0mccc\u001b[0m\u001b[0;34m(\u001b[0m\u001b[0mp\u001b[0m\u001b[0;34m,\u001b[0m \u001b[0md\u001b[0m\u001b[0;34m)\u001b[0m\u001b[0;34m)\u001b[0m\u001b[0;34m\u001b[0m\u001b[0;34m\u001b[0m\u001b[0m\n\u001b[0m",
            "\u001b[0;32m<ipython-input-47-37c582d3c9b9>\u001b[0m in \u001b[0;36mccc\u001b[0;34m(p, d)\u001b[0m\n\u001b[1;32m      5\u001b[0m   \u001b[0;32mwhile\u001b[0m \u001b[0mlen\u001b[0m\u001b[0;34m(\u001b[0m\u001b[0mp\u001b[0m\u001b[0;34m)\u001b[0m \u001b[0;34m>\u001b[0m \u001b[0;36m0\u001b[0m\u001b[0;34m:\u001b[0m\u001b[0;34m\u001b[0m\u001b[0;34m\u001b[0m\u001b[0m\n\u001b[1;32m      6\u001b[0m     \u001b[0;32mfor\u001b[0m \u001b[0mi\u001b[0m \u001b[0;32min\u001b[0m \u001b[0mrange\u001b[0m\u001b[0;34m(\u001b[0m\u001b[0mlen\u001b[0m\u001b[0;34m(\u001b[0m\u001b[0mp\u001b[0m\u001b[0;34m)\u001b[0m\u001b[0;34m)\u001b[0m\u001b[0;34m:\u001b[0m\u001b[0;34m\u001b[0m\u001b[0;34m\u001b[0m\u001b[0m\n\u001b[0;32m----> 7\u001b[0;31m       \u001b[0;32mif\u001b[0m \u001b[0mp\u001b[0m\u001b[0;34m[\u001b[0m\u001b[0mi\u001b[0m\u001b[0;34m]\u001b[0m \u001b[0;34m==\u001b[0m \u001b[0mmin\u001b[0m\u001b[0;34m(\u001b[0m\u001b[0mp\u001b[0m\u001b[0;34m)\u001b[0m\u001b[0;34m:\u001b[0m\u001b[0;34m\u001b[0m\u001b[0;34m\u001b[0m\u001b[0m\n\u001b[0m\u001b[1;32m      8\u001b[0m         \u001b[0mp\u001b[0m\u001b[0;34m.\u001b[0m\u001b[0mpop\u001b[0m\u001b[0;34m(\u001b[0m\u001b[0mi\u001b[0m\u001b[0;34m)\u001b[0m\u001b[0;34m\u001b[0m\u001b[0;34m\u001b[0m\u001b[0m\n\u001b[1;32m      9\u001b[0m         \u001b[0;32mif\u001b[0m \u001b[0mi\u001b[0m \u001b[0;34m<\u001b[0m \u001b[0md\u001b[0m\u001b[0;34m:\u001b[0m\u001b[0;34m\u001b[0m\u001b[0;34m\u001b[0m\u001b[0m\n",
            "\u001b[0;31mIndexError\u001b[0m: list index out of range"
          ]
        }
      ]
    },
    {
      "cell_type": "code",
      "metadata": {
        "id": "ypXSxP9oeRzq",
        "outputId": "02f2e1fe-77b2-4219-abe9-420b9823e72c",
        "colab": {
          "base_uri": "https://localhost:8080/"
        }
      },
      "source": [
        "def solution(point, dish):\n",
        "  dish -=1\n",
        "  answer = 0\n",
        "  s = sorted(point)\n",
        "  while True:\n",
        "    p = point.pop(0)\n",
        "    if s[0]==p:\n",
        "      if dish == 0:\n",
        "        break\n",
        "      dish-=1\n",
        "      s.pop(0)\n",
        "    else:\n",
        "      point.append(p)\n",
        "      dish = len(point)-1 if dish==0 else dish-1\n",
        "    answer+=1\n",
        "  return answer\n",
        "print(solution([1,1,3,2,5], 3)) \n",
        "print(solution([5,2,3,1,2,5], 1)) "
      ],
      "execution_count": 53,
      "outputs": [
        {
          "output_type": "stream",
          "text": [
            "5\n",
            "10\n"
          ],
          "name": "stdout"
        }
      ]
    },
    {
      "cell_type": "code",
      "metadata": {
        "id": "XICNp0szeR2O"
      },
      "source": [
        ""
      ],
      "execution_count": null,
      "outputs": []
    }
  ]
}