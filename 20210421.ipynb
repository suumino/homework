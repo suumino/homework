{
  "nbformat": 4,
  "nbformat_minor": 0,
  "metadata": {
    "colab": {
      "name": "Colaboratory에 오신 것을 환영합니다",
      "provenance": [],
      "collapsed_sections": [],
      "include_colab_link": true
    },
    "kernelspec": {
      "display_name": "Python 3",
      "name": "python3"
    }
  },
  "cells": [
    {
      "cell_type": "markdown",
      "metadata": {
        "id": "view-in-github",
        "colab_type": "text"
      },
      "source": [
        "<a href=\"https://colab.research.google.com/github/suumino/homework/blob/main/20210421.ipynb\" target=\"_parent\"><img src=\"https://colab.research.google.com/assets/colab-badge.svg\" alt=\"Open In Colab\"/></a>"
      ]
    },
    {
      "cell_type": "code",
      "metadata": {
        "id": "6SqI7W6zhGvO"
      },
      "source": [
        "41. How will you implement method overloading in Java?\n",
        "\n",
        "method에서 같은 이름을 가진 method가 있더라도 매개변수의 개수 또는 타입이 다르면 같은 이름의\n",
        "method를 여러개 정의할 수 있다. 매개변수 수를 변경하거나, 매개 변수의 데이터 유형을 변경하거나\n",
        "매개변수 순서를 변경함으로 적용할 수 있다."
      ],
      "execution_count": null,
      "outputs": []
    },
    {
      "cell_type": "code",
      "metadata": {
        "id": "7KPL8jKthMEq"
      },
      "source": [
        "42. What kinds of argument variations are allowed in Method Overloading?\n",
        "\n",
        "boolean, char, char[], double, float, int, long, object, String, () 을 지원한다."
      ],
      "execution_count": null,
      "outputs": []
    },
    {
      "cell_type": "code",
      "metadata": {
        "id": "1GRY8BoXhMGr"
      },
      "source": [
        "43. Why it is not possible to do method overloading by changing return type of method in java?\n",
        "\n",
        "컴파일러가 호출할 함수를 파악하는 데 반환형식을 고려하지 않으므로\n",
        " 반환값만으로는 충분하지 않다. 반환형식은 메서드 서명의 일부가 아니므로 오버로드를 구분하는 데 사용할 수 없다. "
      ],
      "execution_count": null,
      "outputs": []
    },
    {
      "cell_type": "code",
      "metadata": {
        "id": "fifPcmC1hMKc"
      },
      "source": [
        "44. Is it allowed to overload main() method in java?\n",
        "\n",
        "오버로드 할 수 있지만, 클래스를 시작할 때 public static void main(String[] args)만 사용된다."
      ],
      "execution_count": null,
      "outputs": []
    },
    {
      "cell_type": "code",
      "metadata": {
        "id": "bTrewMjJhMMo"
      },
      "source": [
        "45. How do we implement method overriding in Java?\n",
        "\n",
        "메소드를 재정의하려면 하위 클래스의 메서드명이 슈퍼 클래스와 동일해야하고, 유형과 수가 같은\n",
        "매개변수를 가져야하고, 동일한 순서로 나열되어야한다. "
      ],
      "execution_count": null,
      "outputs": []
    },
    {
      "cell_type": "code",
      "metadata": {
        "id": "j4y3_B-xhMOZ"
      },
      "source": [
        "46. Are we allowed to override a static method in Java?\n",
        "\n",
        "정적 메서드는 런타임때 개체 인스턴스에 전달되지 않기 때문에 재정의할 수 없다.\n",
        "컴파일러는 호출되는 메소드를 결정하고, 정적 메소드는 오버로드 될 수 있다. "
      ],
      "execution_count": null,
      "outputs": []
    },
    {
      "cell_type": "code",
      "metadata": {
        "id": "ZTnHdF8lhgIx"
      },
      "source": [
        "47. Why Java does not allow overriding a static method?\n",
        "\n",
        "메소드의 재정의는 런타임에서 동적 바인딩을 기반으로 하고, 정적 메소드는 컴파일 타임에\n",
        "정적 바인딩을 사용하여 결합되기 때문에 정적 메소드를 재정의할 수 없다."
      ],
      "execution_count": null,
      "outputs": []
    },
    {
      "cell_type": "code",
      "metadata": {
        "id": "6WrP5eo1hgM1"
      },
      "source": [
        "48. Is it allowed to override an overloaded method?\n",
        "\n",
        "오버로드된 메소드는 컴파일러 입장에서는 완전 다른 메소드이기 때문에 재정의가 가능하다."
      ],
      "execution_count": null,
      "outputs": []
    },
    {
      "cell_type": "code",
      "metadata": {
        "id": "jSsp422PhgPD"
      },
      "source": [
        "49. What is the difference between method overloading and method overriding in Java?\n",
        "\n",
        "메소드의 재정의는 슈퍼클래스에서 이미 제공 한 메서드의 특정 구현을 제공하는 데 사용된다.\n",
        " 메소드의 오버로딩은 프로그램의 가독성을 높이는 데 사용된다."
      ],
      "execution_count": null,
      "outputs": []
    },
    {
      "cell_type": "code",
      "metadata": {
        "id": "2-9ed0lshzZq"
      },
      "source": [
        "50. Does Java allow virtual functions?\n",
        "\n",
        "자바의 모든 비정적 메소드는 기본적으로 가상함수이다. "
      ],
      "execution_count": null,
      "outputs": []
    },
    {
      "cell_type": "code",
      "metadata": {
        "id": "RGu7dv_HhzcI",
        "colab": {
          "base_uri": "https://localhost:8080/"
        },
        "outputId": "8b973bee-c9b6-4c8b-c3d4-55e07029f0c0"
      },
      "source": [
        "# ALGORITHM HOMEWORK\n",
        "\n",
        "def ccc(n):                           # 함수 생성\n",
        "  if n == sorted(n): print(\"YES\")     # 순서대로면 Yes출력\n",
        "  else : print(\"NO\")                  # 순서대로가 아니면 No 출력\n",
        "\n",
        "n = list(map(int, input(\"input : \").split()))  # 입력받음\n",
        "ccc(n)                                 # 함수 호출"
      ],
      "execution_count": null,
      "outputs": [
        {
          "output_type": "stream",
          "text": [
            "input : 1 2 3 6 5 4 9 8 \n",
            "NO\n"
          ],
          "name": "stdout"
        }
      ]
    },
    {
      "cell_type": "code",
      "metadata": {
        "id": "i7aKsH5KiyAF"
      },
      "source": [
        "#"
      ],
      "execution_count": null,
      "outputs": []
    }
  ]
}