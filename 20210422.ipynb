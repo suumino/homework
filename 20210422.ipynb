{
  "nbformat": 4,
  "nbformat_minor": 0,
  "metadata": {
    "colab": {
      "name": "Colaboratory에 오신 것을 환영합니다",
      "provenance": [],
      "collapsed_sections": [],
      "include_colab_link": true
    },
    "kernelspec": {
      "display_name": "Python 3",
      "name": "python3"
    }
  },
  "cells": [
    {
      "cell_type": "markdown",
      "metadata": {
        "id": "view-in-github",
        "colab_type": "text"
      },
      "source": [
        "<a href=\"https://colab.research.google.com/github/suumino/homework/blob/main/20210422.ipynb\" target=\"_parent\"><img src=\"https://colab.research.google.com/assets/colab-badge.svg\" alt=\"Open In Colab\"/></a>"
      ]
    },
    {
      "cell_type": "code",
      "metadata": {
        "id": "ZDpVtKRfvGUZ"
      },
      "source": [
        "51. What is meant by covariant return type in Java?\n",
        "\n",
        "method가 하위클래스에서 재정의 될 때 \"narrower\"형식으로 대체될 수 있다.\n",
        "이것은 재정의된 method의 반환 유형이 하위 유형이 됨을 뜻한다."
      ],
      "execution_count": null,
      "outputs": []
    },
    {
      "cell_type": "code",
      "metadata": {
        "id": "sVoak5QMvGw3"
      },
      "source": [
        "52. What is Runtime Polymorphism?\n",
        "\n",
        "객체가 런타임을 할 때마다 런타임 다형성이라고 한다. 재정의에 의해 만들어질 수 있다."
      ],
      "execution_count": null,
      "outputs": []
    },
    {
      "cell_type": "code",
      "metadata": {
        "id": "odTIcu1gvGy7"
      },
      "source": [
        "53. Is it possible to achieve Runtime Polymorphism by data members in Java?\n",
        "\n",
        "자바에서는 데이터멤버가 런타임 다형성을 형성할 수 없다. 데이터 멤버를 사용할 때에는 런타임 다형성\n",
        " 데이터 멤버가 아닌 method가 재정의 되기 때문이다."
      ],
      "execution_count": null,
      "outputs": []
    },
    {
      "cell_type": "code",
      "metadata": {
        "id": "to8p_d97vG0z"
      },
      "source": [
        "54. Explain the difference between static and dynamic binding?\n",
        "\n",
        "정적 바인딩은 유형 정보를 사용하고, 동적 바인딩은 개체를 사용한다. 오버로드된 method는 정적 바인딩을 \n",
        "사용하여 해결하지만, 동적 바인딩을 사용하여 런타임에 사용한다."
      ],
      "execution_count": null,
      "outputs": []
    },
    {
      "cell_type": "code",
      "metadata": {
        "id": "acTstoWAvG21"
      },
      "source": [
        "55. What is Abstraction in Object Oriented programming?\n",
        "\n",
        "추상화는 필수 속성만을 나타내고, 불필요한 정보를 숨기는 객체지향 프로그래밍의 개념이다. \n",
        "데이터를 선택하여 사용자에게 관련 세부정보만을 표시한다."
      ],
      "execution_count": null,
      "outputs": []
    },
    {
      "cell_type": "code",
      "metadata": {
        "id": "fgIJ3jejvG49"
      },
      "source": [
        "56. How is Abstraction different from Encapsulation?\n",
        "\n",
        "추상화는 원하지 않는 정보를 숨기는 방법이고, 캡슐화는 외부로부터 정보를 보호하는 방법과 함께 단일 엔티티 \n",
        "또는 단위의 데이터를 숨기는 방법이다. "
      ],
      "execution_count": null,
      "outputs": []
    },
    {
      "cell_type": "code",
      "metadata": {
        "id": "ivQTk3D2vG61"
      },
      "source": [
        "57. What is an abstract class in Java?\n",
        "\n",
        "추상 클래스란 개체를 만드는 데 사용할 수 없는 제한된 클래스이다. 추상 클래스에 접근하려면\n",
        "다른 클래스에서 상속되어야한다."
      ],
      "execution_count": null,
      "outputs": []
    },
    {
      "cell_type": "code",
      "metadata": {
        "id": "9XPO3pqbvGW1"
      },
      "source": [
        "58. Is it allowed to mark a method abstract method without marking the class abstract?\n",
        "\n",
        "아니다. 추상 method를 포함하기 위해서는 반드시 추상 클래스여야한다. "
      ],
      "execution_count": null,
      "outputs": []
    },
    {
      "cell_type": "code",
      "metadata": {
        "id": "zE_xCNeDvGY3"
      },
      "source": [
        "59. Is it allowed to mark a method abstract as well as final?\n",
        "\n",
        "맞다. 추상 클래스에는 final method 가 있을 수 있다. 하지만 추상 method에는 final을 선언할 수 없다."
      ],
      "execution_count": null,
      "outputs": []
    },
    {
      "cell_type": "code",
      "metadata": {
        "id": "8sDlRdO9vGa0"
      },
      "source": [
        "60. Can we instantiate an abstract class in Java?\n",
        "\n",
        "추상 클래스는 인스턴스화할 수 없다. "
      ],
      "execution_count": null,
      "outputs": []
    },
    {
      "cell_type": "code",
      "metadata": {
        "id": "yCfxsgmPvGc3",
        "outputId": "fc1bb53a-5e2e-4ae5-ac81-de3adb3ef8ad",
        "colab": {
          "base_uri": "https://localhost:8080/"
        }
      },
      "source": [
        "# ALGORITHM HOMEWORK\n",
        "\n",
        "nationWidth = {'korea' : 220877, \n",
        "               'Rusia' : 17098242, \n",
        "               'China' : 9596961, \n",
        "               'France' : 543965, \n",
        "               'Japan' : 377915, \n",
        "               'England' : 242900}\n",
        "\n",
        "key = list(nationWidth.keys())     # keys로만 구성된 리스트\n",
        "value = list(nationWidth.values()) # values로만 구성된 리스트\n",
        "s = max(value) - 220877            # 한국과의 차이는 s\n",
        "c = 0                              # 각 리스트의 순서를 기억할 변수\n",
        "for i in range(len(key)):          # key 중에서\n",
        "  if s > abs(value[i] - 220877) and abs(value[i] - 220877) != 0 : # 한국이랑 차이가 작으면\n",
        "    c = i                          # c 에 index 저장\n",
        "print(key[c], value[c]-220877)     # 출력\n",
        "\n"
      ],
      "execution_count": 20,
      "outputs": [
        {
          "output_type": "stream",
          "text": [
            "England 22023\n"
          ],
          "name": "stdout"
        }
      ]
    },
    {
      "cell_type": "code",
      "metadata": {
        "id": "fqEBJAV7yn2x"
      },
      "source": [
        ""
      ],
      "execution_count": null,
      "outputs": []
    }
  ]
}