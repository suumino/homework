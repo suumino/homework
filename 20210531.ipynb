{
  "nbformat": 4,
  "nbformat_minor": 0,
  "metadata": {
    "colab": {
      "name": "Colaboratory에 오신 것을 환영합니다",
      "provenance": [],
      "collapsed_sections": [],
      "include_colab_link": true
    },
    "kernelspec": {
      "display_name": "Python 3",
      "name": "python3"
    }
  },
  "cells": [
    {
      "cell_type": "markdown",
      "metadata": {
        "id": "view-in-github",
        "colab_type": "text"
      },
      "source": [
        "<a href=\"https://colab.research.google.com/github/suumino/homework/blob/main/20210531.ipynb\" target=\"_parent\"><img src=\"https://colab.research.google.com/assets/colab-badge.svg\" alt=\"Open In Colab\"/></a>"
      ]
    },
    {
      "cell_type": "code",
      "metadata": {
        "id": "DZ2mN93_FXWj"
      },
      "source": [
        "281. What is the purpose of Thread Groups in Java?\n",
        "\n",
        "단일 객체에서 생성된 그룹화된 스레드는 단일 메서드의 호출로 스레드 그룹을 일시 중단이나 시작 또는 그냥 중단을 할 수 있다."
      ],
      "execution_count": null,
      "outputs": []
    },
    {
      "cell_type": "code",
      "metadata": {
        "id": "gzRKnaTMFZ9F"
      },
      "source": [
        "282. Why we should not stop a thread by calling its stop() method?\n",
        "\n",
        "stop으로 갑자기 스레드를 종료하게 되면 스레드가 사용하던 자원들이 불안전한 상태로 남기 때문에 stop을 사용하면 안된다."
      ],
      "execution_count": null,
      "outputs": []
    },
    {
      "cell_type": "code",
      "metadata": {
        "id": "OTfaWEl0FZ_b"
      },
      "source": [
        "283. How will you create a Thread in Java?\n",
        "\n",
        "스레드는 Runnable 인터페이스를 구현하고 run() 메서드를 재정의하여 만들 수 있다. 그 후 thread 객체를 만들고\n",
        "start() 메서드를 호출할 수 있다."
      ],
      "execution_count": null,
      "outputs": []
    },
    {
      "cell_type": "code",
      "metadata": {
        "id": "4Q0ihF6VFaBw"
      },
      "source": [
        "284. How can we stop a thread in the middle of execution in Java?\n",
        "\n",
        "boolean flag와 thread를 사용하는 것이다. 스레드를 중지, 종료 하는데 사용되는 boolean 변수를 exit로\n",
        "정의하고, 스레드를 중지할 때 exit 변수가 true이다."
      ],
      "execution_count": null,
      "outputs": []
    },
    {
      "cell_type": "code",
      "metadata": {
        "id": "qhodgQSFFaEU"
      },
      "source": [
        "285. How do you access the current thread in a Java program?\n",
        "\n",
        "현재의 스레드는 currentThread() 메서드를 사용하여 가져올 수 있다."
      ],
      "execution_count": null,
      "outputs": []
    },
    {
      "cell_type": "code",
      "metadata": {
        "id": "z9kirmqXFaGh"
      },
      "source": [
        "286. What is Busy waiting in Multithreading?\n",
        "\n",
        "다중 스레드 환경에서의 Busy waiting은 다른 스레드가 작업을 완료하고 시작하도록 신호를 보내는 것을\n",
        "기다리는 기술이다."
      ],
      "execution_count": null,
      "outputs": []
    },
    {
      "cell_type": "code",
      "metadata": {
        "id": "s5C8aS5kFaJG"
      },
      "source": [
        "287. How can we prevent busy waiting in Java?\n",
        "\n",
        "write concurrent library를 적용할 수 있다."
      ],
      "execution_count": null,
      "outputs": []
    },
    {
      "cell_type": "code",
      "metadata": {
        "id": "sKP4vvbKFaLf"
      },
      "source": [
        "288. Can we use Thread.sleep() method for real-time processing in Java?\n",
        "\n",
        "sleep은 스레드가 수면하도록 한다. 때문에 thread의 호출이나 real-time processing에서는 sleep() 메서드를 사용하지 않는 것이 좋다."
      ],
      "execution_count": null,
      "outputs": []
    },
    {
      "cell_type": "code",
      "metadata": {
        "id": "cJ5gWRRBFaNq"
      },
      "source": [
        "289. Can we wake up a thread that has been put to sleep by using Thread.sleep() method?\n",
        "\n",
        "Thread.interrupt()로 깨울 수 있다."
      ],
      "execution_count": null,
      "outputs": []
    },
    {
      "cell_type": "code",
      "metadata": {
        "id": "XAXgJdwyFXUY"
      },
      "source": [
        "290. What are the two ways to check if a Thread has been interrupted?\n",
        "\n",
        "interrupted()는 현재 스레드를 확인한다. isinterrupted()는 호출된 thread객체를 확인하는 인스천스 메서드이다."
      ],
      "execution_count": null,
      "outputs": []
    },
    {
      "cell_type": "code",
      "metadata": {
        "id": "6wELFM0tL_IZ",
        "outputId": "b7a28554-281c-4a01-d13e-ada857f22d92",
        "colab": {
          "base_uri": "https://localhost:8080/"
        }
      },
      "source": [
        "def ccc(n, k):                  # 함수 생성\n",
        "  a.sort()                      # a 정렬\n",
        "  b.sort(reverse=True)          # b 역순정렬\n",
        "  for i in range(k):            # 바꾸기 횟수동안\n",
        "    if a[i] < b[i]:             # a가 더 작으면\n",
        "      a[i], b[i] = b[i], a[i]   # 두개 바꿈\n",
        "  return sum(a)                 # a의 합 반환\n",
        "\n",
        "n, k = map(int, input().split())     # n, k 입력\n",
        "a = list(map(int, input().split()))  # a 입력\n",
        "b = list(map(int, input().split()))  # b 입력\n",
        "\n",
        "print(ccc(n, k))                # 함수 호출"
      ],
      "execution_count": 22,
      "outputs": [
        {
          "output_type": "stream",
          "text": [
            "5 3\n",
            "1 2 5 4 3\n",
            "5 5 6 6 5\n",
            "26\n"
          ],
          "name": "stdout"
        }
      ]
    },
    {
      "cell_type": "code",
      "metadata": {
        "id": "iiN_ydT6Msql"
      },
      "source": [
        ""
      ],
      "execution_count": null,
      "outputs": []
    }
  ]
}