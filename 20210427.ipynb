{
  "nbformat": 4,
  "nbformat_minor": 0,
  "metadata": {
    "colab": {
      "name": "Colaboratory에 오신 것을 환영합니다",
      "provenance": [],
      "collapsed_sections": [],
      "include_colab_link": true
    },
    "kernelspec": {
      "display_name": "Python 3",
      "name": "python3"
    }
  },
  "cells": [
    {
      "cell_type": "markdown",
      "metadata": {
        "id": "view-in-github",
        "colab_type": "text"
      },
      "source": [
        "<a href=\"https://colab.research.google.com/github/suumino/homework/blob/main/20210427.ipynb\" target=\"_parent\"><img src=\"https://colab.research.google.com/assets/colab-badge.svg\" alt=\"Open In Colab\"/></a>"
      ]
    },
    {
      "cell_type": "code",
      "metadata": {
        "id": "GhzPtgiZgGKZ"
      },
      "source": [
        "71. Can a class be markeed final in Java?\n",
        "\n",
        "클래스 메서드를 final로 선언할 수 있다. 전체 클래스 또한 final로 선언할 수 있다."
      ],
      "execution_count": null,
      "outputs": []
    },
    {
      "cell_type": "code",
      "metadata": {
        "id": "5zG2GpHigGM1"
      },
      "source": [
        "72. How can we create a final method in Java?\n",
        "\n",
        "위에서 말한대로 클래스 메서드도 final로 선언할 수 있다."
      ],
      "execution_count": null,
      "outputs": []
    },
    {
      "cell_type": "code",
      "metadata": {
        "id": "lmiO16NngGPS"
      },
      "source": [
        "73. How can we prohibit inheritance in Java?\n",
        "\n",
        "클래스를 생성할 때 상속을 방지하기 위해서는 final을 사용하면 된다."
      ],
      "execution_count": null,
      "outputs": []
    },
    {
      "cell_type": "code",
      "metadata": {
        "id": "aqYhjUL1gGR3"
      },
      "source": [
        "74. Why Integer class in final in Java?\n",
        "\n",
        "클래스를 구현할 때 Override Method를 막고싶을 때 사용하면 좋다."
      ],
      "execution_count": null,
      "outputs": []
    },
    {
      "cell_type": "code",
      "metadata": {
        "id": "FTYzGD8zgGUd"
      },
      "source": [
        "75. What is blank final variable in Java?\n",
        "\n",
        "선언 중에 초기화되지 않은 변수가 빈 final 변수이다."
      ],
      "execution_count": null,
      "outputs": []
    },
    {
      "cell_type": "code",
      "metadata": {
        "id": "GXEHgDVEgGW8"
      },
      "source": [
        "76. How can we initialize a blank final variable?\n",
        "\n",
        "빈 final 변수는 클래스 메서드에서 초기화할 수 없다. 정적 블록에서 초기화가 가능하다."
      ],
      "execution_count": null,
      "outputs": []
    },
    {
      "cell_type": "code",
      "metadata": {
        "id": "wLGtGr80gGZp"
      },
      "source": [
        "77. Is it allowed to declare main method as final?\n",
        "\n",
        "자바에서 main 메소드를 final로 선언 가능하다. "
      ],
      "execution_count": null,
      "outputs": []
    },
    {
      "cell_type": "code",
      "metadata": {
        "id": "tQYPbhZogGb3"
      },
      "source": [
        "78. What is the purpose of package in Java?\n",
        "\n",
        "자바의 패키지는 클래스를 그룹화하는 데 사용한다. 폴더와 비슷한 개념이다. 유지보수가 더 간편하다."
      ],
      "execution_count": null,
      "outputs": []
    },
    {
      "cell_type": "code",
      "metadata": {
        "id": "_85_TW0DgGeS"
      },
      "source": [
        "79. What is java.lang package?\n",
        "\n",
        "자바에서 프로그래밍 언어의 기본이 되는 클래스를 제공한다. "
      ],
      "execution_count": null,
      "outputs": []
    },
    {
      "cell_type": "code",
      "metadata": {
        "id": "VrfWJ03agGgv"
      },
      "source": [
        "80. Which is the most important class in Java?\n",
        "\n",
        "java.lang.class가 가장 중요하다. getClass(), forName()과 같은 유틸리티 메소드를 제공한다."
      ],
      "execution_count": null,
      "outputs": []
    },
    {
      "cell_type": "code",
      "metadata": {
        "id": "ZNY7781UgGjZ",
        "outputId": "75226491-74e6-4793-ab81-1e11db6452de",
        "colab": {
          "base_uri": "https://localhost:8080/"
        }
      },
      "source": [
        "#ALGORITHM HOMEWORK\n",
        "\n",
        "def ccc(n):                # 함수 생성\n",
        "  if len(n) % 2 == 0:      # 길이가 짝수이면\n",
        "    for i in range((50-len(n))//2):  # =를 출력\n",
        "      print(\"=\", end=\"\")   # 출력\n",
        "  \n",
        "n = input(\"input : \")      # 수 입력 받음\n",
        "\n",
        "ccc(n)                     # 함수 호출\n",
        "print(n, end=\"\")           # 문장 출력\n",
        "ccc(n)                     # 함수 호출"
      ],
      "execution_count": 17,
      "outputs": [
        {
          "output_type": "stream",
          "text": [
            "input : Hi\n",
            "========================Hi========================"
          ],
          "name": "stdout"
        }
      ]
    },
    {
      "cell_type": "code",
      "metadata": {
        "id": "L5wPvwHLh7nX"
      },
      "source": [
        ""
      ],
      "execution_count": null,
      "outputs": []
    }
  ]
}