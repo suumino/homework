{
  "nbformat": 4,
  "nbformat_minor": 0,
  "metadata": {
    "colab": {
      "name": "Colaboratory에 오신 것을 환영합니다",
      "provenance": [],
      "collapsed_sections": [],
      "include_colab_link": true
    },
    "kernelspec": {
      "display_name": "Python 3",
      "name": "python3"
    }
  },
  "cells": [
    {
      "cell_type": "markdown",
      "metadata": {
        "id": "view-in-github",
        "colab_type": "text"
      },
      "source": [
        "<a href=\"https://colab.research.google.com/github/suumino/homework/blob/main/20210610.ipynb\" target=\"_parent\"><img src=\"https://colab.research.google.com/assets/colab-badge.svg\" alt=\"Open In Colab\"/></a>"
      ]
    },
    {
      "cell_type": "code",
      "metadata": {
        "id": "fzmDN7aqGSxp"
      },
      "source": [
        "381. What are the main differences between legacy Date/Time API in Java and Date/Time API of Java 8?\n",
        "\n",
        "자바 8의 API는 스레드로부터 안전하고, 불변객체를 기반으로 한다.\n",
        "그리고 설계가 잘되어있고 읽기도 쉽다. 또한 자바 8부터 1~12개월이 있다."
      ],
      "execution_count": null,
      "outputs": []
    },
    {
      "cell_type": "code",
      "metadata": {
        "id": "zF-FCJ-dGSz7"
      },
      "source": [
        "382. How can we get duration between two dates or time in Java 8?\n",
        "\n",
        "DAYS.between() 메소드를 사용하면 날짜 사이를 계산해준다. "
      ],
      "execution_count": null,
      "outputs": []
    },
    {
      "cell_type": "code",
      "metadata": {
        "id": "rzWbPMvXGS2N"
      },
      "source": [
        "383. What is the new method family introduced in Java 8 for processing of Arrays on multi core machines?\n",
        "\n",
        "Array클래스는 멀티코어 머신에서 배열을 처리하기 위해 자바 8에서 새롭게 도입된 메소드이다. \n",
        "array는 parallel 키워드로 시작한다."
      ],
      "execution_count": null,
      "outputs": []
    },
    {
      "cell_type": "code",
      "metadata": {
        "id": "lHbD1X4GLewA"
      },
      "source": [
        "384. How does Java 8 solve Diamond problem of Multiple Inheritance?\n",
        "\n",
        "인터페이스 이름과 기본메서드를 지정하는 클래스의 기본 메소드를 재정의하면\n",
        "기본메소드와 인터페이스를 사용하여 다중상속을 수행할 수 있다."
      ],
      "execution_count": null,
      "outputs": []
    },
    {
      "cell_type": "code",
      "metadata": {
        "id": "FueSv_DMGS6h"
      },
      "source": [
        "385. What are the differences between Predicate, Supplier and Consumer in Java 8?\n",
        "\n",
        "Predicate는 하나의 인수를 받고 결과를 반환하는 익명의 함수이지만, \n",
        "Consumer는 하나의 인수를 받고 결과를 반환하지 않는 익명의 함수다."
      ],
      "execution_count": null,
      "outputs": []
    },
    {
      "cell_type": "code",
      "metadata": {
        "id": "X778opuBGS8f"
      },
      "source": [
        "386. Is it possible to have default method definition in an interface without marking it with default keyword?\n",
        "\n",
        "아니요 항상 인터페이스에는 기본메소드를 표시해야한다. 기본값으로 표시하지 않는다면 컴파일 오류가 발생한다."
      ],
      "execution_count": null,
      "outputs": []
    },
    {
      "cell_type": "code",
      "metadata": {
        "id": "Bc9UMFrtGS-q"
      },
      "source": [
        "387. Can we create a class that implements two Interfaces with default methods of same name and signature?\n",
        "\n",
        "클래스는 둘 이상의 인터페이스를 구현할 수 있다. 인터페이스는 반드시 클래스가 구현할 필요는 없으며\n",
        "같은 기본 메서드를 가진 두개의 인터페이스를 가질 수 있다."
      ],
      "execution_count": null,
      "outputs": []
    },
    {
      "cell_type": "code",
      "metadata": {
        "id": "arWF16QDGTA_"
      },
      "source": [
        "388. How Java 8 supports Multiple inheritance?\n",
        "\n",
        "인터페이스를 각각 정의하면 button 클래스는 두 인터페이스 모두에서 메서드를 호출한다. 이것이 \n",
        "다중상속과 같다."
      ],
      "execution_count": null,
      "outputs": []
    },
    {
      "cell_type": "code",
      "metadata": {
        "id": "W_h1emgPGTDJ"
      },
      "source": [
        "389. In case we create a class that extends a base class and implements an interface. If both base class and \n",
        "interface have a default method with same name and arguments, then which definition will be picked by JVM?\n",
        "\n",
        "클래스와 인터이스에 동일한 이름과 인수를 가진 기본 메소드가 있는 경우 JVM은 기본 클래스에서 정의를 선택한다."
      ],
      "execution_count": null,
      "outputs": []
    },
    {
      "cell_type": "code",
      "metadata": {
        "id": "oQvZSVNcGTFY"
      },
      "source": [
        "390. If we create same method and define it in a class, in its parent class and in an interface implemented by the class,\n",
        "then definition will ne invoked if we access it using the reference of Interface and the object of class?\n",
        "\n",
        "모르겠다."
      ],
      "execution_count": null,
      "outputs": []
    },
    {
      "cell_type": "code",
      "metadata": {
        "id": "bj0FhLNmGTL_",
        "outputId": "980e6aef-8f9e-478c-b765-76adf327be22",
        "colab": {
          "base_uri": "https://localhost:8080/"
        }
      },
      "source": [
        "\n",
        "def ccc(x):                       # 함수 생성\n",
        "  d = [0] * 1000001               # 초기화\n",
        "  for i in range(2, x + 1):       # 수동안\n",
        "    d[i] = d[i - 1] + 1           # 현재의 수에서 1을 뺐을때\n",
        "    if i % 2 == 0:                # 2로 나누어지면\n",
        "      d[i] = min(d[i], d[i // 2] + 1)    # 2로 나눈거 저장\n",
        "    if i % 3 == 0:                # 3으로 나눠지면\n",
        "      d[i] = min(d[i], d[i // 3] + 1)    # 3으로 나눈거 저장\n",
        "    if i % 5 == 0:                # 5로 나눠지면\n",
        "      d[i] = min(d[i], d[i // 5] + 1)    # 5로 나눈거 저장\n",
        "  return d[x]                     # 반환\n",
        "\n",
        "x = int(input())   # 입력받음\n",
        "ccc(x)             # 함수 호출"
      ],
      "execution_count": 19,
      "outputs": [
        {
          "output_type": "stream",
          "text": [
            "26\n"
          ],
          "name": "stdout"
        },
        {
          "output_type": "execute_result",
          "data": {
            "text/plain": [
              "3"
            ]
          },
          "metadata": {
            "tags": []
          },
          "execution_count": 19
        }
      ]
    },
    {
      "cell_type": "code",
      "metadata": {
        "id": "XEfmBcoOacgC"
      },
      "source": [
        "# 정수 X를 입력 받기\n",
        "x = int(input())\n",
        "# 앞서 계산된 결과를 저장하기 위한 DP 테이블 초기화\n",
        "d = [0] * 1000001\n",
        "# 다이나믹 프로그래밍(Dynamic Programming) 진행(보텀업)\n",
        "for i in range(2, x + 1):\n",
        "# 현재의 수에서 1을 빼는 경우\n",
        "d[i] = d[i - 1] + 1\n",
        "# 현재의 수가 2로 나누어 떨어지는 경우\n",
        "if i % 2 == 0:\n",
        "d[i] = min(d[i], d[i // 2] + 1)\n",
        "# 현재의 수가 3으로 나누어 떨어지는 경우\n",
        "if i % 3 == 0:\n",
        "d[i] = min(d[i], d[i // 3] + 1)\n",
        "# 현재의 수가 5로 나누어 떨어지는 경우\n",
        "if i % 5 == 0:\n",
        "d[i] = min(d[i], d[i // 5] + 1)\n",
        "print(d[x])"
      ],
      "execution_count": null,
      "outputs": []
    }
  ]
}