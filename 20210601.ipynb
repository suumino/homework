{
  "nbformat": 4,
  "nbformat_minor": 0,
  "metadata": {
    "colab": {
      "name": "Colaboratory에 오신 것을 환영합니다",
      "provenance": [],
      "collapsed_sections": [],
      "include_colab_link": true
    },
    "kernelspec": {
      "display_name": "Python 3",
      "name": "python3"
    }
  },
  "cells": [
    {
      "cell_type": "markdown",
      "metadata": {
        "id": "view-in-github",
        "colab_type": "text"
      },
      "source": [
        "<a href=\"https://colab.research.google.com/github/suumino/homework/blob/main/20210601.ipynb\" target=\"_parent\"><img src=\"https://colab.research.google.com/assets/colab-badge.svg\" alt=\"Open In Colab\"/></a>"
      ]
    },
    {
      "cell_type": "code",
      "metadata": {
        "id": "bqMsrUdP5Dcp"
      },
      "source": [
        "291. How can we make sure that Parent thread waits for termination of Child thread?\n",
        "\n",
        "join() 부모 스레드는 자식이 실행을 마치고 죽을때까지 기다린다.\n",
        "join(long millis) 부모스레드는 멘션 시간동안만 자식 스레드가 완료될때까지 기다린다.\n",
        "만약 시간 이후에도 자식 스레드가 지속된다면 부모 스레드는 기다림을 멈추고 명령문을 실행한다."
      ],
      "execution_count": null,
      "outputs": []
    },
    {
      "cell_type": "code",
      "metadata": {
        "id": "OZIemswo5De3"
      },
      "source": [
        "292. How will you handle InterruptedException in Java?\n",
        "\n",
        "대상 스레드의 thread.interrupt()  메서드를 호출하면 된다."
      ],
      "execution_count": null,
      "outputs": []
    },
    {
      "cell_type": "code",
      "metadata": {
        "id": "b1GUZo6b5DhQ"
      },
      "source": [
        "293. Which intrinsic lock is acquired by a synchronized method in Java?\n",
        "\n",
        "해당 메서드의 개체에 대한 고유 잠금을 자동으로 획득하고 메서드가 반환될 때 잠금이 해제된다.\n",
        "반환이 되지 않은 예외로 인해 발생한 경우에도 해제된다."
      ],
      "execution_count": null,
      "outputs": []
    },
    {
      "cell_type": "code",
      "metadata": {
        "id": "oXmAGr8a5DjT"
      },
      "source": [
        "294. Can we mark a constructor as synchronized in Java?\n",
        "\n",
        "생성자는 동기화할 수 없다."
      ],
      "execution_count": null,
      "outputs": []
    },
    {
      "cell_type": "code",
      "metadata": {
        "id": "sLk1Gm6R5W2p"
      },
      "source": [
        "295. Can we use primitive values for intrinsic locks?\n",
        "\n",
        "아니다. 자바는 고유잠금에 기본값을 사용하게 하지 않는다."
      ],
      "execution_count": null,
      "outputs": []
    },
    {
      "cell_type": "code",
      "metadata": {
        "id": "Rojd3xYt5W4-"
      },
      "source": [
        "296. Do we have re-entrant property in intrinsic locks?\n",
        "\n",
        "맞다. intrinsic locks는 동일한 스레드에 여러번 접근할 수 있다.\n",
        "이것은 고유잠금이 재진입 가능하다는 것을 의미한다."
      ],
      "execution_count": null,
      "outputs": []
    },
    {
      "cell_type": "code",
      "metadata": {
        "id": "dSLlBRpV5W7S"
      },
      "source": [
        "297. What is an atomic operation?\n",
        "\n",
        "atomic operation은 다른 프로세스와 완전히 독립적으로 실행되는 프로그램 작업이다. \n",
        "병렬처리 시스템에서 많이 사용된다."
      ],
      "execution_count": null,
      "outputs": []
    },
    {
      "cell_type": "code",
      "metadata": {
        "id": "ghlvm13s5FRX"
      },
      "source": [
        "298. Can we consider the statement i++ as an atomic operation in Java?\n",
        "\n",
        "아니다. i++은 atomic operation이 아니다. 둘 이상의 작업이 있기 때문이다."
      ],
      "execution_count": null,
      "outputs": []
    },
    {
      "cell_type": "code",
      "metadata": {
        "id": "rq1LFxaS5FTh"
      },
      "source": [
        "299. What are the Atomic operations in Java?\n",
        "\n",
        "atomic operation은 다른 작업의 가능성 없이 단일 작업으로 수행되는 작업이다.\n",
        "자바는 변수읽기 또는 쓰기가 atomic operation이다."
      ],
      "execution_count": null,
      "outputs": []
    },
    {
      "cell_type": "code",
      "metadata": {
        "id": "1Elq72AU5FVx"
      },
      "source": [
        "300. Can you check if following code is thread-safe?\n",
        "\n",
        "잘 모르겠다. 스레드 안전의 판단은 전역번수나 힙, 파일 같은 동시접근한 자원을 사용하는 여부,\n",
        "부수효과를 가져오는 코드가 있는지의 여부 등으로 알 수 있다."
      ],
      "execution_count": null,
      "outputs": []
    },
    {
      "cell_type": "code",
      "metadata": {
        "id": "8HcSUnO-5FYK",
        "outputId": "cf26a7fa-bda2-4e9b-da4b-2977c8f390a4",
        "colab": {
          "base_uri": "https://localhost:8080/"
        }
      },
      "source": [
        "def ccc(a, b):\n",
        "  c = a + b\n",
        "  return c\n",
        "\n",
        "a = list(map(int, input(\"Input v1: \").split()))\n",
        "b = list(map(int, input(\"Input v2: \").split()))\n",
        "print(ccc(a, b))"
      ],
      "execution_count": 26,
      "outputs": [
        {
          "output_type": "stream",
          "text": [
            "Input v1: 1 \n",
            "Input v2: \n",
            "[1]\n"
          ],
          "name": "stdout"
        }
      ]
    },
    {
      "cell_type": "code",
      "metadata": {
        "id": "FPmS2hDg6_Vd"
      },
      "source": [
        ""
      ],
      "execution_count": null,
      "outputs": []
    }
  ]
}