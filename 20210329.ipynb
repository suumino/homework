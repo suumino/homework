{
  "nbformat": 4,
  "nbformat_minor": 0,
  "metadata": {
    "colab": {
      "name": "Colaboratory에 오신 것을 환영합니다",
      "provenance": [],
      "collapsed_sections": [],
      "include_colab_link": true
    },
    "kernelspec": {
      "display_name": "Python 3",
      "name": "python3"
    }
  },
  "cells": [
    {
      "cell_type": "markdown",
      "metadata": {
        "id": "view-in-github",
        "colab_type": "text"
      },
      "source": [
        "<a href=\"https://colab.research.google.com/github/suumino/homework/blob/main/20210329.ipynb\" target=\"_parent\"><img src=\"https://colab.research.google.com/assets/colab-badge.svg\" alt=\"Open In Colab\"/></a>"
      ]
    },
    {
      "cell_type": "code",
      "metadata": {
        "id": "SXP-CL6uHxuH",
        "outputId": "173cfd80-909a-41a3-daf6-44ba66e38944",
        "colab": {
          "base_uri": "https://localhost:8080/"
        }
      },
      "source": [
        "# ALGORITHM HOMEWORK\n",
        "\n",
        "try:                                       # 시도하자\n",
        "  a = float(input('입력하시오 : '))        # a를 소수형태로 받는다 \n",
        "  if a - int(a) == 0:                      # 소수형 - 정수형이 0일때\n",
        "    print('정수입니다.')                   # 정수입니다 출력\n",
        "  elif a - int(a) != 0:                    # 만약 소수형 - 정수형이 0이 아니면\n",
        "    print('소수입니다.')                   # 소수입니다 출력\n",
        "except ValueError:                         # 만약 ValueError가 뜨면\n",
        "  print('math error')                      # math error 출력"
      ],
      "execution_count": 66,
      "outputs": [
        {
          "output_type": "stream",
          "text": [
            "입력하시오 : as\n",
            "math error\n"
          ],
          "name": "stdout"
        }
      ]
    },
    {
      "cell_type": "code",
      "metadata": {
        "id": "GTmQtq53MAvJ",
        "outputId": "7ae41037-2917-4dfb-ff4a-44214ea29463",
        "colab": {
          "base_uri": "https://localhost:8080/"
        }
      },
      "source": [
        "# ALGORITHM HOMEWORK\n",
        "\n",
        "try:                                  # 시도하자\n",
        "  a = float(input('입력하시오 : '))   # a를 소수형태로 받는다 \n",
        "  if a % 1 == 0:                      # a % 1 == 0일때\n",
        "    print('정수입니다.')              # 정수입니다 출력\n",
        "  else:                               # 만약 a % 1 == 0이 아니면\n",
        "    print('소수입니다.')              # 소수입니다 출력\n",
        "except ValueError:                    # 만약 ValueError가 뜨면\n",
        "  print('math error')                 # math error 출력"
      ],
      "execution_count": 69,
      "outputs": [
        {
          "output_type": "stream",
          "text": [
            "입력하시오 : as\n",
            "math error\n"
          ],
          "name": "stdout"
        }
      ]
    },
    {
      "cell_type": "code",
      "metadata": {
        "id": "dMgvAa1kM3gL"
      },
      "source": [
        ""
      ],
      "execution_count": null,
      "outputs": []
    }
  ]
}