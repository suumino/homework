{
  "nbformat": 4,
  "nbformat_minor": 0,
  "metadata": {
    "colab": {
      "name": "Colaboratory에 오신 것을 환영합니다",
      "provenance": [],
      "collapsed_sections": [],
      "include_colab_link": true
    },
    "kernelspec": {
      "display_name": "Python 3",
      "name": "python3"
    }
  },
  "cells": [
    {
      "cell_type": "markdown",
      "metadata": {
        "id": "view-in-github",
        "colab_type": "text"
      },
      "source": [
        "<a href=\"https://colab.research.google.com/github/suumino/homework/blob/main/20210408.ipynb\" target=\"_parent\"><img src=\"https://colab.research.google.com/assets/colab-badge.svg\" alt=\"Open In Colab\"/></a>"
      ]
    },
    {
      "cell_type": "code",
      "metadata": {
        "id": "ieyEQxUVev3r"
      },
      "source": [
        "13. What are the main principles of Object Oriented Programming?\n",
        "\n",
        "단일책임원칙(SRP)는 class는 하나의 책임만 가진다는 원칙이다. \n",
        "개방 폐쇄 원칙(OCP)은 클래스, 모듈 함수 등의 소프트웨어 개체는 확장에 대해서는 열려있지만 수정에 대해서는 폐쇄되어있어야 한다는 거싱다.\n",
        "리스코프 치환 원칙(LSP)는 부모 class가 들어갈 자리에 자식 class를 넣어도 잘 구동이 되어야 한다는 원칙이다.\n",
        "인터페이스 분리 법칙(ISP)은 자신이 사용하지 않는 메소드에 의존 관계를 맺으면 안된다는 원칙이다.\n",
        "의존성 역전 원칙(DIP)은 상위 모듈이 하위 모듈의 구현으로부터 독립되어야 한다는 원칙이다."
      ],
      "execution_count": null,
      "outputs": []
    },
    {
      "cell_type": "code",
      "metadata": {
        "id": "POsbjhxMoiMt"
      },
      "source": [
        "14. What is the difference between Object Oriented Programming language and Object Based Programming langualge?\n",
        "\n",
        "객체를 포함하는 언어를 객체 기반 언어라고 하고, 객체 지향의 개념을 따르는 언어를 객체 지향 언어라고 한다.\n",
        "객체 기반 언어는 다형성 및 상속과 같은 OOP의 모든 기능을 지원하지는 않는다.\n",
        "객체 지향 언어는 모든 OOP의 기능을 지원한다."
      ],
      "execution_count": null,
      "outputs": []
    },
    {
      "cell_type": "code",
      "metadata": {
        "id": "_FT1lHoKoiOu"
      },
      "source": [
        "15. In Java what is the default value of an object reference defined as an instance variable in an Object?\n",
        "\n",
        "특별히 정해지지 않는다면 null 이다."
      ],
      "execution_count": null,
      "outputs": []
    },
    {
      "cell_type": "code",
      "metadata": {
        "id": "bYZg6joKoiUc"
      },
      "source": [
        "16. Why do we need constructor in Java?\n",
        "\n",
        "생성자는 객체 생성 시 인자를 넘겨받는 역할을 한다. 인자 제어를 할 수 있게 한다."
      ],
      "execution_count": null,
      "outputs": []
    },
    {
      "cell_type": "code",
      "metadata": {
        "id": "4CSVaE6Go1sg",
        "outputId": "678643ce-fcc9-4a7f-f894-9af250c36e03",
        "colab": {
          "base_uri": "https://localhost:8080/"
        }
      },
      "source": [
        "# ALGORITHM HOMEWORK\n",
        "\n",
        "def ccc(s):                                  # 함수 생성\n",
        "  z = []                                     # 빈 리스트\n",
        "  n = []                                     # 빈 리스트\n",
        "  for i in range(len(s)):                    # 문장 길이동안\n",
        "    if s[i] not in z:                        # 처음 보는 문자가 나왔다면\n",
        "      z.append(s[i])                         # z에 넣자\n",
        "      n.append(s.count(s[i]))                # n에 그 문자 개수를 세서 넣자\n",
        "  for i in range(len(z)):                    # z의 길이동안\n",
        "    print(\"{}{}\".format(z[i], n[i]), end='') # z랑 n을 번갈아 출력하자\n",
        "\n",
        "s = input(\"문자를 입력해주세요 : \")           # 문장 입력\n",
        "ccc(s)                                        # 함수 호출\n"
      ],
      "execution_count": 76,
      "outputs": [
        {
          "output_type": "stream",
          "text": [
            "문자를 입력해주세요 : aaaabbbcczzzza\n",
            "a5b3c2z4"
          ],
          "name": "stdout"
        }
      ]
    }
  ]
}