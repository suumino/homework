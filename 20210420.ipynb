{
  "nbformat": 4,
  "nbformat_minor": 0,
  "metadata": {
    "colab": {
      "name": "Colaboratory에 오신 것을 환영합니다의 사본",
      "provenance": [],
      "collapsed_sections": [],
      "include_colab_link": true
    },
    "kernelspec": {
      "display_name": "Python 3",
      "name": "python3"
    }
  },
  "cells": [
    {
      "cell_type": "markdown",
      "metadata": {
        "id": "view-in-github",
        "colab_type": "text"
      },
      "source": [
        "<a href=\"https://colab.research.google.com/github/suumino/homework/blob/main/20210420.ipynb\" target=\"_parent\"><img src=\"https://colab.research.google.com/assets/colab-badge.svg\" alt=\"Open In Colab\"/></a>"
      ]
    },
    {
      "cell_type": "code",
      "metadata": {
        "id": "kYuFGf9OabWj"
      },
      "source": [
        "37. Is it possible to execute a program without defining a main() method?\n",
        "\n",
        "main이 없다면 에러가 난다. 자바 프로그램이 실행되면 가장 먼저 하는 일이 main 메소드를 찾는 것이기 때문이다."
      ],
      "execution_count": null,
      "outputs": []
    },
    {
      "cell_type": "code",
      "metadata": {
        "id": "le1X4KG-abYv"
      },
      "source": [
        "38. What happens when static modifier is not mentioned in the signature of main method?\n",
        "\n",
        "만약 main에 static 을 추가하지 않으면 컴파일은 실행되지만, NoSuchMethodError가 발생한다."
      ],
      "execution_count": null,
      "outputs": []
    },
    {
      "cell_type": "code",
      "metadata": {
        "id": "criwEnpzaba5"
      },
      "source": [
        "39. What is the difference between static method and instance method in Java?\n",
        "\n",
        "정적 메서드는 클래스에 대한 단일 복사본으로 존재한다. 인스턴스 메서드는 해당 클래스에 대해 생성된\n",
        "인스턴스 수에 따라 여러 복사본으로 존재한다."
      ],
      "execution_count": null,
      "outputs": []
    },
    {
      "cell_type": "code",
      "metadata": {
        "id": "0-uj5cmmabdF"
      },
      "source": [
        "40. What is the other name of Method OverLoading?\n",
        "\n",
        "컴파일 타임 다형성 및 정적 다형성"
      ],
      "execution_count": null,
      "outputs": []
    },
    {
      "cell_type": "code",
      "metadata": {
        "id": "oRWeXPsSabfr",
        "colab": {
          "base_uri": "https://localhost:8080/"
        },
        "outputId": "ec4df31a-4062-44a7-88e9-847dd022b1b5"
      },
      "source": [
        "# ALGORITHM HOMEWORK\n",
        "\n",
        "def ccc(m):                  # 함수 생성\n",
        "  l = 0                      # ( 이거 세는 변수\n",
        "  r = 0                      # ) 이거 세는 변수\n",
        "  for i in range(len(m)):    # 입력 받은 문장 길이동안\n",
        "    if m[i] == \"(\": l += 1   # 만약 그 문자가 ( 이라면 l 변수 1 증가\n",
        "    elif m[i] == \")\": r += 1 # 만약 그 문자가 ) 이라면 r 변수 1 증가\n",
        "  if l == r: print('output : Yes')    # 만약 l과 r이 같다면 yes 출력\n",
        "  else : print('output : No')         # 다르다면 no 출력\n",
        "  print(\"'(' : {}, ')' : {}\".format(l, r))  # 개수 출력\n",
        "\n",
        "m = input(\"input : \")        # 문장 입력받음\n",
        "ccc(m)                       # 함수 호출"
      ],
      "execution_count": 13,
      "outputs": [
        {
          "output_type": "stream",
          "text": [
            "input : ㄹㅇㄴㅁ)()()))()(543[+@]\n",
            "output : No\n",
            "'(' : 4, ')' : 6\n"
          ],
          "name": "stdout"
        }
      ]
    },
    {
      "cell_type": "code",
      "metadata": {
        "id": "6aTyqykKevJm"
      },
      "source": [
        ""
      ],
      "execution_count": null,
      "outputs": []
    }
  ]
}