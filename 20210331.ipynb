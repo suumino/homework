{
  "nbformat": 4,
  "nbformat_minor": 0,
  "metadata": {
    "colab": {
      "name": "Colaboratory에 오신 것을 환영합니다",
      "provenance": [],
      "collapsed_sections": [],
      "include_colab_link": true
    },
    "kernelspec": {
      "display_name": "Python 3",
      "name": "python3"
    }
  },
  "cells": [
    {
      "cell_type": "markdown",
      "metadata": {
        "id": "view-in-github",
        "colab_type": "text"
      },
      "source": [
        "<a href=\"https://colab.research.google.com/github/suumino/homework/blob/main/20210331.ipynb\" target=\"_parent\"><img src=\"https://colab.research.google.com/assets/colab-badge.svg\" alt=\"Open In Colab\"/></a>"
      ]
    },
    {
      "cell_type": "code",
      "metadata": {
        "id": "2NR_hcGQaZEx",
        "outputId": "78490c0e-d63b-426e-c721-852b95a32fba",
        "colab": {
          "base_uri": "https://localhost:8080/"
        }
      },
      "source": [
        "# ALGORITHM HOMEWORK\n",
        "\n",
        "names = '이유덕,이재영,권종표,이재영,박민호,강상희,이재영,김지완,최승혁,이성연,박영서,박민호,전경헌,송정환,김재성,이유덕,전경헌'.split(',')\n",
        "\n",
        "#1\n",
        "a = [i[0] for i in names]                                      # 성으로된 리스트 작성\n",
        "print('김씨 : %d, 이씨 : %d' %(a.count('김'), a.count('이')))  # 출력\n",
        "\n",
        "#2\n",
        "print('이재영 %d 명' %names.count('이재영'))                   # 이재영 수 세기\n",
        "\n",
        "#3\n",
        "print(set(names))                                              # 중복 없애기\n",
        "\n",
        "#4\n",
        "print(sorted(set(names)))                                      # 정렬하기"
      ],
      "execution_count": 38,
      "outputs": [
        {
          "output_type": "stream",
          "text": [
            "김씨 : 2, 이씨 : 6\n",
            "이재영 3 명\n",
            "{'송정환', '전경헌', '강상희', '권종표', '김재성', '최승혁', '박민호', '김지완', '이성연', '이유덕', '이재영', '박영서'}\n",
            "['강상희', '권종표', '김재성', '김지완', '박민호', '박영서', '송정환', '이성연', '이유덕', '이재영', '전경헌', '최승혁']\n"
          ],
          "name": "stdout"
        }
      ]
    },
    {
      "cell_type": "code",
      "metadata": {
        "id": "yF7XU4z-brW9",
        "outputId": "9a1dc09b-affb-4f96-e09e-9a01c962366c",
        "colab": {
          "base_uri": "https://localhost:8080/"
        }
      },
      "source": [
        "aa=[ i[0] for i in names ]\n",
        "print(\"김씨 : %d\\n이씨 : %d\\n\"%(a.count(\"김\"), \n",
        "a.count(\"이\")))\n",
        "#2\n",
        "\n"
      ],
      "execution_count": 32,
      "outputs": [
        {
          "output_type": "execute_result",
          "data": {
            "text/plain": [
              "['이',\n",
              " '이',\n",
              " '권',\n",
              " '이',\n",
              " '박',\n",
              " '강',\n",
              " '이',\n",
              " '김',\n",
              " '최',\n",
              " '이',\n",
              " '박',\n",
              " '박',\n",
              " '전',\n",
              " '송',\n",
              " '김',\n",
              " '이',\n",
              " '전']"
            ]
          },
          "metadata": {
            "tags": []
          },
          "execution_count": 32
        }
      ]
    },
    {
      "cell_type": "code",
      "metadata": {
        "id": "DM_shheQdDCr"
      },
      "source": [
        ""
      ],
      "execution_count": null,
      "outputs": []
    }
  ]
}