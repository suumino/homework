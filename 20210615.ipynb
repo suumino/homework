{
  "nbformat": 4,
  "nbformat_minor": 0,
  "metadata": {
    "colab": {
      "name": "Colaboratory에 오신 것을 환영합니다",
      "provenance": [],
      "collapsed_sections": [],
      "include_colab_link": true
    },
    "kernelspec": {
      "display_name": "Python 3",
      "name": "python3"
    }
  },
  "cells": [
    {
      "cell_type": "markdown",
      "metadata": {
        "id": "view-in-github",
        "colab_type": "text"
      },
      "source": [
        "<a href=\"https://colab.research.google.com/github/suumino/homework/blob/main/20210615.ipynb\" target=\"_parent\"><img src=\"https://colab.research.google.com/assets/colab-badge.svg\" alt=\"Open In Colab\"/></a>"
      ]
    },
    {
      "cell_type": "code",
      "metadata": {
        "id": "3xriMDp9027V"
      },
      "source": [
        "411. How can you determine if JVM is 32-bit or 64-bit from Java Program?\n",
        "\n",
        "JVM의 32비트와 64비트를 제어판에서 볼 수 있다. 64비트는 괄호 안에 64비트라고 써있고 32비트는 아무것도 안써있다."
      ],
      "execution_count": null,
      "outputs": []
    },
    {
      "cell_type": "code",
      "metadata": {
        "id": "iwZRlbkk029k"
      },
      "source": [
        "412. What is the right data type to represent Money (like Dollar/Pound) in Java?\n",
        "\n",
        "달러를 쓴다. java money를 위한 라이브러리는 JodaMoney이다."
      ],
      "execution_count": null,
      "outputs": []
    },
    {
      "cell_type": "code",
      "metadata": {
        "id": "IoWfOjNn6OWo"
      },
      "source": [
        "413. How can you do multiple inheritances in Java?\n",
        "\n",
        "자바는 다중상속을 제공한다. 인터페이스에서 공통 메서드를 구현하고 두 슈퍼 메소드를 호출한다. "
      ],
      "execution_count": null,
      "outputs": []
    },
    {
      "cell_type": "code",
      "metadata": {
        "id": "TRW1puk_03B8"
      },
      "source": [
        "414. Is++ operation thread-safe in Java?\n",
        "\n",
        "안전하지않다. counter++작업은 둘 이상의 원자작업으로 구성이 되기 때문이다.\n",
        "하나는 가치에 접근하고 하나는 1씩 값을 증가시킨다."
      ],
      "execution_count": null,
      "outputs": []
    },
    {
      "cell_type": "code",
      "metadata": {
        "id": "fOkzUYKZ03EE"
      },
      "source": [
        "415. How can you access a non-static variable from the static context?\n",
        "\n",
        "정적 메서드에서 비정적 변수가 속한 클래스의 객체를 만들면 변수에 액세스할 수 있다."
      ],
      "execution_count": null,
      "outputs": []
    },
    {
      "cell_type": "code",
      "metadata": {
        "id": "w2rqWcL203GV"
      },
      "source": [
        "416. Let say there is a method that throws NullPointerException in the superclass. \n",
        "Can we override it with a method that throws RuntimeException?\n",
        "\n",
        "아니요. 런타임 예외는 NullPointerException 보다 광범위하고 메서드가 재정의된 경우, 예외는 동일하거나 축소된다."
      ],
      "execution_count": null,
      "outputs": []
    },
    {
      "cell_type": "code",
      "metadata": {
        "id": "zTHdO83603I0"
      },
      "source": [
        "417. How can you mark an array volatile in Java?\n",
        "\n",
        "자바에서 어레이를 휘발성으로 만들기 위해서는 AtomicIntegerArray라는 클래스를 사용해야한다.\n",
        "이런 클래스는 get()과 set()을 제공하여 각 요소에 개별적으로 값을 검색하거나 할당한다.\n",
        "요소를 할당할때마다 배열의 참조값을 다시 할당해야한다."
      ],
      "execution_count": null,
      "outputs": []
    },
    {
      "cell_type": "code",
      "metadata": {
        "id": "QGNU4ZRy03LE"
      },
      "source": [
        "418. What is a thread local variable in Java?\n",
        "\n",
        "자바의 ThreadLocal클래스는 스레드 로컬 변수를 제공한다.\n",
        "그것은 동일한 스레드에서만 읽고 쓸 수 있다."
      ],
      "execution_count": null,
      "outputs": []
    },
    {
      "cell_type": "code",
      "metadata": {
        "id": "3z5ZCvEq03NY"
      },
      "source": [
        "419. What is the difference between sleep() and wait() methods in Java?\n",
        "\n",
        "sleep()은 대기하는 동안 잠금 또는 모디터를 해제하지 않는다면 그것을 실행하기위해 기다린다.\n",
        "하지만 wait()은 스레드간 통신에 사용되고, 절전은 일시중지를 도입하는데 사용된다."
      ],
      "execution_count": null,
      "outputs": []
    },
    {
      "cell_type": "code",
      "metadata": {
        "id": "bEsUD2eA03Pu"
      },
      "source": [
        "420. Can you create an Immutable object that contains a mutable object?\n",
        "\n",
        "불변클래스를 생성하려면 최종 클래스를 선언하고,\n",
        "getter메서드에서 개체복제를 한 후 복사본을 반환하고,\n",
        "모든 필드를 비공개로 설정하는 등을 수행하면 된다."
      ],
      "execution_count": null,
      "outputs": []
    },
    {
      "cell_type": "code",
      "metadata": {
        "id": "goYTuGor03R0",
        "outputId": "2c25e656-b50d-4bf4-a533-9197ac3a7f1a",
        "colab": {
          "base_uri": "https://localhost:8080/"
        }
      },
      "source": [
        "def ccc(n):                    # 함수 생성\n",
        "  for i in range(1, len(n)):   # 길이동안\n",
        "    if n[i]+n[i-1] > n[i]*n[i-1]:n[i] = n[i]+n[i-1]  # 더하기가 크면 뒤에 숫자 자리에 더한 수를 넣고\n",
        "    else : n[i] = n[i]*n[i-1]  # 곱하기가 크면 뒤에 숫자 자리에 곱한수를 넣어라\n",
        "  return n[i]                  # 뒤에 수를 반환\n",
        "\n",
        "n = list(map(int, input('Input : ')))   # 입력 받음\n",
        "print('Output :', ccc(n))                         # 출력"
      ],
      "execution_count": 6,
      "outputs": [
        {
          "output_type": "stream",
          "text": [
            "Input : 02984\n",
            "Output : 576\n"
          ],
          "name": "stdout"
        }
      ]
    },
    {
      "cell_type": "code",
      "metadata": {
        "id": "ndb-6BmA3gIF"
      },
      "source": [
        ""
      ],
      "execution_count": null,
      "outputs": []
    }
  ]
}