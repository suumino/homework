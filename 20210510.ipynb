{
  "nbformat": 4,
  "nbformat_minor": 0,
  "metadata": {
    "colab": {
      "name": "Colaboratory에 오신 것을 환영합니다",
      "provenance": [],
      "collapsed_sections": [],
      "include_colab_link": true
    },
    "kernelspec": {
      "display_name": "Python 3",
      "name": "python3"
    }
  },
  "cells": [
    {
      "cell_type": "markdown",
      "metadata": {
        "id": "view-in-github",
        "colab_type": "text"
      },
      "source": [
        "<a href=\"https://colab.research.google.com/github/suumino/homework/blob/main/20210510.ipynb\" target=\"_parent\"><img src=\"https://colab.research.google.com/assets/colab-badge.svg\" alt=\"Open In Colab\"/></a>"
      ]
    },
    {
      "cell_type": "code",
      "metadata": {
        "id": "V7wni9cIcWLu"
      },
      "source": [
        "131. Arrange the three classes String, StringBuffer and StringBuilder \n",
        "in the order of efficiency for String processing operations?"
      ],
      "execution_count": null,
      "outputs": []
    },
    {
      "cell_type": "code",
      "metadata": {
        "id": "rz6MxmF3cWOB"
      },
      "source": [
        "132. What is Exception Handling in Java?"
      ],
      "execution_count": null,
      "outputs": []
    },
    {
      "cell_type": "code",
      "metadata": {
        "id": "Wr4r3x04cWQO"
      },
      "source": [
        "133. In Jaca, what are the differences between a Checked and Unchecked?"
      ],
      "execution_count": null,
      "outputs": []
    },
    {
      "cell_type": "code",
      "metadata": {
        "id": "Le8MmbzncWSW"
      },
      "source": [
        "134. What is the base class for Error and Exception classes in Java?"
      ],
      "execution_count": null,
      "outputs": []
    },
    {
      "cell_type": "code",
      "metadata": {
        "id": "84Yn09KOcWUo"
      },
      "source": [
        "135. What is a finally block in Java?"
      ],
      "execution_count": null,
      "outputs": []
    },
    {
      "cell_type": "code",
      "metadata": {
        "id": "tIvGOHsecWW_"
      },
      "source": [
        "136. What is the use of finally block in Java?"
      ],
      "execution_count": null,
      "outputs": []
    },
    {
      "cell_type": "code",
      "metadata": {
        "id": "lO8ypDo7cWZI"
      },
      "source": [
        "137. Can we create a finally block without creating a catch block?"
      ],
      "execution_count": null,
      "outputs": []
    },
    {
      "cell_type": "code",
      "metadata": {
        "id": "225CE90-cWbf"
      },
      "source": [
        "138. Do we have to always put a catch block after a try block?"
      ],
      "execution_count": null,
      "outputs": []
    },
    {
      "cell_type": "code",
      "metadata": {
        "id": "X7-WnEBCdFkI"
      },
      "source": [
        "139. In what scenarios, a finally block will not be executed?"
      ],
      "execution_count": null,
      "outputs": []
    },
    {
      "cell_type": "code",
      "metadata": {
        "id": "i7WUgjnwdFmQ"
      },
      "source": [
        "140. Can we re-throw an Exception in Java?"
      ],
      "execution_count": null,
      "outputs": []
    },
    {
      "cell_type": "code",
      "metadata": {
        "id": "l2JlwA9pdFom",
        "outputId": "173189dd-7fa7-4457-b27f-256fe30684de",
        "colab": {
          "base_uri": "https://localhost:8080/"
        }
      },
      "source": [
        "# ALGORITHM HOMEWORK\n",
        "\n",
        "def ccc(n, m):               # 함수 생성\n",
        "  UD = 1                     # 행좌표(y)\n",
        "  LR = 1                     # 열좌표(x)\n",
        "  for i in m:                # m 안에서\n",
        "    if i == 'L' and LR > 2:  # L 이고 좌표가 2 초과면\n",
        "      LR -= 1                # 좌표 하나 내려감\n",
        "    if i == 'R' and LR < n:  # R이고 좌표가 n 미만이면\n",
        "      LR += 1                # 좌표 하나 올라감\n",
        "    if i == 'U' and UD > 2:  # U이고 좌표가 2 초과면\n",
        "      UD -= 1                # 좌표 하나 내려감\n",
        "    if i == 'D' and UD < n:  # D이고 좌표가 n 미만이면\n",
        "      UD += 1                # 좌표 하나 올라감\n",
        "  return UD, LR              # 좌표 반환\n",
        "\n",
        "\n",
        "n = int(input(\"n: \"))        # 크기 입력 받음\n",
        "m = list(map(str, input(\"m : \").split()))  # 어떻게 움직일지 입력받음\n",
        "\n",
        "ccc(n, m)                    # 함수 호출"
      ],
      "execution_count": 8,
      "outputs": [
        {
          "output_type": "stream",
          "text": [
            "n: 5\n",
            "m : R R R U D D\n"
          ],
          "name": "stdout"
        },
        {
          "output_type": "execute_result",
          "data": {
            "text/plain": [
              "(3, 4)"
            ]
          },
          "metadata": {
            "tags": []
          },
          "execution_count": 8
        }
      ]
    },
    {
      "cell_type": "code",
      "metadata": {
        "id": "FB4rDWFMcWeA"
      },
      "source": [
        ""
      ],
      "execution_count": null,
      "outputs": []
    }
  ]
}