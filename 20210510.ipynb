{
  "nbformat": 4,
  "nbformat_minor": 0,
  "metadata": {
    "colab": {
      "name": "Colaboratory에 오신 것을 환영합니다",
      "provenance": [],
      "collapsed_sections": [],
      "include_colab_link": true
    },
    "kernelspec": {
      "display_name": "Python 3",
      "name": "python3"
    }
  },
  "cells": [
    {
      "cell_type": "markdown",
      "metadata": {
        "id": "view-in-github",
        "colab_type": "text"
      },
      "source": [
        "<a href=\"https://colab.research.google.com/github/suumino/homework/blob/main/20210510.ipynb\" target=\"_parent\"><img src=\"https://colab.research.google.com/assets/colab-badge.svg\" alt=\"Open In Colab\"/></a>"
      ]
    },
    {
      "cell_type": "code",
      "metadata": {
        "id": "V7wni9cIcWLu"
      },
      "source": [
        "131. Arrange the three classes String, StringBuffer and StringBuilder \n",
        "in the order of efficiency for String processing operations?\n",
        "\n",
        "효율성 순서로 String, StringBuffer, StringBuilder를 배치한다면\n",
        "StringBuilder, StringBuffer, String 이다. "
      ],
      "execution_count": null,
      "outputs": []
    },
    {
      "cell_type": "code",
      "metadata": {
        "id": "rz6MxmF3cWOB"
      },
      "source": [
        "132. What is Exception Handling in Java?\n",
        "\n",
        "예외처리란 예외가 발생해도 프로그램의 흐름이 중단되지 않도록 한다. \n",
        "그리고 예외처리를 이용하여 그 부분의 역할을 정확하게 알 수도 있다."
      ],
      "execution_count": null,
      "outputs": []
    },
    {
      "cell_type": "code",
      "metadata": {
        "id": "Wr4r3x04cWQO"
      },
      "source": [
        "133. In Java, what are the differences between a Checked and Unchecked?\n",
        "\n",
        "확인된 예외는 프로그램의 런타임에서 확인이 되지만, 확인되지않은 예외는 \n",
        "프로그램의 컴파일 시간에 확인된다."
      ],
      "execution_count": null,
      "outputs": []
    },
    {
      "cell_type": "code",
      "metadata": {
        "id": "Le8MmbzncWSW"
      },
      "source": [
        "134. What is the base class for Error and Exception classes in Java?\n",
        "\n",
        "기본 클래스는 Throwable 클래스의 하위 클래스이다. "
      ],
      "execution_count": null,
      "outputs": []
    },
    {
      "cell_type": "code",
      "metadata": {
        "id": "84Yn09KOcWUo"
      },
      "source": [
        "135. What is a finally block in Java?\n",
        "\n",
        "연결 종료, 스트림과 같은 중요한 코드를 실행하는 데 사용되는 블록이다.\n",
        "예외처리와 관계없이 항상 실행된다."
      ],
      "execution_count": null,
      "outputs": []
    },
    {
      "cell_type": "code",
      "metadata": {
        "id": "tIvGOHsecWW_"
      },
      "source": [
        "136. What is the use of finally block in Java?\n",
        "\n",
        "코드 정리와 같은 중요한 코드들을 실행하고 넣는 데 사용된다.\n",
        "예외처리와 상관이 없기 때문에 모든 중요한 문이 포함된다."
      ],
      "execution_count": null,
      "outputs": []
    },
    {
      "cell_type": "code",
      "metadata": {
        "id": "lO8ypDo7cWZI"
      },
      "source": [
        "137. Can we create a finally block without creating a catch block?\n",
        "\n",
        "finally 블록은 try 블록이 종료될 때 항상 실행된다. 그래서 catch 없이 \n",
        "finally 를 사용할 수는 있지만 try를 사용해야 한다."
      ],
      "execution_count": null,
      "outputs": []
    },
    {
      "cell_type": "code",
      "metadata": {
        "id": "225CE90-cWbf"
      },
      "source": [
        "138. Do we have to always put a catch block after a try block?\n",
        "\n",
        "그건 아니다. try 뒤에 finally가 오는 것이 아니라면 catch를 try 뒤에 넣어야하는 것은 아니다."
      ],
      "execution_count": null,
      "outputs": []
    },
    {
      "cell_type": "code",
      "metadata": {
        "id": "X7-WnEBCdFkI"
      },
      "source": [
        "139. In what scenarios, a finally block will not be executed?\n",
        "\n",
        "try나 catch가 실행되는 동안 JVM이 종료되면 finally가 실행되지 않을 수도 있다."
      ],
      "execution_count": null,
      "outputs": []
    },
    {
      "cell_type": "code",
      "metadata": {
        "id": "i7WUgjnwdFmQ"
      },
      "source": [
        "140. Can we re-throw an Exception in Java?\n",
        "\n",
        "catch블록이 예외처리를 할 수 없는 경우 다시 throw할 수 있다. try에 대한 모든 catch\n",
        "는 예외를 할 수 있다."
      ],
      "execution_count": null,
      "outputs": []
    },
    {
      "cell_type": "code",
      "metadata": {
        "colab": {
          "base_uri": "https://localhost:8080/"
        },
        "id": "l2JlwA9pdFom",
        "outputId": "32fa59e1-acf2-4572-8175-1af7711576f4"
      },
      "source": [
        "# ALGORITHM HOMEWORK\n",
        "\n",
        "def ccc(n, m):               # 함수 생성\n",
        "  UD = 1                     # 행좌표(y)\n",
        "  LR = 1                     # 열좌표(x)\n",
        "  for i in m:                # m 안에서\n",
        "    if i == 'L' and LR > 2: LR -= 1 # L 이고 좌표가 2 초과면 좌표 하나 내려감                    \n",
        "    if i == 'R' and LR < n: LR += 1 # R이고 좌표가 n 미만이면 좌표 하나 올라감                  \n",
        "    if i == 'U' and UD > 2: UD -= 1 # U이고 좌표가 2 초과면 좌표 하나 내려감                 \n",
        "    if i == 'D' and UD < n: UD += 1 # D이고 좌표가 n 미만이면 좌표 하나 올라감                      \n",
        "  return UD, LR              # 좌표 반환\n",
        "\n",
        "\n",
        "n = int(input(\"n: \"))        # 크기 입력 받음\n",
        "m = list(map(str, input(\"m : \").split()))  # 어떻게 움직일지 입력받음\n",
        "\n",
        "ccc(n, m)                    # 함수 호출"
      ],
      "execution_count": 9,
      "outputs": [
        {
          "output_type": "stream",
          "text": [
            "n: 5\n",
            "m : R R R U U D D\n"
          ],
          "name": "stdout"
        },
        {
          "output_type": "execute_result",
          "data": {
            "text/plain": [
              "(3, 4)"
            ]
          },
          "metadata": {
            "tags": []
          },
          "execution_count": 9
        }
      ]
    },
    {
      "cell_type": "code",
      "metadata": {
        "id": "FB4rDWFMcWeA"
      },
      "source": [
        ""
      ],
      "execution_count": null,
      "outputs": []
    }
  ]
}