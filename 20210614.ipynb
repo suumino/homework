{
  "nbformat": 4,
  "nbformat_minor": 0,
  "metadata": {
    "colab": {
      "name": "Colaboratory에 오신 것을 환영합니다",
      "provenance": [],
      "collapsed_sections": [],
      "include_colab_link": true
    },
    "kernelspec": {
      "display_name": "Python 3",
      "name": "python3"
    }
  },
  "cells": [
    {
      "cell_type": "markdown",
      "metadata": {
        "id": "view-in-github",
        "colab_type": "text"
      },
      "source": [
        "<a href=\"https://colab.research.google.com/github/suumino/homework/blob/main/20210614.ipynb\" target=\"_parent\"><img src=\"https://colab.research.google.com/assets/colab-badge.svg\" alt=\"Open In Colab\"/></a>"
      ]
    },
    {
      "cell_type": "code",
      "metadata": {
        "id": "Dti0mxEurmMG"
      },
      "source": [
        "401. What is a StringJoiner in Java 8?\n",
        "\n",
        "문자열을 생성하는데 사용할 수 있는 자바 8의 새로운 클래스이다. \n",
        "예다\n",
        "StringJoiner sj = new StringJoiner(\":\", \"[\", \"]\");\n",
        "sj.add(\"One\").add(\"Two\").add(\"Tree\");\n",
        "String desiredString = sj.toString();"
      ],
      "execution_count": null,
      "outputs": []
    },
    {
      "cell_type": "code",
      "metadata": {
        "id": "njyB1Uk6rmPB"
      },
      "source": [
        "402. What is the type of a Lambda expression in Java 8?\n",
        "\n",
        "람다의 타입은 컨텍스트에 따라 다르다. 자체 유형이 없기 때문이다.\n",
        "람다는 일반적으로 기능 인터페이스의 인스턴스이다."
      ],
      "execution_count": null,
      "outputs": []
    },
    {
      "cell_type": "code",
      "metadata": {
        "id": "PwRhWGZHrqc1"
      },
      "source": [
        "403. What is the target type of a lambda expression?\n",
        "\n",
        "람다식의 형식은 식을 변환할 수 있다. 대상의 유형은 아까도 말했지만 기능인터페이스다.\n",
        "람다식은 인터페이스 함수의 매개변수와 동일한 매개변수유형을 가져야한다. 그리고 함수의 반환 유형과 호환되는 유형을 반환해야한다."
      ],
      "execution_count": null,
      "outputs": []
    },
    {
      "cell_type": "code",
      "metadata": {
        "id": "R8GmUbA4rqe9"
      },
      "source": [
        "404. What are the main differences between an interface with default method and an abstract class in Java 8?\n",
        "\n",
        "차이점을 말하자면 추상 클래스는 인스턴스변수와 생성자를 가질 수 있지만 인터페이스는 가질 수 없다.\n",
        "그리고 추상클래스는 구현과 함께 구체적인 메서드를 정의할 수 있지만 인터페이스는 그러지 못한다.\n",
        "그리고 하나의 기본 메서드가 있는 인터페이스를 람다식에 사용할 수 있지만 추상 클래스는 람다식에 사용할 수 없다."
      ],
      "execution_count": null,
      "outputs": []
    },
    {
      "cell_type": "code",
      "metadata": {
        "id": "eOEmMHgIrqhH"
      },
      "source": [
        "405. Is there any difference between a = a + b and a += b expressions?\n",
        "\n",
        "정확성이 차이가 날 경우도 있지만 내가 했을땐 똑같이 나왔다."
      ],
      "execution_count": null,
      "outputs": []
    },
    {
      "cell_type": "code",
      "metadata": {
        "id": "KKaBgRO4rqjT"
      },
      "source": [
        "406. What does the expression 1.0/0.0 return? will there be any compilation error?\n",
        "\n",
        "Infinity 이거가 출력된다. 이거는 에러지만 컴파일 에러는 아니다. "
      ],
      "execution_count": null,
      "outputs": []
    },
    {
      "cell_type": "code",
      "metadata": {
        "id": "9b10X-Udrqmh"
      },
      "source": [
        "407. Can we use multiple main methods in multiple classes?\n",
        "\n",
        "된다. 오버로딩을 하면 main과 다른 서명을 가진 main메소드를 가질 수 있고, JVM은 그런건 다 무시한다.\n",
        "각 클래스에는 하나의 public static void main(String[] args)를 가질 수 있다. "
      ],
      "execution_count": null,
      "outputs": []
    },
    {
      "cell_type": "code",
      "metadata": {
        "id": "N7W-7449rqqV"
      },
      "source": [
        "408. Does Java allow you to override a private or static method?\n",
        "\n",
        "정적 메소드를 재정의할 수 있으면 정적 메소드가 아니다.\n",
        "자바의 private 메서드는 다른 클래스에는 표시되지가 않는다."
      ],
      "execution_count": null,
      "outputs": []
    },
    {
      "cell_type": "code",
      "metadata": {
        "id": "yspDf8KOrqtf"
      },
      "source": [
        "409. What happens when you put a key object in a HashMap that is already present?\n",
        "\n",
        "이전의 키가 없어지고 새로운 키가 이전 키를 대신한다. "
      ],
      "execution_count": null,
      "outputs": []
    },
    {
      "cell_type": "code",
      "metadata": {
        "id": "fTmyhhVlrqxL"
      },
      "source": [
        "410. How can you make sure that N threads can access N resources without deadlock?\n",
        "\n",
        "잠금에 순서를 적용하고 스레드가 그 순서를 따르도록 하면 교착상태를 피할 수 있다. "
      ],
      "execution_count": null,
      "outputs": []
    },
    {
      "cell_type": "code",
      "metadata": {
        "id": "xCGd8CQqrmRt",
        "outputId": "8a7d2c66-a967-45f9-ea5d-8668334424e7",
        "colab": {
          "base_uri": "https://localhost:8080/"
        }
      },
      "source": [
        "def ccc(n):                        # 함수 생성\n",
        "  k = len(n)                       # 총 몇명의 모험가인지 저장\n",
        "  n = sorted(n)                    # 공포도 작은 순으로 정렬\n",
        "  c = 0                            # 그룹이 몇개 나오는지 셀 변수임\n",
        "  for i in range(len(n)-1, 0, -1): # 모험가의 수동안\n",
        "    if k >= n[i]:                  # 사람 수가 제일 큰 공포도보다 크거나 같으면\n",
        "      k -= n[i]                    # 공포도가 가장 큰만큼 사람 수를 뺌\n",
        "      c += 1                       # 그룹 1개\n",
        "    else : break                   # 만약 공포도가 남은 사람수보다 더 크면 반복 끝냄\n",
        "  return c                         # 그룹 수 반환\n",
        "\n",
        "a = int(input(\"모험가 수 입력: \")) # 모험가 수 입력\n",
        "n = list(map(int, input(\"공포도 입력: \").split()))  # 공포도 입력\n",
        "print(ccc(n))                      # 함수 호출 및 출력\n",
        "\n"
      ],
      "execution_count": 3,
      "outputs": [
        {
          "output_type": "stream",
          "text": [
            "모험가 수 입력: 5\n",
            "공포도 입력: 2 3 1 2 2\n",
            "2\n"
          ],
          "name": "stdout"
        }
      ]
    },
    {
      "cell_type": "code",
      "metadata": {
        "id": "iwfclA8frmUT"
      },
      "source": [
        ""
      ],
      "execution_count": null,
      "outputs": []
    }
  ]
}