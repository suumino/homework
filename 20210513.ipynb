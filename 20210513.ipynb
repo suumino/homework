{
  "nbformat": 4,
  "nbformat_minor": 0,
  "metadata": {
    "colab": {
      "name": "Colaboratory에 오신 것을 환영합니다",
      "provenance": [],
      "collapsed_sections": [],
      "include_colab_link": true
    },
    "kernelspec": {
      "display_name": "Python 3",
      "name": "python3"
    }
  },
  "cells": [
    {
      "cell_type": "markdown",
      "metadata": {
        "id": "view-in-github",
        "colab_type": "text"
      },
      "source": [
        "<a href=\"https://colab.research.google.com/github/suumino/homework/blob/main/20210513.ipynb\" target=\"_parent\"><img src=\"https://colab.research.google.com/assets/colab-badge.svg\" alt=\"Open In Colab\"/></a>"
      ]
    },
    {
      "cell_type": "code",
      "metadata": {
        "id": "OQmxAACD4ob-"
      },
      "source": [
        "161. In Java, how will you decide when to use a List, Set or a Map collection?\n",
        "\n",
        "중복을 원하지 않는 경우에는 set을 선택하고, 인덱스를 사용하여 작업할 경우 list를 선택한다."
      ],
      "execution_count": null,
      "outputs": []
    },
    {
      "cell_type": "code",
      "metadata": {
        "id": "g2_rThTJ4oeZ"
      },
      "source": [
        "162. What are the differences between a HashMajp and a Hashtable in Java?\n",
        "\n",
        "HashMap은 동기화되지 않지만 Hashtable은 동기화된다. Hashtable은 \n",
        "스레드로부터 안전하고, 공유할 수 있지만 HashMap은 공유 못한다."
      ],
      "execution_count": null,
      "outputs": []
    },
    {
      "cell_type": "code",
      "metadata": {
        "id": "J8hqVStP4ogz"
      },
      "source": [
        "163. What are the differences Between a hashMap and a TreeMap?\n",
        "\n",
        "hashmap은 간단한 Map 인터페이스를 구현하고 내부적으로 해당 요소의\n",
        "저장 및 검색을 하기위해서 hash를 사용한다. 그리고 treemap은 sortedMap 인터페이스를 구현한다."
      ],
      "execution_count": null,
      "outputs": []
    },
    {
      "cell_type": "code",
      "metadata": {
        "id": "FXRbPQFd4ojb"
      },
      "source": [
        "164. What are the differences between Comparable and Comparator?\n",
        "\n",
        "comparable은 정렬된 객체에 사용되지만 comparator는 정렬을 한다.\n",
        "그리고 comparable은 this를 사용하여 개체를 비교하고, comparator는 \n",
        "서로 다른 두 클래스의 개체를 고려한다."
      ],
      "execution_count": null,
      "outputs": []
    },
    {
      "cell_type": "code",
      "metadata": {
        "id": "agSf9moj4olz"
      },
      "source": [
        "165. in Java, what is the purpose of Properties file?\n",
        "\n",
        "properties 파일은 응용 프로그램의 매개변수를 저장하기 위해 사용되는 파일확장자이다. \n",
        "키 값에 정적 정보를 저장하는 데 사용한다. server.port:8080 이런거."
      ],
      "execution_count": null,
      "outputs": []
    },
    {
      "cell_type": "code",
      "metadata": {
        "id": "cRZDKfS-4o4H"
      },
      "source": [
        "166. What is the reason for overriding equals() method?\n",
        "\n",
        "자체 클래스 객체를 hashmap이나 hashtable의 key로 사용하려면 hashcode()와 equals()를 재정의\n",
        "해야한다. 그렇지 않으면 오류가 난다."
      ],
      "execution_count": null,
      "outputs": []
    },
    {
      "cell_type": "code",
      "metadata": {
        "id": "ORutmDvH4o6Z"
      },
      "source": [
        "167. How does hashCode() method work in Java?\n",
        "\n",
        "hashcode()는 hashing 알고리즘에 의해 생성된 정수 값을 반환한다.\n",
        "같은 객체는 같은 hashcode를 반환한다."
      ],
      "execution_count": null,
      "outputs": []
    },
    {
      "cell_type": "code",
      "metadata": {
        "id": "1AI2U1JU4o83"
      },
      "source": [
        "168. Is it a good idea to use Generics in collections?\n",
        "\n",
        "generics는 다양한 컬렉션에서 작동하고 정의를 할 수 있으며, 유형이 변질될 우려가 적기 때문에\n",
        "사용하면 좋다."
      ],
      "execution_count": null,
      "outputs": []
    },
    {
      "cell_type": "code",
      "metadata": {
        "id": "OdqSkLrV4o_m"
      },
      "source": [
        "169. What is the difference between Collections.emptyList() and creating new instance of Collection?\n",
        "\n",
        "emptyList()는 요소를 추가하거나 삭제가 불가능하다. 때문에 collection의 새 인스턴스 생성을 하여\n",
        "수정이나 요소를 추가할 수 있는 list를 만들면 된다."
      ],
      "execution_count": null,
      "outputs": []
    },
    {
      "cell_type": "code",
      "metadata": {
        "id": "r3w2XI-54pCX"
      },
      "source": [
        "170. How will you copy elements from a Source List to another list?\n",
        "\n",
        "collections.copy()를 사용하여 복사하면 된다. 혹은 for문을 사용할 수도 있지않을까? "
      ],
      "execution_count": null,
      "outputs": []
    },
    {
      "cell_type": "code",
      "metadata": {
        "id": "b_W_7M_G4pIM",
        "outputId": "458860c0-992f-4472-8d87-328fb7fafbb2",
        "colab": {
          "base_uri": "https://localhost:8080/"
        }
      },
      "source": [
        "def ccc(n, m):\n",
        "  i = 2\n",
        "  while True:\n",
        "    try :\n",
        "      if n[i] == '0' or n[i] == '.':\n",
        "        n = n.replace('0', '')\n",
        "        n = n.replace('.', '')\n",
        "        i += 1\n",
        "      else : i += 1\n",
        "    except:\n",
        "      break;\n",
        "  while True:\n",
        "    try :\n",
        "      if m[i] == '0' or m[i] == '.':\n",
        "        m = m.replace('0', '')\n",
        "        m = m.replace('.', '')\n",
        "        i += 1\n",
        "      else : i += 1\n",
        "    except:\n",
        "      break;\n",
        "  if n > m: print(1)\n",
        "  elif n < m: print(-1)\n",
        "  else : print(0)\n",
        "  \n",
        "\n",
        "\n",
        "n = input(\"version1 = \")\n",
        "m = input(\"version2 = \")\n",
        "ccc(n, m)"
      ],
      "execution_count": 29,
      "outputs": [
        {
          "output_type": "stream",
          "text": [
            "version1 = 1.0.1\n",
            "version2 = 1\n",
            "1\n"
          ],
          "name": "stdout"
        }
      ]
    },
    {
      "cell_type": "code",
      "metadata": {
        "id": "MXd8vKXcEzDQ"
      },
      "source": [
        ""
      ],
      "execution_count": null,
      "outputs": []
    }
  ]
}