{
  "nbformat": 4,
  "nbformat_minor": 0,
  "metadata": {
    "colab": {
      "name": "Colaboratory에 오신 것을 환영합니다",
      "provenance": [],
      "collapsed_sections": [],
      "include_colab_link": true
    },
    "kernelspec": {
      "display_name": "Python 3",
      "name": "python3"
    }
  },
  "cells": [
    {
      "cell_type": "markdown",
      "metadata": {
        "id": "view-in-github",
        "colab_type": "text"
      },
      "source": [
        "<a href=\"https://colab.research.google.com/github/suumino/homework/blob/main/20210701.ipynb\" target=\"_parent\"><img src=\"https://colab.research.google.com/assets/colab-badge.svg\" alt=\"Open In Colab\"/></a>"
      ]
    },
    {
      "cell_type": "code",
      "metadata": {
        "id": "ffF4shcJSJpy",
        "outputId": "cee21881-794b-43c2-97de-e4db53171301",
        "colab": {
          "base_uri": "https://localhost:8080/"
        }
      },
      "source": [
        "class nnn:                            # 클래스 생성\n",
        "  def ccc(self, n):                   # 함수 생성\n",
        "    a = sum(n)                        # a는 모든 n을 더한 값이다\n",
        "    b = a/4                           # b는 a를 4로 나눈 값으로 사각형의 한 변의 길이\n",
        "    c = 0                             # c는 0이고 변의 수를 셀 변수이다\n",
        "    for i in range(len(n)-1):         # 먼저 리스트의 한 숫자를 정하고\n",
        "      if n[i] == b:                   # 만약 그 수가 한 변의 길이와 같다면\n",
        "        n[i] = 0                      # 그 수를 0으로 만들고\n",
        "        c += 1                        # 변이 1개 나왔다고 표시\n",
        "      for j in range(i+1, len(n)):    # 다른 한 수를 정함\n",
        "        if n[i] +  n[j] == b:         # 그 수는 한변의 길이가 아니지만 다른 수와 더했을때 한 변의 길이가 나온다면\n",
        "          n[i] = 0                    # 그 수도 0\n",
        "          n[j] = 0                    # 다른 수도 0으로 만들고\n",
        "          c += 1                      # 변이 1개 나왔다고 표시\n",
        "    if c == 4:                        # 반복이 끝났을 때 변이 4개가 나왔다면\n",
        "      return True                     # True 반환\n",
        "    else: return False                # 아니라면 False 반환\n",
        "\n",
        "nnn = nnn()              # 클래스 객체 생성\n",
        "n = [1, 1, 2, 2, 2]      # 리스트\n",
        "m = [3, 3, 3, 3, 4]      # 리스트\n",
        "print(nnn.ccc(n))        # 함수 호출과 출력\n",
        "print(nnn.ccc(m))        # 함수 호출과 출력\n",
        "\n"
      ],
      "execution_count": 3,
      "outputs": [
        {
          "output_type": "stream",
          "text": [
            "False\n",
            "True\n"
          ],
          "name": "stdout"
        }
      ]
    },
    {
      "cell_type": "code",
      "metadata": {
        "id": "Fx6gKXqBSJsO"
      },
      "source": [
        ""
      ],
      "execution_count": null,
      "outputs": []
    },
    {
      "cell_type": "code",
      "metadata": {
        "id": "njtBW88nSJuq"
      },
      "source": [
        ""
      ],
      "execution_count": null,
      "outputs": []
    }
  ]
}