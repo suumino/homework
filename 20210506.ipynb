{
  "nbformat": 4,
  "nbformat_minor": 0,
  "metadata": {
    "colab": {
      "name": "Colaboratory에 오신 것을 환영합니다",
      "provenance": [],
      "collapsed_sections": [],
      "include_colab_link": true
    },
    "kernelspec": {
      "display_name": "Python 3",
      "name": "python3"
    }
  },
  "cells": [
    {
      "cell_type": "markdown",
      "metadata": {
        "id": "view-in-github",
        "colab_type": "text"
      },
      "source": [
        "<a href=\"https://colab.research.google.com/github/suumino/homework/blob/main/20210506.ipynb\" target=\"_parent\"><img src=\"https://colab.research.google.com/assets/colab-badge.svg\" alt=\"Open In Colab\"/></a>"
      ]
    },
    {
      "cell_type": "code",
      "metadata": {
        "id": "X1eLQFL2x3FP"
      },
      "source": [
        "121. What is the meaning of Immutable in the context of String class in Java?\n",
        "\n",
        "변수에 객체가 한 번 할당되면, 해당 객체의 참조를 변경할 수도 없고 내부의 상태를\n",
        "수정할 수도 없다. 즉, 불변의 객체는 객체가 생성된 후에 내부의 상태가 \n",
        "변하지 않고 계속 유지되는 객체를 말한다."
      ],
      "execution_count": null,
      "outputs": []
    },
    {
      "cell_type": "code",
      "metadata": {
        "id": "kVt2_CsD2mzh"
      },
      "source": [
        "122. Why a String object is considered immutable in java?\n",
        "\n",
        "String 객체를 공유하려면 String은 반드시 immutable이어야 한다. 또 호출자에 의해\n",
        "String이 변하는 것을 막고, 멀티 스레드 환경에서도 값이 바뀌지 않게하기 위해 객체가 불변이다."
      ],
      "execution_count": null,
      "outputs": []
    },
    {
      "cell_type": "code",
      "metadata": {
        "id": "nO5yesTpx3Ae"
      },
      "source": [
        "123. How many objects does following code create?\n",
        "\n",
        "following code가 뭔지 모르겠다."
      ],
      "execution_count": null,
      "outputs": []
    },
    {
      "cell_type": "code",
      "metadata": {
        "id": "2B5KG_EKx294"
      },
      "source": [
        "124. How many ways are there in Java to create a String object?\n",
        "\n",
        "총 두가지 방법이 있다. String 클래스는 문자열 개체를 만드는 데에 사용이 되고, \n",
        "큰 따옴표를 사용하여 생성된다. 혹은 문자 배열을 사용할 수도 있고,\n",
        "새 키워드 즉 new String을 사용할 수도 있다."
      ],
      "execution_count": null,
      "outputs": []
    },
    {
      "cell_type": "code",
      "metadata": {
        "id": "dT6jLT36x27e"
      },
      "source": [
        "125. How many objects does following code create?\n",
        "\n",
        "123번이랑 똑같다."
      ],
      "execution_count": null,
      "outputs": []
    },
    {
      "cell_type": "code",
      "metadata": {
        "id": "Z3NCzNWux24y"
      },
      "source": [
        "126. What is String interning?\n",
        "\n",
        "특정한 문자열을 조회하여 존재하는 경우에 반환하고, 아닌 경우 문자를\n",
        "등록하고 문자열을 반환하는 메소드이며 그 과정 자체를 이르기도 한다."
      ],
      "execution_count": null,
      "outputs": []
    },
    {
      "cell_type": "code",
      "metadata": {
        "id": "DrOP_Oxhx22K"
      },
      "source": [
        "127. Why java uses String literal concept?\n",
        "\n",
        "주로 불변인 String은 동일한 객체가 공유될 수 있기 때문에\n",
        "중복되지 않게 존재하도록 유지해준다."
      ],
      "execution_count": null,
      "outputs": []
    },
    {
      "cell_type": "code",
      "metadata": {
        "id": "duBh360Wx2zg"
      },
      "source": [
        "128. What is the basic difference between a String and StringBuffer object?\n",
        "\n",
        "쉽게 말하면 String은 불변하고, StringBuffer 는 가변한다.\n",
        "즉 String은 리터럴을 통해 생성되면 그 인스턴스의 메모리공간은 절대 변하지 않는다."
      ],
      "execution_count": null,
      "outputs": []
    },
    {
      "cell_type": "code",
      "metadata": {
        "id": "ITBL35o-x2w8"
      },
      "source": [
        "129. How will you create an immutable class in Java?\n",
        "\n",
        "클래스를 확장할 수 없도록 final 선언을 한다. 또 값이 중복되지 않게 하기 위해 \n",
        "모든 mutable한 필드를 final로 만든다. 전체를 복사하는 생성자를 통해 모든 필드를 초기화하고, \n",
        "getter메서드를 수행하여 복사본을 반환한다."
      ],
      "execution_count": null,
      "outputs": []
    },
    {
      "cell_type": "code",
      "metadata": {
        "id": "0xy76v0xx2uS"
      },
      "source": [
        "130. What is the use of toString() method in java?\n",
        "\n",
        "toString()메서드는 객체의 문자열 표현을 반환한다. 객체를 인쇄할 때 toSting() 메서드가 호출되고,\n",
        "원하는 출력을 반환한다."
      ],
      "execution_count": null,
      "outputs": []
    },
    {
      "cell_type": "code",
      "metadata": {
        "id": "8mFn0Pvdx2rq",
        "outputId": "33f2cd40-c6d7-4ac0-89cb-90c1d1aa9361",
        "colab": {
          "base_uri": "https://localhost:8080/"
        }
      },
      "source": [
        "# ALGORITHM HOMEWORK\n",
        "\n",
        "def ccc(n, k):               # 숫자 입력받음\n",
        "  c = 0                      # 횟수를 세는 변수\n",
        "  while n > 1:               # 1보다 클 때 \n",
        "    if n % k == 0: n = n/k   # 만약 k로 나누어떨어지면 나눔\n",
        "    else : n -= 1            # 안나눠떨어지면 1뺌\n",
        "    c += 1                   # 횟수 1 증가\n",
        "  return c                   # 횟수 반환\n",
        "\n",
        "print(ccc(17, 4))            # 함수 호출"
      ],
      "execution_count": 6,
      "outputs": [
        {
          "output_type": "stream",
          "text": [
            "3\n"
          ],
          "name": "stdout"
        }
      ]
    },
    {
      "cell_type": "code",
      "metadata": {
        "id": "pZskmTTxx2o_"
      },
      "source": [
        ""
      ],
      "execution_count": null,
      "outputs": []
    },
    {
      "cell_type": "code",
      "metadata": {
        "id": "a0Iv2Zvhx2mo"
      },
      "source": [
        ""
      ],
      "execution_count": null,
      "outputs": []
    }
  ]
}