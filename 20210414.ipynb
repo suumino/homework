{
  "nbformat": 4,
  "nbformat_minor": 0,
  "metadata": {
    "colab": {
      "name": "Colaboratory에 오신 것을 환영합니다",
      "provenance": [],
      "collapsed_sections": [],
      "include_colab_link": true
    },
    "kernelspec": {
      "display_name": "Python 3",
      "name": "python3"
    }
  },
  "cells": [
    {
      "cell_type": "markdown",
      "metadata": {
        "id": "view-in-github",
        "colab_type": "text"
      },
      "source": [
        "<a href=\"https://colab.research.google.com/github/suumino/homework/blob/main/20210414.ipynb\" target=\"_parent\"><img src=\"https://colab.research.google.com/assets/colab-badge.svg\" alt=\"Open In Colab\"/></a>"
      ]
    },
    {
      "cell_type": "code",
      "metadata": {
        "id": "riVrvNWilC_Q"
      },
      "source": [
        "25. In OOPS, what is meant by composition?\n",
        "\n",
        "OOPS는 객체지향 프로그래밍 시스템을 뜻하고 objectoriented programming system 이다. \n",
        "거기서의 composition은 객체와 객체를 합성하는 것으로 다른 객체를 여러개 붙여 새로운 기능 혹은 객체를 구성하는 것을 뜻한다. "
      ],
      "execution_count": null,
      "outputs": []
    },
    {
      "cell_type": "code",
      "metadata": {
        "id": "L-uo3FUslC8w"
      },
      "source": [
        "26. How aggregation and composition are different concepts?\n",
        "\n",
        "먼저 aggregation은 두 개체간의 연결이다. 포함된 개체가 소유 개체 없이 존재할 수 있으면 aggregation이고, \n",
        "소유 개체가 없이 포함된 개체가 존재할 수 없는 경우 compositionㅇ다. "
      ],
      "execution_count": null,
      "outputs": []
    },
    {
      "cell_type": "code",
      "metadata": {
        "id": "ba2VkzE-lC51"
      },
      "source": [
        "27. Why there are no pointers in Java?\n",
        "\n",
        "포인터의 잘못된 사용으로 인한 오작동을 줄이기 위해 설계 시 배제되었다.\n",
        "자바는 메모리를 프로그램에서 직접 관리하기 때문에 필요없는 데이터는 없애는 GC가 존재하고, \n",
        "GC값이 객체를 정리하며 객체의 위치(주소)를 바꿀 수 있기 때문에 포인터로 직접 객체 주소를 관리하면 \n",
        "많은 오류가 발생할 수 있다.\n",
        "자바에서는 그 객체가 메모리상 어디에 존재하는지 주소(포인터)는 알 수 없지만\n",
        "객체를 찾아갈 수 있는 방법(참조)는 알 수 있다."
      ],
      "execution_count": null,
      "outputs": []
    },
    {
      "cell_type": "code",
      "metadata": {
        "id": "LlgQVD1zlC25"
      },
      "source": [
        "28. If there are no pointers in Java, then why do we get NullPointerException?\n",
        "\n",
        "Null 값 때문에 발생하는 Runtime Exception이다. 참조타입 변수가 null 상태에서 존재하지 않는 객체의 데이터나 메소드를 사용할 경우 발생한다."
      ],
      "execution_count": null,
      "outputs": []
    },
    {
      "cell_type": "code",
      "metadata": {
        "id": "et3lcKEGiDD6",
        "outputId": "eacae429-404f-41e3-9476-b79f1ee94585",
        "colab": {
          "base_uri": "https://localhost:8080/"
        }
      },
      "source": [
        "# ALGORITHM HOMEWORK\n",
        "\n",
        "def ccc(n):                         # 함수 생성\n",
        "  for i in range(len(n)):           # 리스트 길이동안\n",
        "    n[i] = ''.join(reversed(n[i]))  # 리스트 요소들을 전부 뒤집음\n",
        "  a = sorted(n)                     # 정렬함\n",
        "  for i in range(len(a)):           # 리스트 요소들\n",
        "    a[i] = ''.join(reversed(a[i]))  # 다시 전부 뒤집음\n",
        "  return a                          # 반환\n",
        "\n",
        "\n",
        "\n",
        "\n",
        "n = [\"a1\", \"a2\", \"a3\", \"a4\", \"an\", \"b1\", \"b2\", \"bn\"]  # 이게 리스트\n",
        "print(ccc(n))                                         # 출력"
      ],
      "execution_count": 45,
      "outputs": [
        {
          "output_type": "stream",
          "text": [
            "['a1', 'b1', 'a2', 'b2', 'a3', 'a4', 'an', 'bn']\n"
          ],
          "name": "stdout"
        }
      ]
    }
  ]
}