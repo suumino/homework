{
  "nbformat": 4,
  "nbformat_minor": 0,
  "metadata": {
    "colab": {
      "name": "Colaboratory에 오신 것을 환영합니다",
      "provenance": [],
      "collapsed_sections": [],
      "include_colab_link": true
    },
    "kernelspec": {
      "display_name": "Python 3",
      "name": "python3"
    }
  },
  "cells": [
    {
      "cell_type": "markdown",
      "metadata": {
        "id": "view-in-github",
        "colab_type": "text"
      },
      "source": [
        "<a href=\"https://colab.research.google.com/github/suumino/homework/blob/main/20210617.ipynb\" target=\"_parent\"><img src=\"https://colab.research.google.com/assets/colab-badge.svg\" alt=\"Open In Colab\"/></a>"
      ]
    },
    {
      "cell_type": "code",
      "metadata": {
        "id": "UPqFBJ4hJYx8"
      },
      "source": [
        "431. Can we use multiple main methods in same class?\n",
        "\n",
        "사용할 수 있다. 이름이 main인 여러 메소들을 동일한 클래스로 사용할 수 있다. 그렇지만 \n",
        "signature public static void main은 하나여야 한다."
      ],
      "execution_count": null,
      "outputs": []
    },
    {
      "cell_type": "code",
      "metadata": {
        "id": "WbSXi9GbJY0S"
      },
      "source": [
        "432. When creating an abstract class, is it a good idea to call abstract methods inside its constructor?\n",
        "\n",
        "아니다. 생성자에서 추상 메서드를 호출하지 않아야한다. 추상적 방법을 제한할 수 있기 때문이다.\n",
        "메서드는 자식 클래스에 의해 구현될 수 있다."
      ],
      "execution_count": null,
      "outputs": []
    },
    {
      "cell_type": "code",
      "metadata": {
        "id": "vkcHo-WmJY21"
      },
      "source": [
        "433. How can you do constructor chaining in Java?\n",
        "\n",
        "동일한 생성자에서 하나의 생성자를 호출하면, 클래스는 자바에서 생성자 chaining을 한다. "
      ],
      "execution_count": null,
      "outputs": []
    },
    {
      "cell_type": "code",
      "metadata": {
        "id": "2eHegqNbJY5c"
      },
      "source": [
        "434. How can we find the memory usage of JVM from Java code?\n",
        "\n",
        "java.lang.Runtime 클래스를 사용하면 총 메모리와 최대 힙 메모리를 알 수 있다.\n",
        "Runtime.freeMemory()는 사용 가능한 메모리 양을 바이트단위로 반환한다.\n",
        "Runtime.totalMemory()는 총 메모리를 바이트단위로 반환한다.\n",
        "Runtime.maxMemory()는 최대 메모리를 바이트 단위로 반환한다."
      ],
      "execution_count": null,
      "outputs": []
    },
    {
      "cell_type": "code",
      "metadata": {
        "id": "rTPvhMu6JY7e"
      },
      "source": [
        "435. What is the difference between x==y and x.equals(y) expressions in Java?\n",
        "\n",
        "x==y는 a와 a 모두 1f와 일치하는 객체 참조를 수행한다.\n",
        "b는 객체이고, 둘 다 동일한 것을 가리키는 경우에만 true를 반환한다.\n",
        "x.equals(y)는 논리적 매핑에 사용된다."
      ],
      "execution_count": null,
      "outputs": []
    },
    {
      "cell_type": "code",
      "metadata": {
        "id": "HST6HsWtJY9w"
      },
      "source": [
        "436. How can you guarantee that the garbage collection takes place?\n",
        "\n",
        "자바에서는 가비지 수집을 보장하지 않는다. 자바의 문서는 GarbageCollection이 보장된다. \n",
        "하지만 System.gc()를 호출하여 가비지 수집을 요청할 수는 있다."
      ],
      "execution_count": null,
      "outputs": []
    },
    {
      "cell_type": "code",
      "metadata": {
        "id": "i-9euU8-JZAO"
      },
      "source": [
        "437. What is the relation between x.hashCode() method and x.equals(y) method of Object class?\n",
        "\n",
        "x.hashCode()메서드는 개체 인스턴스에 해당하는 int 해시값을 반환한다.\n",
        "Hashtable과 같은 hashCode기반 걸렉션 클래스에 사용된다."
      ],
      "execution_count": null,
      "outputs": []
    },
    {
      "cell_type": "code",
      "metadata": {
        "id": "jS4oishoJZCk"
      },
      "source": [
        "438. What is a compile time constant in Java?\n",
        "\n",
        "컴파일 시간상수는 공개정적 최종변수이다. 공개수정자 1은 선택사항이다. 컴파일러는 값을 미리 알고있기 때문에\n",
        "실제 값 또한 런타임중에 변경할 수 없다."
      ],
      "execution_count": null,
      "outputs": []
    },
    {
      "cell_type": "code",
      "metadata": {
        "id": "fkKKnqaTJZFL"
      },
      "source": [
        "439. Explain the difference between fail-fast and fail-safe iterators?\n",
        "\n",
        "반복기의 주요 차이점은 컬렉션을 수정할 수 있는지의 여부이다. \n",
        "Fail-safe 반복기를 사용하면 반복에서 컬렉션을 사용할 수 있지만, \n",
        "fail-Fast 반복자는 어떤 수정도 허용하지 않는다."
      ],
      "execution_count": null,
      "outputs": []
    },
    {
      "cell_type": "code",
      "metadata": {
        "id": "CT9ymaBdJZHf"
      },
      "source": [
        "440. You have a character array and a String.\n",
        " Which one is more secure to store sensitive data(like password, date of birth, etx.)?\n",
        "\n",
        " 자바에서 String은 불변이며 한번 생성된 문자열은 쓰레기가 될때까지 메모리풀에 남아있다. \n",
        " 가비지의 수집을 제어할 수 없고, 메모리 덤프에 엑세스 할 수 있다면 sensitive data를 사용해야한다."
      ],
      "execution_count": null,
      "outputs": []
    },
    {
      "cell_type": "code",
      "metadata": {
        "colab": {
          "base_uri": "https://localhost:8080/"
        },
        "id": "tNK1TxjtJZMk",
        "outputId": "b4431ca5-7e9e-40b0-954c-464fa7e135e1"
      },
      "source": [
        "def ccc(points) -> int:                    # 생성\n",
        "  if len(points) == 0:                     # 길이가 0이면\n",
        "    return 0                               # 0 반환\n",
        "  points.sort(key = lambda a:a[1])         # 크기별로 정렬\n",
        "  arrows = 1                               # 변수 생성\n",
        "  curr = points[0]                         # 제일 작은 값을 저장\n",
        "  for balloon in points:                   # 수 중에서\n",
        "    if curr[1] < balloon[0]:               # 만약 수의 값이 그 리스트의 첫번째 값보다 작으면\n",
        "      curr = balloon                       # 그걸 대입하고\n",
        "      arrows += 1                          # 숫자 하나 셈\n",
        "  return arrows                            # 숫자 센거 반환\n",
        "\n",
        "# 원리는 그거임\n",
        "# 처음에 입력받은 2중 리스트를 인덱스 0을 기준으로 정렬함\n",
        "# 그다음에 인덱스 1이랑 그다음 리스트의 인덱스 0이랑 비교함\n",
        "# 만약 뒤에꺼의 0번째 수가 앞에리스트의 1보다 작다면 둘은 겹치는거임\n",
        "# 겹치면 숫자 하나 셈\n",
        "\n",
        "n = [[10, 16], [2, 8], [1, 6], [7, 12]]      # 수입력\n",
        "m = [[1, 2], [3, 4], [5, 6], [7, 8]]         # 입력\n",
        "l = [[1, 2], [2, 3], [3, 4], [4, 5]]         # 입력\n",
        "print(ccc(n))                                # 함수 호출\n",
        "print(ccc(m))                                # 호출\n",
        "print(ccc(l))                                # 호출\n"
      ],
      "execution_count": 7,
      "outputs": [
        {
          "output_type": "stream",
          "text": [
            "2\n",
            "4\n",
            "2\n"
          ],
          "name": "stdout"
        }
      ]
    },
    {
      "cell_type": "code",
      "metadata": {
        "id": "KAG4aGHXJZO_"
      },
      "source": [
        ""
      ],
      "execution_count": null,
      "outputs": []
    },
    {
      "cell_type": "code",
      "metadata": {
        "id": "_kDjMFPnJZRQ"
      },
      "source": [
        ""
      ],
      "execution_count": null,
      "outputs": []
    },
    {
      "cell_type": "code",
      "metadata": {
        "id": "goJyPcOTJZUE"
      },
      "source": [
        ""
      ],
      "execution_count": null,
      "outputs": []
    },
    {
      "cell_type": "code",
      "metadata": {
        "id": "oiPKPrAzJZW8"
      },
      "source": [
        ""
      ],
      "execution_count": null,
      "outputs": []
    },
    {
      "cell_type": "code",
      "metadata": {
        "id": "qSkwtRW2JZZS"
      },
      "source": [
        ""
      ],
      "execution_count": null,
      "outputs": []
    }
  ]
}