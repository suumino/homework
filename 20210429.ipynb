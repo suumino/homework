{
  "nbformat": 4,
  "nbformat_minor": 0,
  "metadata": {
    "colab": {
      "name": "Colaboratory에 오신 것을 환영합니다",
      "provenance": [],
      "collapsed_sections": [],
      "include_colab_link": true
    },
    "kernelspec": {
      "display_name": "Python 3",
      "name": "python3"
    }
  },
  "cells": [
    {
      "cell_type": "markdown",
      "metadata": {
        "id": "view-in-github",
        "colab_type": "text"
      },
      "source": [
        "<a href=\"https://colab.research.google.com/github/suumino/homework/blob/main/20210429.ipynb\" target=\"_parent\"><img src=\"https://colab.research.google.com/assets/colab-badge.svg\" alt=\"Open In Colab\"/></a>"
      ]
    },
    {
      "cell_type": "code",
      "metadata": {
        "id": "7xWVo7v7z2Hd"
      },
      "source": [
        "91. Why do we mark a data member transient?\n",
        "\n",
        "transient은 변수가 byte stream에 지속될 때, 직렬화되지 않도록\n",
        "표시하는데에 사용된다."
      ],
      "execution_count": null,
      "outputs": []
    },
    {
      "cell_type": "code",
      "metadata": {
        "id": "06tIknsAz2Jr"
      },
      "source": [
        "92. Is it allowed to mark a method as transient?\n",
        "\n",
        "메소드나 생성자, static 키워드가 붙은 건 직렬화에서 제외된다."
      ],
      "execution_count": null,
      "outputs": []
    },
    {
      "cell_type": "code",
      "metadata": {
        "id": "KjXpkPFYz2Lx"
      },
      "source": [
        "93. How does marking a field as transient makes it possible to serialize an object?\n",
        "\n",
        "serializable 인터페이스를 구현하는 클래스에서 serializavle 인터페이스를 구현하지\n",
        "않는 클래스의 멤버 변수를 transient 로 표시하면 전의 클래스를 직렬화할 수 있다."
      ],
      "execution_count": null,
      "outputs": []
    },
    {
      "cell_type": "code",
      "metadata": {
        "id": "4Gww8pcAz2N-"
      },
      "source": [
        "94. What is Externalizable interface in Java?\n",
        "\n",
        "externalizable 은 스트림에 저장할 항목을 정할 수 있는 사용자 직렬화의 목적을\n",
        "제공한다. serializable 인터페이스를 확장하는 externalization 에 사용된다."
      ],
      "execution_count": null,
      "outputs": []
    },
    {
      "cell_type": "code",
      "metadata": {
        "id": "-Jcaf6L6z2QL"
      },
      "source": [
        "95. What is the difference between Serializable and Externalizable interface?\n",
        "\n",
        "serializable은 마커 인터페이스, 즉 메서드를 포함하지 않고,\n",
        "externalizable 인터페이스는 구현하는 클래스가 반드시 두개의 메서드를 포함해야 한다.\n",
        "writeExternal(), readExternal()이 포함되어야 한다."
      ],
      "execution_count": null,
      "outputs": []
    },
    {
      "cell_type": "code",
      "metadata": {
        "id": "qaHQxcPGz2SH"
      },
      "source": [
        "96. What is Reflection in Java?\n",
        "\n",
        "reflection은 런타임에서 메서드, 클래스, 인터페이스의 동작을 \n",
        "검사하거나 수정하는데 사용되는 API이다. "
      ],
      "execution_count": null,
      "outputs": []
    },
    {
      "cell_type": "code",
      "metadata": {
        "id": "tBqPiZ6cz2UJ"
      },
      "source": [
        "97. What are the uses of Reflection in Java?\n",
        "\n",
        "reflection은 자바lang 패키지에서 제공하기 때문에 패키지를 사용하면 된다."
      ],
      "execution_count": null,
      "outputs": []
    },
    {
      "cell_type": "code",
      "metadata": {
        "id": "AsKPByP0z2WO"
      },
      "source": [
        "98. How can we access private method of a class from outside the class?\n",
        "\n",
        "자바 reflection 패키지를 사용하여 외부 클래스에 접근할 수 있다.\n",
        "자바의 메소드 클래스를 인스턴스화한 후, true 값을 setAccessible() 메서드에 전달하여\n",
        "접근 가능한 메서드를 설정한다. 그 후 invoke()메서드를 사용하여 메서드를 호출한다."
      ],
      "execution_count": null,
      "outputs": []
    },
    {
      "cell_type": "code",
      "metadata": {
        "id": "9NVu0wIfz2YT"
      },
      "source": [
        "99. How can we create an Object dynamically at Runtime in Java?\n",
        "\n",
        "구현 클래스를 객체 클래스로 받고, 인터페이스로 해당 구현 클래스 객체를 받아\n",
        "인터페이스 객체로 해당 구현 클래스의 메서드를 사용한다. "
      ],
      "execution_count": null,
      "outputs": []
    },
    {
      "cell_type": "code",
      "metadata": {
        "id": "LkaryBaTz2aY"
      },
      "source": [
        "100. What is Garbage Collection in Java?\n",
        "\n",
        "자바 애플리케이션에서 더이상 사용하지 않는 메모리를 자동으로 판별하고\n",
        "다른 용도로 메모리를 재활용하는 것이다. "
      ],
      "execution_count": null,
      "outputs": []
    },
    {
      "cell_type": "code",
      "metadata": {
        "id": "9EBLuH1xz2eT",
        "outputId": "3e9b0d89-8e79-4674-d894-6891861430c5",
        "colab": {
          "base_uri": "https://localhost:8080/"
        }
      },
      "source": [
        "# ALGORITHM HOMEWORK\n",
        "\n",
        "def ccc(n, k):             # 함수 생성\n",
        "  n = sorted(n)            # 정렬\n",
        "  for i in range(1, k+1):  # k개 동안\n",
        "    print(n[-i], end='')   # 뒤에서부터 뽑기\n",
        "n = list(input(\"input number: \"))  # 숫자 입력\n",
        "k = int(input(\"how many? : \"))     # 몇자리 수인지 입력\n",
        "ccc(n, k)                  # 함수 호출"
      ],
      "execution_count": 8,
      "outputs": [
        {
          "output_type": "stream",
          "text": [
            "input number: 1723\n",
            "how many? : 2\n",
            "73"
          ],
          "name": "stdout"
        }
      ]
    },
    {
      "cell_type": "code",
      "metadata": {
        "id": "Co-q6tpxz2gi"
      },
      "source": [
        ""
      ],
      "execution_count": null,
      "outputs": []
    }
  ]
}