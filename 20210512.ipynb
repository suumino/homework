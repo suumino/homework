{
  "nbformat": 4,
  "nbformat_minor": 0,
  "metadata": {
    "colab": {
      "name": "Colaboratory에 오신 것을 환영합니다",
      "provenance": [],
      "collapsed_sections": [],
      "include_colab_link": true
    },
    "kernelspec": {
      "display_name": "Python 3",
      "name": "python3"
    }
  },
  "cells": [
    {
      "cell_type": "markdown",
      "metadata": {
        "id": "view-in-github",
        "colab_type": "text"
      },
      "source": [
        "<a href=\"https://colab.research.google.com/github/suumino/homework/blob/main/20210512.ipynb\" target=\"_parent\"><img src=\"https://colab.research.google.com/assets/colab-badge.svg\" alt=\"Open In Colab\"/></a>"
      ]
    },
    {
      "cell_type": "code",
      "metadata": {
        "id": "7v7geeCRs5t8"
      },
      "source": [
        "151. How will you convert an array of primitive integers int[] to a List collection?\n",
        "\n",
        "ArrayUtils은 Lang library에서 사용할 수 있다. "
      ],
      "execution_count": null,
      "outputs": []
    },
    {
      "cell_type": "code",
      "metadata": {
        "id": "W2zVNIDhs5wR"
      },
      "source": [
        "152. How will you run a filter on a Collection?\n",
        "\n",
        "필터에 대한 조건을 정의 할 predicate를 만들어야 한다. 그 후 \n",
        "predicate를 filter()에 적용할 수 있다."
      ],
      "execution_count": null,
      "outputs": []
    },
    {
      "cell_type": "code",
      "metadata": {
        "id": "im_Owb8Ys5y0"
      },
      "source": [
        "153. How will you convert a List to a Set?\n",
        "\n",
        "Java? Apache commons 컬렉션을 사용하여 목록과 집합을 호환하여 사용할 수 있다."
      ],
      "execution_count": null,
      "outputs": []
    },
    {
      "cell_type": "code",
      "metadata": {
        "id": "VJczdFmts51M"
      },
      "source": [
        "154. How will you remove duplicate elements from an ArrayList?\n",
        "\n",
        "ArrayList를 가져온다.\n",
        "LinkedHashSet을 만들면 중복이 제거된다.\n",
        "LinkedHashSet을 다시 Arraylist로 변환한다. "
      ],
      "execution_count": null,
      "outputs": []
    },
    {
      "cell_type": "code",
      "metadata": {
        "id": "tVujdHRAs533"
      },
      "source": [
        "155. How can you maintain a Collection with elements in Sorted order?\n",
        "\n",
        "TreeSet을 이용하면 요소를 정렬하여 저장한다. 컬렉션은 사용자가 지정 순서를 유지할 수도 있다.\n",
        "혹은 유틸리티 메소드인 Collections를 사용하면 된다."
      ],
      "execution_count": null,
      "outputs": []
    },
    {
      "cell_type": "code",
      "metadata": {
        "id": "qQxj3hmks56a"
      },
      "source": [
        "156. What are the differences between the two data structures: a Vector and an ArrayList?\n",
        "\n",
        "ArrayList는 동기화되지 않고, 벡터는 동기화된다. 또한 요소가 용량을 초과하게 되면 \n",
        "ArrayList는 현재 크기의 1.5배로 증가되지만 벡터는 2배로 증가된다."
      ],
      "execution_count": null,
      "outputs": []
    },
    {
      "cell_type": "code",
      "metadata": {
        "id": "s3FSofqKs59G"
      },
      "source": [
        "157. What are the differences between Collection and Collections in Java?\n",
        "\n",
        "collection은 개체를 그룹화하는 인터페이스이고, collections는 collection 에서 수행하는\n",
        "작업을 저장해 둔 유틸리티 클래스이다. "
      ],
      "execution_count": null,
      "outputs": []
    },
    {
      "cell_type": "code",
      "metadata": {
        "id": "kZRBsCf-s5_e"
      },
      "source": [
        "158. In which scenario, LinkedList is better than Array List in Java?\n",
        "\n",
        "추가나 제거를 할 때에는 LinkedList가 더 낫지만, get, set에서는 arraylist가 더 좋다.\n",
        "스레드로부터 안전한 경우 arraylist가 더 낫다."
      ],
      "execution_count": null,
      "outputs": []
    },
    {
      "cell_type": "code",
      "metadata": {
        "id": "9ZxpajRWs6CE"
      },
      "source": [
        "159. What are the differences between a List and Set collection in Java?\n",
        "\n",
        "List는 삽입되는 순서로 요소를 가지고 있고, set는 요소 순서가 유지되지 않는다. \n",
        "list는 중복을 허용하고 set은 허용하지 않는다."
      ],
      "execution_count": null,
      "outputs": []
    },
    {
      "cell_type": "code",
      "metadata": {
        "id": "ojYTemYns6Eo"
      },
      "source": [
        "160. What are the differences between a HashSet and TreeSet collection in java?\n",
        "\n",
        "Hashset은 set의 특성을 가지지만 treeset은 정렬된 집합을 가진다. 또 treeset은 null object를 \n",
        "가지지 않는다."
      ],
      "execution_count": null,
      "outputs": []
    },
    {
      "cell_type": "code",
      "metadata": {
        "colab": {
          "base_uri": "https://localhost:8080/"
        },
        "id": "ksmCpoSOs6HG",
        "outputId": "57b4cc66-be42-47ca-d57a-b562c39e37c5"
      },
      "source": [
        "# ALGORITHM HOMEWORK\n",
        "\n",
        "def rrr(n, a):\n",
        "  for i in range(a[1]):\n",
        "    if n[i][i]  == '0', \n",
        "\n",
        "def ddd(n, a):\n",
        "  print(n)\n",
        "def lll(n, a):\n",
        "  print(n)\n",
        "def uuu(n, a):\n",
        "  print(n)\n",
        "\n",
        "a = list(map(int, input(\"input : \").split()))\n",
        "n = list(map(str, input(\"input : \").split()))\n",
        "print(rrr(n, a))\n"
      ],
      "execution_count": 9,
      "outputs": [
        {
          "output_type": "stream",
          "text": [
            "input : 4 5\n",
            "input : 00110 00011 11111 00000\n",
            "['00110', '00011', '11111', '00000']\n",
            "None\n"
          ],
          "name": "stdout"
        }
      ]
    },
    {
      "cell_type": "code",
      "metadata": {
        "id": "qrJYQfo03czn"
      },
      "source": [
        ""
      ],
      "execution_count": 7,
      "outputs": []
    }
  ]
}