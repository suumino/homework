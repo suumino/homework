{
  "nbformat": 4,
  "nbformat_minor": 0,
  "metadata": {
    "colab": {
      "name": "Colaboratory에 오신 것을 환영합니다",
      "provenance": [],
      "collapsed_sections": [],
      "include_colab_link": true
    },
    "kernelspec": {
      "display_name": "Python 3",
      "name": "python3"
    }
  },
  "cells": [
    {
      "cell_type": "markdown",
      "metadata": {
        "id": "view-in-github",
        "colab_type": "text"
      },
      "source": [
        "<a href=\"https://colab.research.google.com/github/suumino/homework/blob/main/20210330.ipynb\" target=\"_parent\"><img src=\"https://colab.research.google.com/assets/colab-badge.svg\" alt=\"Open In Colab\"/></a>"
      ]
    },
    {
      "cell_type": "code",
      "metadata": {
        "id": "fCBm9gGlrgvB",
        "outputId": "c869d083-3d4b-4561-f832-c75956146d82",
        "colab": {
          "base_uri": "https://localhost:8080/"
        }
      },
      "source": [
        "# ALGORITHM HOMEWORK\n",
        "\n",
        "a = input('input: ')                              # 문장 받음\n",
        "st = ''                                           # 문자 세기\n",
        "t = str(list(range(10)))                          # 숫자 리스트\n",
        "inn = ''                                          # 숫자 세기\n",
        "for i in range(len(a)):                           # 문장 길이동안\n",
        "  if a[i] == ' ':                                 # 공백은\n",
        "    st += a[i]                                    # 문자로 취급\n",
        "  elif a[i] in t:                                 # 숫자 리스트에 있다면\n",
        "    inn += a[i]                                   # 숫자\n",
        "  else:                                           # 없다면\n",
        "    st += a[i]                                    # 문자\n",
        "print(\"output:\\nstr : %s\\nint : %s\" %(st, inn))   # 출력"
      ],
      "execution_count": 23,
      "outputs": [
        {
          "output_type": "stream",
          "text": [
            "input: c910m6ia 1ho\n",
            "output:\n",
            "str : cmia ho\n",
            "int : 91061\n"
          ],
          "name": "stdout"
        }
      ]
    },
    {
      "cell_type": "code",
      "metadata": {
        "id": "v52lbITTryOs"
      },
      "source": [
        "#"
      ],
      "execution_count": null,
      "outputs": []
    }
  ]
}