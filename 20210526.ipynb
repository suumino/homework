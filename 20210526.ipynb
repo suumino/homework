{
  "nbformat": 4,
  "nbformat_minor": 0,
  "metadata": {
    "colab": {
      "name": "Colaboratory에 오신 것을 환영합니다",
      "provenance": [],
      "collapsed_sections": [],
      "include_colab_link": true
    },
    "kernelspec": {
      "display_name": "Python 3",
      "name": "python3"
    }
  },
  "cells": [
    {
      "cell_type": "markdown",
      "metadata": {
        "id": "view-in-github",
        "colab_type": "text"
      },
      "source": [
        "<a href=\"https://colab.research.google.com/github/suumino/homework/blob/main/20210526.ipynb\" target=\"_parent\"><img src=\"https://colab.research.google.com/assets/colab-badge.svg\" alt=\"Open In Colab\"/></a>"
      ]
    },
    {
      "cell_type": "code",
      "metadata": {
        "id": "Zx7H1_IeZQdo"
      },
      "source": [
        "1 2 3 4 5 6 8 9 10 12 15 16 18 20 24 25"
      ],
      "execution_count": null,
      "outputs": []
    },
    {
      "cell_type": "code",
      "metadata": {
        "id": "UCwb-0ak0Jx6"
      },
      "source": [
        "231. Why we cannot create a generic array in Java?\n",
        "\n",
        "generic array는 사운드가 아니기 때문에 허용되지 않는다. \n",
        "java 배열은 동적이고 generic은 동적이 아니기 때문이다."
      ],
      "execution_count": null,
      "outputs": []
    },
    {
      "cell_type": "code",
      "metadata": {
        "id": "QiqYSO5P0J0P"
      },
      "source": [
        "232. What is PriorityQueue in Java?\n",
        "\n",
        "우선순위에 따라 객체를 처리할 때 사용된다. 우선순위는 자연되는 순서 또는\n",
        "비교기에 따라 정해진다."
      ],
      "execution_count": null,
      "outputs": []
    },
    {
      "cell_type": "code",
      "metadata": {
        "id": "1IxE0MS40J2z"
      },
      "source": [
        "233. What are the important points to remember while using Java Collections Framework?\n",
        "\n",
        "lists: 리스트는 데이터를 추가할 때도 편리하다.\n",
        "set: 중복이 허용되지 않아 유용하다.\n",
        "maps, queue, iterator"
      ],
      "execution_count": null,
      "outputs": []
    },
    {
      "cell_type": "code",
      "metadata": {
        "id": "7UNMtMDw0J4_"
      },
      "source": [
        "234. How can we pass a Collection as an argument to a method and ensure that method will not be able to modify it?\n",
        "\n",
        "final을 붙인다. final은 한번만 선언될 수 있음을 나타내기 때문이다.\n",
        "unmodifiable을 붙여도 된다."
      ],
      "execution_count": null,
      "outputs": []
    },
    {
      "cell_type": "code",
      "metadata": {
        "id": "gtzVDE4m0J7J"
      },
      "source": [
        "235. Can you explain how HashMap works in Java?\n",
        "\n",
        "hashmap은 키-밸류 의 한 쌍의 매핑을 저장하는 데 사용된다. 우리가 키를 알고있다면\n",
        "밸류를 알려준다."
      ],
      "execution_count": null,
      "outputs": []
    },
    {
      "cell_type": "code",
      "metadata": {
        "id": "JgyA3cwi0J9i"
      },
      "source": [
        "236. Can you explain how HashSet is implemented in Java?\n",
        "\n",
        "hashset은 hashmap을 사용하여 객체를 저장한다. hashset을 하나 생성할 때마다\n",
        "hashmap이 생성된다. "
      ],
      "execution_count": null,
      "outputs": []
    },
    {
      "cell_type": "code",
      "metadata": {
        "id": "l0rPFOPl0J_v"
      },
      "source": [
        "237. What is a NavigableMap in Java?\n",
        "\n",
        "navigablemap은 가까운 위치를 반환하는 탐색메서드이다. 키를 오름차순이나\n",
        "내림차순으로 정력하고 탐색할 수 있다."
      ],
      "execution_count": null,
      "outputs": []
    },
    {
      "cell_type": "code",
      "metadata": {
        "id": "-Q8UwLf91emz"
      },
      "source": [
        "238. What is the difference between descendingKeySet() and descendingMap() methods of NabvigableMap?\n",
        "\n",
        "descendingKeySet()은 treemap에 저장된 키를 역순으로 정렬하여 navigableset에 담아서 반환하지만, \n",
        "descendingmap은 해당 맵에 포함된 모든 매핑을 역순으로 반환한다."
      ],
      "execution_count": null,
      "outputs": []
    },
    {
      "cell_type": "code",
      "metadata": {
        "id": "xQNPgGb01mFw",
        "outputId": "1ef2e5bb-a635-40fb-c833-a6611be0ed97",
        "colab": {
          "base_uri": "https://localhost:8080/"
        }
      },
      "source": [
        "239. What is the advantage of NavigableMap over Map?\n",
        "\n",
        "navigableMap은 탐색을 할 수 있기 때문에 map보다 좋다."
      ],
      "execution_count": 35,
      "outputs": [
        {
          "output_type": "stream",
          "text": [
            "Object `Map` not found.\n"
          ],
          "name": "stdout"
        }
      ]
    },
    {
      "cell_type": "code",
      "metadata": {
        "id": "jKd0FlJ_1mH3"
      },
      "source": [
        "240. What is the difference between headMap(), tailMap() and subMap() methods of NavigableMap?\n",
        "\n",
        "inclusive 값을 이용해서 기준이 되는 키값을 포함할지 미포함할 지 결정할 수 있다.\n",
        "headmap은 첫번째 요소부터 지정한 범위에 속한 모든 요소가 담긴 sortedmap을 반환하고, \n",
        "submap은 지정한 키 사이에 있는 모든 요소가 담긴 sortedmap을 반환하며\n",
        "tailmap은 지정한 키부터 마지막 요소까지 반환한다."
      ],
      "execution_count": null,
      "outputs": []
    },
    {
      "cell_type": "code",
      "metadata": {
        "id": "1Z9N7JodZQf3",
        "outputId": "2ca750fe-93b6-4f76-f5f3-0f5651b93373",
        "colab": {
          "base_uri": "https://localhost:8080/"
        }
      },
      "source": [
        "def ccc(n):                      # 함수 생성\n",
        "  c = 0                          # 몇번째인지 셀거\n",
        "  i = 0                          # 이 숫자가 어글리넘버인지 알아볼거\n",
        "  while c < n:                   # c가 입력한 수보다 작을때동안 반복\n",
        "    a = i                        # 일단 i를 a에 저장\n",
        "    while (a > 1):               # a를 나누면서 알아볼거\n",
        "      if a % 2 == 0: a = a / 2   # 2로 나눠지면 2로 나눠\n",
        "      elif a % 3 == 0: a = a / 3 # 3으로 나눠지면 3으로 나눠\n",
        "      elif a % 5 == 0: a = a / 5 # 5로 나눠지면 5로 나눠\n",
        "      else : break               # 안나눠지면 반복 끝내고 i에 1 추가해서 다음으로 넘어감\n",
        "    if a == 1: c += 1            # 반복이 끝났을 때 a가 1이라면 어글리숫자니까 c에 1 더해\n",
        "    if c ==n: return i           # 만약 c가 n이면 그 숫자가 뭐인지 반환(i)\n",
        "    i += 1                       # i에 1 더해서 반복 다시함\n",
        "\n",
        "n = int(input(\"Input : n=\"))     # 수 입력받음\n",
        "print(\"Output :\", ccc(n))        # 함수 호출해서 출력"
      ],
      "execution_count": 36,
      "outputs": [
        {
          "output_type": "stream",
          "text": [
            "Input : n=12\n",
            "Output : 16\n"
          ],
          "name": "stdout"
        }
      ]
    }
  ]
}