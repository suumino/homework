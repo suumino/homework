{
  "nbformat": 4,
  "nbformat_minor": 0,
  "metadata": {
    "colab": {
      "name": "Colaboratory에 오신 것을 환영합니다",
      "provenance": [],
      "collapsed_sections": [],
      "include_colab_link": true
    },
    "kernelspec": {
      "display_name": "Python 3",
      "name": "python3"
    }
  },
  "cells": [
    {
      "cell_type": "markdown",
      "metadata": {
        "id": "view-in-github",
        "colab_type": "text"
      },
      "source": [
        "<a href=\"https://colab.research.google.com/github/suumino/homework/blob/main/20210401.ipynb\" target=\"_parent\"><img src=\"https://colab.research.google.com/assets/colab-badge.svg\" alt=\"Open In Colab\"/></a>"
      ]
    },
    {
      "cell_type": "code",
      "metadata": {
        "id": "BlEG8UWokT57",
        "outputId": "f3f13945-6fb4-4335-f05c-1c5971a30d19",
        "colab": {
          "base_uri": "https://localhost:8080/"
        }
      },
      "source": [
        "# ALGORITHM HOMEWORK\n",
        "\n",
        "sec = 0                      # 초를 세는 변수\n",
        "\n",
        "for i in range(24):          # 24시간동안\n",
        "  if '3' in str(i):          # 3이 있다면\n",
        "    sec += 3600              # 3600초 추가\n",
        "  else:                      # 3이 없다면\n",
        "    for j in range(60):      # 60분동안\n",
        "      if '3' in str(j):      # 3이 j에 있다면\n",
        "        sec += 60            # 60초 추가\n",
        "\n",
        "print(sec)                   # 초 출력\n"
      ],
      "execution_count": 20,
      "outputs": [
        {
          "output_type": "stream",
          "text": [
            "29700\n"
          ],
          "name": "stdout"
        }
      ]
    },
    {
      "cell_type": "code",
      "metadata": {
        "id": "-o5v4UABnNty"
      },
      "source": [
        ""
      ],
      "execution_count": null,
      "outputs": []
    }
  ]
}