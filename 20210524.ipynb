{
  "nbformat": 4,
  "nbformat_minor": 0,
  "metadata": {
    "colab": {
      "name": "Colaboratory에 오신 것을 환영합니다",
      "provenance": [],
      "collapsed_sections": [],
      "include_colab_link": true
    },
    "kernelspec": {
      "display_name": "Python 3",
      "name": "python3"
    }
  },
  "cells": [
    {
      "cell_type": "markdown",
      "metadata": {
        "id": "view-in-github",
        "colab_type": "text"
      },
      "source": [
        "<a href=\"https://colab.research.google.com/github/suumino/homework/blob/main/20210524.ipynb\" target=\"_parent\"><img src=\"https://colab.research.google.com/assets/colab-badge.svg\" alt=\"Open In Colab\"/></a>"
      ]
    },
    {
      "cell_type": "code",
      "metadata": {
        "id": "KwvNH9j7haLP"
      },
      "source": [
        "221. How will you create an empty Map in Java?\n",
        "\n",
        "먼저 java.util.collections.emptyMap() method를 부른다.\n",
        "또는 Collections.<String, String>emptyMap()을 선언하면 빈지도가 생성된다."
      ],
      "execution_count": null,
      "outputs": []
    },
    {
      "cell_type": "code",
      "metadata": {
        "id": "iFbvDODQhb9o"
      },
      "source": [
        "222. What is the difference between remove() method of Collection and remove() method of Iterator?\n",
        "\n",
        "iterator는 collection 인터페이스를 구현상속한 모든 컬렉션 클래스에서 사용이 가능하다.\n",
        "그리고 iterator는 원본 컬렉션의 항목을 삭제할 수 있다. 루프 도중에 index를 사용한\n",
        "for문의 에러를 안일으킬 수 있다."
      ],
      "execution_count": null,
      "outputs": []
    },
    {
      "cell_type": "code",
      "metadata": {
        "id": "pe99Jkxvhb_2"
      },
      "source": [
        "223. Between an Array and ArrayList, which one is the preferred collection for storing objects?\n",
        "\n",
        "Array는 자바에서 기본으로 제공한다. 그리고 arraylist는 자바 컬렉션 프레임 워크의 일부이다.\n",
        "둘 중 더 좋은 것은 배열이다. 배열이 더 빠르기 때문이다."
      ],
      "execution_count": null,
      "outputs": []
    },
    {
      "cell_type": "code",
      "metadata": {
        "id": "udy2ZGPthcCA"
      },
      "source": [
        "224. Is it possible to replace Hashtable with ConcurrentHashMap in Java?\n",
        "\n",
        "가능하다. hashMap 을 thread-safe하도록 만든 것이 concurrenthashmap이다."
      ],
      "execution_count": null,
      "outputs": []
    },
    {
      "cell_type": "code",
      "metadata": {
        "id": "RWUBXON9hcEG"
      },
      "source": [
        "225. How CopyOnWriteArrayList class is different from ArrayList and Vector classes?\n",
        "\n",
        "copyonwritearraylist는 반복중에 concurrentModificationException을 발생시키지 않는다. 또 \n",
        "유저와 작성자 간의 경합을 줄여 더 나은 동시성을 제공한다."
      ],
      "execution_count": null,
      "outputs": []
    },
    {
      "cell_type": "code",
      "metadata": {
        "id": "egAcVvoUhcGH"
      },
      "source": [
        "226. Why ListIterator has add() method but Iterator does not have?\n",
        "\n",
        "listiterator를 사용하면 최근에 사용한 요소 뒤에 요소를 추가할 수 있다. \n",
        "반복에서는 목록에 삽입하는 동안 앞뒤로 이동할 필요가 없어 편리하다."
      ],
      "execution_count": null,
      "outputs": []
    },
    {
      "cell_type": "code",
      "metadata": {
        "id": "vIFfK-jGhcIF"
      },
      "source": [
        "def ccc(n, k):\n",
        "  a = [0:7]\n",
        "\n",
        "  for i in range()\n",
        "   \n",
        "\n",
        "\n",
        "\n",
        "n = input(\"n : \")\n",
        "k = input(\"k : \")\n",
        "ccc(n ,k)"
      ],
      "execution_count": null,
      "outputs": []
    }
  ]
}