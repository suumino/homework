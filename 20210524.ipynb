{
  "nbformat": 4,
  "nbformat_minor": 0,
  "metadata": {
    "colab": {
      "name": "Colaboratory에 오신 것을 환영합니다",
      "provenance": [],
      "collapsed_sections": [],
      "include_colab_link": true
    },
    "kernelspec": {
      "display_name": "Python 3",
      "name": "python3"
    }
  },
  "cells": [
    {
      "cell_type": "markdown",
      "metadata": {
        "id": "view-in-github",
        "colab_type": "text"
      },
      "source": [
        "<a href=\"https://colab.research.google.com/github/suumino/homework/blob/main/20210524.ipynb\" target=\"_parent\"><img src=\"https://colab.research.google.com/assets/colab-badge.svg\" alt=\"Open In Colab\"/></a>"
      ]
    },
    {
      "cell_type": "code",
      "metadata": {
        "id": "rWaNWHKeqwks"
      },
      "source": [
        "221\n",
        "immutable방법은 myMap = Collections.emptyMap();을 사용하는 것이고\n",
        "any map은 myMap = new HashMap(); 을 사용한다."
      ],
      "execution_count": null,
      "outputs": []
    },
    {
      "cell_type": "code",
      "metadata": {
        "id": "dLgRCNEUqwiK"
      },
      "source": [
        "222\n",
        "collection interface remove는 콜렉션으로부터 삭제를 할 때 사용된다. iterator에서의 remove는 반복문에서 사용해도 오류가 나지 않는다. "
      ],
      "execution_count": null,
      "outputs": []
    },
    {
      "cell_type": "code",
      "metadata": {
        "id": "vf-dRQKVqwgE"
      },
      "source": [
        "223\n",
        "array는 길이가 고정되어있지만, arrayList는 길이가 동적이다. 따라서 바꿀 수 있다. \n",
        "또한 arraylist는 generics를 돕지만 array는 그렇지않다."
      ],
      "execution_count": null,
      "outputs": []
    },
    {
      "cell_type": "code",
      "metadata": {
        "id": "7fjMZZctqweF"
      },
      "source": [
        "224\n",
        "concurrenhashmap은 hashtable 을 대체할 수 있다."
      ],
      "execution_count": null,
      "outputs": []
    },
    {
      "cell_type": "code",
      "metadata": {
        "id": "-RqBydz3qwb5"
      },
      "source": [
        "225"
      ],
      "execution_count": null,
      "outputs": []
    },
    {
      "cell_type": "code",
      "metadata": {
        "id": "wTC1d4DKqwZs"
      },
      "source": [
        "226"
      ],
      "execution_count": null,
      "outputs": []
    },
    {
      "cell_type": "code",
      "metadata": {
        "id": "T15gbaOk47Pq",
        "colab": {
          "base_uri": "https://localhost:8080/"
        },
        "outputId": "5ec824d2-3580-497c-8831-91953cdca21f"
      },
      "source": [
        "class __init__():            # 클라스 생성\n",
        "  def ccc(n, k):             # 함수 생성\n",
        "    if n <= 1: return n*k    # 만약 n이 1보다 작거나 같으면 n*k\n",
        "    if n == 2: return k*k    # 만약 2라면 k*k\n",
        "\n",
        "    pdc = k*(k-1)            # \n",
        "    psc = k\n",
        "    dc = 0\n",
        "    sc = 0\n",
        "    for i  in range(2, n):\n",
        "      dc = (pdc + psc) * (k-1)\n",
        "      sc = pdc\n",
        "      pdc = dc\n",
        "      psc = sc\n",
        "    return (dc + sc)\n",
        "\n",
        "n = int(input(\"n = \"))        # n 받음\n",
        "k = int(input(\"k = \"))        # k 받음\n",
        "ccc(n, k)                     # 함수 호출"
      ],
      "execution_count": null,
      "outputs": [
        {
          "output_type": "stream",
          "text": [
            "n = 7\n",
            "k = 2\n"
          ],
          "name": "stdout"
        },
        {
          "output_type": "execute_result",
          "data": {
            "text/plain": [
              "42"
            ]
          },
          "metadata": {
            "tags": []
          },
          "execution_count": 10
        }
      ]
    }
  ]
}