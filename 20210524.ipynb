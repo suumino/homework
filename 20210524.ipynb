{
  "nbformat": 4,
  "nbformat_minor": 0,
  "metadata": {
    "colab": {
      "name": "Colaboratory에 오신 것을 환영합니다",
      "provenance": [],
      "collapsed_sections": [],
      "include_colab_link": true
    },
    "kernelspec": {
      "display_name": "Python 3",
      "name": "python3"
    }
  },
  "cells": [
    {
      "cell_type": "markdown",
      "metadata": {
        "id": "view-in-github",
        "colab_type": "text"
      },
      "source": [
        "<a href=\"https://colab.research.google.com/github/suumino/homework/blob/main/20210524.ipynb\" target=\"_parent\"><img src=\"https://colab.research.google.com/assets/colab-badge.svg\" alt=\"Open In Colab\"/></a>"
      ]
    },
    {
      "cell_type": "code",
      "metadata": {
        "id": "T15gbaOk47Pq",
        "outputId": "5ec824d2-3580-497c-8831-91953cdca21f",
        "colab": {
          "base_uri": "https://localhost:8080/"
        }
      },
      "source": [
        "class __init__():            # 클라스 생성\n",
        "  def ccc(n, k):             # 함수 생성\n",
        "    if n <= 1: return n*k    # 만약 n이 1보다 작거나 같으면 n*k\n",
        "    if n == 2: return k*k    # 만약 2라면 k*k\n",
        "\n",
        "    pdc = k*(k-1)            # \n",
        "    psc = k\n",
        "    dc = 0\n",
        "    sc = 0\n",
        "    for i  in range(2, n):\n",
        "      dc = (pdc + psc) * (k-1)\n",
        "      sc = pdc\n",
        "      pdc = dc\n",
        "      psc = sc\n",
        "    return (dc + sc)\n",
        "\n",
        "n = int(input(\"n = \"))        # n 받음\n",
        "k = int(input(\"k = \"))        # k 받음\n",
        "ccc(n, k)                     # 함수 호출"
      ],
      "execution_count": 10,
      "outputs": [
        {
          "output_type": "stream",
          "text": [
            "n = 7\n",
            "k = 2\n"
          ],
          "name": "stdout"
        },
        {
          "output_type": "execute_result",
          "data": {
            "text/plain": [
              "42"
            ]
          },
          "metadata": {
            "tags": []
          },
          "execution_count": 10
        }
      ]
    },
    {
      "cell_type": "code",
      "metadata": {
        "id": "m9ojH0lB47ha"
      },
      "source": [
        ""
      ],
      "execution_count": null,
      "outputs": []
    }
  ]
}