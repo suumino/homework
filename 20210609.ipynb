{
  "nbformat": 4,
  "nbformat_minor": 0,
  "metadata": {
    "colab": {
      "name": "Colaboratory에 오신 것을 환영합니다",
      "provenance": [],
      "collapsed_sections": [],
      "include_colab_link": true
    },
    "kernelspec": {
      "display_name": "Python 3",
      "name": "python3"
    }
  },
  "cells": [
    {
      "cell_type": "markdown",
      "metadata": {
        "id": "view-in-github",
        "colab_type": "text"
      },
      "source": [
        "<a href=\"https://colab.research.google.com/github/suumino/homework/blob/main/20210609.ipynb\" target=\"_parent\"><img src=\"https://colab.research.google.com/assets/colab-badge.svg\" alt=\"Open In Colab\"/></a>"
      ]
    },
    {
      "cell_type": "code",
      "metadata": {
        "id": "2lDZ6O0M6gxA"
      },
      "source": [
        "371. What are the main differences between Internal and External Iterator?\n",
        "\n",
        "외부반복기는 자동이고 내부는 수동이다. 사용자가 반복을 제어할때는 외부반복기라고 하고,\n",
        "반복자가 제어를 할때는 내부반복자라고 한다."
      ],
      "execution_count": null,
      "outputs": []
    },
    {
      "cell_type": "code",
      "metadata": {
        "id": "WfS-5k2Z6gzf"
      },
      "source": [
        "372. What are the main advantages of Internal Iterator over External Iterator in Java 8?\n",
        "\n",
        "자바 8에서는 내부반복이 가독성이 높고 코드가 적게 쓰이며 오류 발생 가능성이 더 적다.\n",
        "대신 외부 반복기가 더 유연할 때가 있다."
      ],
      "execution_count": null,
      "outputs": []
    },
    {
      "cell_type": "code",
      "metadata": {
        "id": "17bsDjsb6g2Q"
      },
      "source": [
        "373. What are the applications in which we should use Internal Iteration?\n",
        "\n",
        "stream이다. 스트림은 내부반복자를 사용하기 때문에 병렬처리가 쉽다."
      ],
      "execution_count": null,
      "outputs": []
    },
    {
      "cell_type": "code",
      "metadata": {
        "id": "wg57vIcX6g49"
      },
      "source": [
        "374. What is the main disadvantage of internal Iteration over External Iteration?\n",
        "\n",
        "내부 반복의 가장 큰 단점은 자바 API는 내부반복기에서 반복을 담당하기 때문에 사용자가 반복을 제어할 수 없다는 점이다."
      ],
      "execution_count": null,
      "outputs": []
    },
    {
      "cell_type": "code",
      "metadata": {
        "id": "H39KHCAh6g74"
      },
      "source": [
        "375. Can we provide implementation of a method in a Java Interface?\n",
        "\n",
        "할 수 있다. 인터페이스는 메소드를 구현할 수 있다."
      ],
      "execution_count": null,
      "outputs": []
    },
    {
      "cell_type": "code",
      "metadata": {
        "id": "6vcCS_ay6g-e"
      },
      "source": [
        "376. What is a Default Method in an Interface?\n",
        "\n",
        "기본 메서드를 사용하면 새 기능을 추가하고 호환성을 보장할 수 있다. "
      ],
      "execution_count": null,
      "outputs": []
    },
    {
      "cell_type": "code",
      "metadata": {
        "id": "bCTnx2hJ6hBq"
      },
      "source": [
        "377. Why do we need Default method in a Java 8 Interface?\n",
        "\n",
        "자바 8에서는 인터페이스가 기본, 정적 메소드를 가질 수 있다. 이것은 사용자가 클래스에 영향을\n",
        "주지 않고 인터페이스에 새 메소드를 추가할 수 있다."
      ],
      "execution_count": null,
      "outputs": []
    },
    {
      "cell_type": "code",
      "metadata": {
        "id": "CS2Qj8oe6hEm"
      },
      "source": [
        "378. What is the purpose of a Static method in an Interface in Java 8?\n",
        "\n",
        "자바 8의 인터페이스의 정적 메소드는 null검사, 컬렉션 등과 같은 유틸리티를 제공한다. "
      ],
      "execution_count": null,
      "outputs": []
    },
    {
      "cell_type": "code",
      "metadata": {
        "id": "Y2JRwg3r72vB"
      },
      "source": [
        "379. What are the core ideas behind the Date/Time API of Java 8?\n",
        "\n",
        "LocalDate 와 LocalTime이 중심이 된다."
      ],
      "execution_count": null,
      "outputs": []
    },
    {
      "cell_type": "code",
      "metadata": {
        "id": "Di7mc2Sk6hHo"
      },
      "source": [
        "380. What are the advantages of new Date and Time API in Java 8 over old Date API?\n",
        "\n",
        "API는 이해하기가 쉽고, 유연하다. 그리고 변하지 않고 스레드에 안정적이다."
      ],
      "execution_count": null,
      "outputs": []
    },
    {
      "cell_type": "code",
      "metadata": {
        "id": "Pc2zdOsh6hKi",
        "outputId": "34940557-2890-4701-88ba-5e86d157f63e",
        "colab": {
          "base_uri": "https://localhost:8080/"
        }
      },
      "source": [
        "def ccc(a, b):                # 함수 선언\n",
        "  b = sorted(b, reverse=True)        # 화폐의 가치를 역정렬한다\n",
        "  c = 0                       # 몇번을 사용해야하는지 셀 변수다\n",
        "  for i in range(len(b)):     # 화폐의 가치동안\n",
        "    while a[1] >= b[i]:       # 돈이 화폐가치보다 크면(작아지면 더 작은 화폐가치로 계속 계산을 이어간다)\n",
        "      a[1] -= b[i]            # 화폐의 가치만큼 계속 빼준다\n",
        "      c += 1                  # 뺀다음 횟수를 센다\n",
        "  if a[1] == 0: return c      # 만약 뺀게 0이 된다면 그 횟수 반환\n",
        "  else : return -1            # 아니라면 -1 반환\n",
        "\n",
        "a = list(map(int, input('input n, m: ').split()))   # n과 m을 입력받는다\n",
        "b = []                        # b는 화폐의 가치를 담을 리스트\n",
        "for i in range(a[0]):         # n의 개수대로\n",
        "  b.append(int(input()))      # b에 넣는다\n",
        "ccc(a, b)                     # 함수 호출"
      ],
      "execution_count": 28,
      "outputs": [
        {
          "output_type": "stream",
          "text": [
            "input n, m: 2 15\n",
            "2\n",
            "3\n"
          ],
          "name": "stdout"
        },
        {
          "output_type": "execute_result",
          "data": {
            "text/plain": [
              "5"
            ]
          },
          "metadata": {
            "tags": []
          },
          "execution_count": 28
        }
      ]
    },
    {
      "cell_type": "code",
      "metadata": {
        "id": "fTudWr846hNO"
      },
      "source": [
        "33"
      ],
      "execution_count": null,
      "outputs": []
    },
    {
      "cell_type": "code",
      "metadata": {
        "id": "-8lIXmxs6hQQ"
      },
      "source": [
        ""
      ],
      "execution_count": null,
      "outputs": []
    }
  ]
}