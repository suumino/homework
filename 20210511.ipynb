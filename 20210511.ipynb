{
  "nbformat": 4,
  "nbformat_minor": 0,
  "metadata": {
    "colab": {
      "name": "Colaboratory에 오신 것을 환영합니다",
      "provenance": [],
      "collapsed_sections": [],
      "include_colab_link": true
    },
    "kernelspec": {
      "display_name": "Python 3",
      "name": "python3"
    }
  },
  "cells": [
    {
      "cell_type": "markdown",
      "metadata": {
        "id": "view-in-github",
        "colab_type": "text"
      },
      "source": [
        "<a href=\"https://colab.research.google.com/github/suumino/homework/blob/main/20210511.ipynb\" target=\"_parent\"><img src=\"https://colab.research.google.com/assets/colab-badge.svg\" alt=\"Open In Colab\"/></a>"
      ]
    },
    {
      "cell_type": "code",
      "metadata": {
        "id": "E68VkmGSlUjb"
      },
      "source": [
        "141. What is the difference between throw and throws in Java?\n",
        "\n",
        "throw는 프로그램에서 예외를 발생하는 데에 사용되고,\n",
        "throws는 코드를 실행할 때에 throw될 수 있는 예외를 선언하는 메서드에 사용된다."
      ],
      "execution_count": null,
      "outputs": []
    },
    {
      "cell_type": "code",
      "metadata": {
        "id": "fp4mgCqnlUlh"
      },
      "source": [
        "142. What is the concept of Exception Propagation?\n",
        "\n",
        "exception propagation은 예외가 발생하면 발생된다. "
      ],
      "execution_count": null,
      "outputs": []
    },
    {
      "cell_type": "code",
      "metadata": {
        "id": "5hUXTFhnlUnv"
      },
      "source": [
        "143. When we override a method in a Child class, can we throw an additional \n",
        "Exception that is not thrown by the Parent class method?\n",
        "\n",
        "재정의된 메서드는 예외를 throw 하는것과는 무관하게 예외를 throw 할 수 있다."
      ],
      "execution_count": null,
      "outputs": []
    },
    {
      "cell_type": "code",
      "metadata": {
        "id": "kMHU0gZ3lUqD"
      },
      "source": [
        "144. What is the difference between Collection and Collections framework in Java?\n",
        "\n",
        "collections은 collection에서 수행하는 작업들을 모아둔 클래스이다. \n",
        "collection은 개체를 그룹화하는 인터페이스다."
      ],
      "execution_count": null,
      "outputs": []
    },
    {
      "cell_type": "code",
      "metadata": {
        "id": "scAf2K8xlUsa"
      },
      "source": [
        "145. What are the main benefits of Collections Framework in Java?\n",
        "\n",
        "데이터 구조와 알고리즘을 제공하여 프로그램의 중요한 부분에 집중할 수 있도록 한다."
      ],
      "execution_count": null,
      "outputs": []
    },
    {
      "cell_type": "code",
      "metadata": {
        "id": "7-Bn3JbDlUu1"
      },
      "source": [
        "146. What is the root interface of Collection hierarchy in Java?\n",
        "\n",
        "collection 인터페이스는 root interface를 확장하기 때문에 collection 인터페이스의 모든\n",
        "하위 클래스도 literable 인터페이스를 구현한다."
      ],
      "execution_count": null,
      "outputs": []
    },
    {
      "cell_type": "code",
      "metadata": {
        "id": "yT6m_1ysmMHr"
      },
      "source": [
        "147. What are the main differences between Collection and Collections?\n",
        "\n",
        "collection은 인터페이스이지만 collections는 유틸리티 클래스이다. "
      ],
      "execution_count": null,
      "outputs": []
    },
    {
      "cell_type": "code",
      "metadata": {
        "id": "HEPVfwx9mMKA"
      },
      "source": [
        "148. What are the Thread-safe classes in Java? collections framework?\n",
        "\n",
        "스레드로부터 안전한 클래스는 Stack, Properties, Vector, Hashtable 등이 있다."
      ],
      "execution_count": null,
      "outputs": []
    },
    {
      "cell_type": "code",
      "metadata": {
        "id": "F6QMFQQ_mMMT"
      },
      "source": [
        "149. How will you efficiently remove elements while iterating a Collection?\n",
        "\n",
        "remove() 메서드를 사용하는 것이다. 파이썬이라면 pop 함수를 사용하여도 좋다."
      ],
      "execution_count": null,
      "outputs": []
    },
    {
      "cell_type": "code",
      "metadata": {
        "id": "rQlfJAYalUxC"
      },
      "source": [
        "150. how will you convert a List into an array of integers like-int[]?\n",
        "\n",
        "Integer[] arr = (Integer[])list.toArray(new Integer[list.size]);\n",
        "를 사용하면 된다."
      ],
      "execution_count": null,
      "outputs": []
    },
    {
      "cell_type": "code",
      "metadata": {
        "colab": {
          "base_uri": "https://localhost:8080/"
        },
        "id": "hosLlnvFnlrz",
        "outputId": "316f6ba7-7f27-40dd-86cb-e9fd33b840c2"
      },
      "source": [
        "input_data = input() # 현재 나이트의 위치 입력받기\n",
        "row = int(input_data[1])\n",
        "column = int(ord(input_data[0])) - int(ord('a')) + 1\n",
        "\n",
        "# 나이트가 이동할 수 있는 8가지 방향 정의\n",
        "steps = [(-2, -1), (-1, -2), (1, -2), (2, -1), (2, 1), (1, 2), (-1, 2), (-2, 1)]\n",
        "\n",
        "result = 0\n",
        "for step in steps: # 8가지 방향에 대하여 각 위치로 이동이 가능한지 확인\n",
        "  next_row = row + step[0] # 이동하고자 하는 위치 확인\n",
        "  next_column = column + step[1]\n",
        "  if next_row >= 1 and next_row <= 8 and next_column >= 1 and next_column <= 8:\n",
        "    result += 1 # 해당 위치로 이동이 가능하다면 카운트 증가\n",
        "print(result)"
      ],
      "execution_count": 1,
      "outputs": [
        {
          "output_type": "stream",
          "text": [
            "a5\n",
            "4\n"
          ],
          "name": "stdout"
        }
      ]
    },
    {
      "cell_type": "code",
      "metadata": {
        "id": "Ec50BEoE9N_4",
        "outputId": "b1d10b94-655d-4b80-9cb3-916b0975211c",
        "colab": {
          "base_uri": "https://localhost:8080/"
        }
      },
      "source": [
        "def ccc(n):                             # 함수 생성\n",
        "  d = [int(ord(n[0])-96), int(n[-1])]   # 열을 숫자로 바꾸고 열, 행 순으로 리스트 만들었음\n",
        "  night = [[2, 1], [1, 2]]              # 열2 행1 움직이던가 열1 행2 움직임\n",
        "  a = 0                                 # 총 몇번 움직일지 세주는 변수임\n",
        "  for i in range(8):                    # 8번 중에\n",
        "    for i in range(0, 2):               # 4번씩 2회 반복\n",
        "      if d[0]-night[i][0] > 0 and d[1] - night[i][1] > 0: a += 1 # 빼고 뺌\n",
        "      if d[0]+night[i][0] < 9 and d[1] + night[i][1] < 9: a += 1 # 더하고 더함\n",
        "      if d[0]+night[i][0] < 9 and d[1] - night[i][1] > 0: a += 1 # 더하고 뺌\n",
        "      if d[0]-night[i][0] > 0 and d[1] + night[i][1] < 9: a += 1 # 빼고 더함\n",
        "    return a                             # 숫자 센거 반환\n",
        "\n",
        "n = input(\"Input : \")                    # 자리 입력\n",
        "print(\"Output :\", ccc(n))                # 함수 호출 및 경우의 수 출력"
      ],
      "execution_count": 17,
      "outputs": [
        {
          "output_type": "stream",
          "text": [
            "Input : a1\n",
            "Output : 2\n"
          ],
          "name": "stdout"
        }
      ]
    },
    {
      "cell_type": "code",
      "metadata": {
        "id": "TCmjVuS5-PS-"
      },
      "source": [
        "a1"
      ],
      "execution_count": null,
      "outputs": []
    }
  ]
}