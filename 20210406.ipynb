{
  "nbformat": 4,
  "nbformat_minor": 0,
  "metadata": {
    "colab": {
      "name": "Colaboratory에 오신 것을 환영합니다",
      "provenance": [],
      "collapsed_sections": [],
      "include_colab_link": true
    },
    "kernelspec": {
      "display_name": "Python 3",
      "name": "python3"
    }
  },
  "cells": [
    {
      "cell_type": "markdown",
      "metadata": {
        "id": "view-in-github",
        "colab_type": "text"
      },
      "source": [
        "<a href=\"https://colab.research.google.com/github/suumino/homework/blob/main/20210406.ipynb\" target=\"_parent\"><img src=\"https://colab.research.google.com/assets/colab-badge.svg\" alt=\"Open In Colab\"/></a>"
      ]
    },
    {
      "cell_type": "code",
      "metadata": {
        "id": "xtGTVTQQUGj8"
      },
      "source": [
        "5. How Jaba platform is different from other platforms?\n",
        "\n",
        "자바는 객체지향 언어이기 때문에 이식성이 높다. 또 자바는 운영체제를 가리지 않고 개발을 할 수 있기 때문에 활용적이다."
      ],
      "execution_count": null,
      "outputs": []
    },
    {
      "cell_type": "code",
      "metadata": {
        "id": "NmOPLlzsUn0S"
      },
      "source": [
        "6. Why people say that Java is 'write once and run anywhere'language?\n",
        "\n",
        "다른 언어들은 운영체제가 바뀔 때마다 코드를 새로 작성하거나 수정하는 작업을 거쳐야한다. 하지만 자바는\n",
        "JVM이라는 운영체제와 코드의 사이를 연결해주는 중간매체인 가상의 운영체제가 있기 때문에 한번 수정하면 어떤 곳에서든 \n",
        "사용할 수 있다고 말하는 것이다."
      ],
      "execution_count": null,
      "outputs": []
    },
    {
      "cell_type": "code",
      "metadata": {
        "id": "6SrgNKegVGkO"
      },
      "source": [
        "7. How does ClassLoader work in Java?\n",
        "\n",
        "자바의 클래스로더들은 JVM이 시작하며 사용된다.\n",
        "부트스트랩 클래스로더는 자바의 핵심라이브러리를 불러들이고, 네이티브 코드로 작성이 되어있다.\n",
        "확장 클래스로더는 확장 디렉터리에 코드를 로드한다.\n",
        "시스템 클래스로더는 클래스패스 환경변수에 매핑된다."
      ],
      "execution_count": null,
      "outputs": []
    },
    {
      "cell_type": "code",
      "metadata": {
        "id": "MMaggtjGVy7i"
      },
      "source": [
        "8. Do you think 'main' used for main method is a keyword in Java?\n",
        "\n",
        "자바에서 main은 메소드들과 중심 클래스와 연결해준다고 생각한다."
      ],
      "execution_count": null,
      "outputs": []
    },
    {
      "cell_type": "code",
      "metadata": {
        "id": "30HHd8G3Wr_e",
        "outputId": "10503aa7-1bf1-48ee-958c-6ac88de3a112",
        "colab": {
          "base_uri": "https://localhost:8080/"
        }
      },
      "source": [
        "# ALGORITHM HOMEWORK\n",
        "\n",
        "def length(S):                            # 함수 생성\n",
        "  s = S[-1] - S[0]                        # 차이값을 저장할 변수 선언\n",
        "  m = [0, 0]                              # 두 값을 저장할 리스트 선언\n",
        "  for i in range(1, len(S)):              # 1부터 배열 길이동안\n",
        "    if S[i] - S[i-1] < s:                 # 둘의 차가 s보다 작다면\n",
        "      s = S[i] - S[i-1]                   # s의 차이값은 저장된다.\n",
        "      m = [S[i-1], S[i]]                  # 두 수는 리스트에 저장된다.\n",
        "  print(\"({}, {})\".format(m[0], m[1]))    # 두 수를 출력한다.\n",
        "\n",
        "S = [1, 3, 4, 8, 13, 17, 20]              # 배열 입력\n",
        "length(S)                                 # 함수 호출"
      ],
      "execution_count": 12,
      "outputs": [
        {
          "output_type": "stream",
          "text": [
            "(3, 4)\n"
          ],
          "name": "stdout"
        }
      ]
    },
    {
      "cell_type": "code",
      "metadata": {
        "id": "MqiIBKxeYJBy"
      },
      "source": [
        ""
      ],
      "execution_count": null,
      "outputs": []
    }
  ]
}