{
  "nbformat": 4,
  "nbformat_minor": 0,
  "metadata": {
    "colab": {
      "name": "Colaboratory에 오신 것을 환영합니다",
      "provenance": [],
      "collapsed_sections": [],
      "include_colab_link": true
    },
    "kernelspec": {
      "display_name": "Python 3",
      "name": "python3"
    }
  },
  "cells": [
    {
      "cell_type": "markdown",
      "metadata": {
        "id": "view-in-github",
        "colab_type": "text"
      },
      "source": [
        "<a href=\"https://colab.research.google.com/github/suumino/homework/blob/main/20210405.ipynb\" target=\"_parent\"><img src=\"https://colab.research.google.com/assets/colab-badge.svg\" alt=\"Open In Colab\"/></a>"
      ]
    },
    {
      "cell_type": "code",
      "metadata": {
        "id": "ugglEF6BJZfm"
      },
      "source": [
        "# 1. What is the difference between JDK and JRE?\n",
        "\n",
        "# JDK와 JRE를 깔면 JVM이 기본적으로 깔린다. 또 역시 JDK를 깔면 JRE가 깔린다.\n",
        "# 쉽게 말하면 JRE는 JVM과 표준 클래스 라이브러리만 있는 것이고, JDK 는 JRE에 더해서\n",
        "# 개발에 필요한 도구까지 포함되어있는 것이다."
      ],
      "execution_count": 4,
      "outputs": []
    },
    {
      "cell_type": "code",
      "metadata": {
        "id": "AjkXqVPmKgJc"
      },
      "source": [
        "# 2. What is Java Virtual Machine(JVM)?\n",
        "\n",
        "# 자바를 실행시키는 가상의 운영체제이다. 자바는 여러 운영체제에서 모두 사용이 가능하다는 \n",
        "# 장점이 있는데 그 점을 이행시키기 위해서는 여러 운영체제와 자바 프로그램 사이에 존재하는\n",
        "# 가상의 운영체제인 JVM이 필요하다."
      ],
      "execution_count": 6,
      "outputs": []
    },
    {
      "cell_type": "code",
      "metadata": {
        "id": "et8fdtzILgvs"
      },
      "source": [
        "# 3. What are the different types of memory areas allocated by JVM?\n",
        "\n",
        "# Method, Runtime Constant Pool, Heap Area, Stack Area, PC 레지스터, Native Method Stack Area"
      ],
      "execution_count": 7,
      "outputs": []
    },
    {
      "cell_type": "code",
      "metadata": {
        "id": "Q8SSlH-NMpEu"
      },
      "source": [
        "# 4. What is JIT compiler?\n",
        "\n",
        "# 자바 컴파일러에 의해 생성된 코드를 자바 가상 머신으로 해석해서 실행하는 방법의 하나. "
      ],
      "execution_count": 8,
      "outputs": []
    },
    {
      "cell_type": "code",
      "metadata": {
        "id": "hIRWf3quM7oo",
        "outputId": "aa544d8b-f63a-4972-bbdc-402f663fee70",
        "colab": {
          "base_uri": "https://localhost:8080/"
        }
      },
      "source": [
        "# ALGORITHM HOMEWORK\n",
        "\n",
        "def num(n):                             # 함수 생성\n",
        "\n",
        "  if n[-1] == 1 and n % 11 != 11:       # 이 함수의 끝자리가 1이고 11이 아니면\n",
        "    print(n+'st')                       # st 붙이기\n",
        "  elif n[-1] == 2 and n % 12 != 12:     # 이 함수의 끝자리가 2이고 12가 아니면\n",
        "    print(n+'nd')                       # nd 붙이기\n",
        "  elif n[-1] == 3 and n % 13 != 13:     # 이 함수의 끝자리가 3이고 13이 아니면\n",
        "    print(n+'rd')                       # rd 붙이기\n",
        "  else:                                 # 다 아니면\n",
        "    print(n+'th')                       # th 붙이기\n",
        "\n",
        "n = input()                             # 수 받기\n",
        "num(n)                                  # 함수 호출"
      ],
      "execution_count": 14,
      "outputs": [
        {
          "output_type": "stream",
          "text": [
            "786\n",
            "786th\n"
          ],
          "name": "stdout"
        }
      ]
    }
  ]
}