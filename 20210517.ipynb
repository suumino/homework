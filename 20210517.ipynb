{
  "nbformat": 4,
  "nbformat_minor": 0,
  "metadata": {
    "colab": {
      "name": "Colaboratory에 오신 것을 환영합니다",
      "provenance": [],
      "collapsed_sections": [],
      "include_colab_link": true
    },
    "kernelspec": {
      "display_name": "Python 3",
      "name": "python3"
    }
  },
  "cells": [
    {
      "cell_type": "markdown",
      "metadata": {
        "id": "view-in-github",
        "colab_type": "text"
      },
      "source": [
        "<a href=\"https://colab.research.google.com/github/suumino/homework/blob/main/20210517.ipynb\" target=\"_parent\"><img src=\"https://colab.research.google.com/assets/colab-badge.svg\" alt=\"Open In Colab\"/></a>"
      ]
    },
    {
      "cell_type": "code",
      "metadata": {
        "id": "Zf4kENE-doCQ"
      },
      "source": [
        "201. How remove() method is implemented is a HashMap?\n",
        "\n",
        "remove()는 removeEntryForKey 를 호출하여 hashValue를 계산한 후 indexFor 메서드에서\n",
        "hashValue를 사용하여 첫번째 개체를 찾는다."
      ],
      "execution_count": null,
      "outputs": []
    },
    {
      "cell_type": "code",
      "metadata": {
        "id": "yZPYVoczdn_y"
      },
      "source": [
        "202. What is BlockingQueue in Java Collections?\n",
        "\n",
        "인터페이스, java.util.concurrent.blockingQueue는 요소를 넣거나 가져가기 안전한\n",
        "queue를 나타낸다. "
      ],
      "execution_count": null,
      "outputs": []
    },
    {
      "cell_type": "code",
      "metadata": {
        "id": "pQj7eM0Edn89"
      },
      "source": [
        "203. How is TreeMap class implemented in Java?\n",
        "\n",
        "AbstracMap클래스와 함께 NavigableMap을 구현하는 데 사용된다. \n",
        "맵은 키의 순서 또는 comparator에 따라 정렬된다."
      ],
      "execution_count": null,
      "outputs": []
    },
    {
      "cell_type": "code",
      "metadata": {
        "id": "pjwIJ2Gkdn6O"
      },
      "source": [
        "204. What is the difference between Fail-fast and Fail-safe iterator in Java?\n",
        "\n",
        "safe interator는 예외를 발생시키지 않는다. 그 이유는 collection 의 복제본에서\n",
        "작업을 하기 때문이다. "
      ],
      "execution_count": null,
      "outputs": []
    },
    {
      "cell_type": "code",
      "metadata": {
        "id": "92Det2padn3m"
      },
      "source": [
        "205. How does ConcurrentHashMap work in Java?\n",
        "\n",
        "지도에 대한 동시 액세스를 허용한다. ConcurrenthashMap을 사용하면\n",
        "동시 스레드와 관계없이 값을 읽을 수 있다."
      ],
      "execution_count": null,
      "outputs": []
    },
    {
      "cell_type": "code",
      "metadata": {
        "id": "ncKLOjLTdn02"
      },
      "source": [
        "206. What is the importance of hashCode() and equals() methods?\n",
        "\n",
        "hashcode 메서드는 equals 메서드에 의해 동일한 객체에서 호출이 될 때 동일한\n",
        "해시값을 반환한다. "
      ],
      "execution_count": null,
      "outputs": []
    },
    {
      "cell_type": "code",
      "metadata": {
        "id": "prJwg9DUdnyG"
      },
      "source": [
        "207. What is the contract of hashCode() and equals() methods in Java?\n",
        "\n",
        "hashCode 메서드는 객체의 값이 수정되지 않는 한 항상 같은 값을 반환해야 한다.\n",
        "이것은 정해진 규칙이다."
      ],
      "execution_count": null,
      "outputs": []
    },
    {
      "cell_type": "code",
      "metadata": {
        "id": "lnIotacIdnvO"
      },
      "source": [
        "208. What is an EnumSet in Java?\n",
        "\n",
        "enumSet은 Java 컬렉션의 멤버이고 동기화되지 않는다. enumSet은 HashSet보다 빠르게 작동하는\n",
        "고성능 집합 구현이다. enumSet의 모든 요소는 집합이 생성될 때 지정되는 단일\n",
        "열거 유형이어야한다."
      ],
      "execution_count": null,
      "outputs": []
    },
    {
      "cell_type": "code",
      "metadata": {
        "id": "xEI6H0yqdnsS"
      },
      "source": [
        "209. What are the main Concurrent Collection classes in Java?\n",
        "\n",
        "ConcurrentHashMap\n",
        "CopyOnWriteArrayList and CopyOnWriteArraySet\n",
        "BlockingQueue\n",
        "Deque and BlockingDeque\n",
        "ConcurrentSkipListMap and ConcurrentSkipListSet"
      ],
      "execution_count": null,
      "outputs": []
    },
    {
      "cell_type": "code",
      "metadata": {
        "id": "B5HvwsPJdnpX"
      },
      "source": [
        "210. How will you convert a Collection to Synchronized Collection in Java?\n",
        "\n",
        "ArrayList를 만든다. Add(E e) API를 사용하여 arraylist를 채운다. 그리고\n",
        "동기화된 목록을 가져오기위해 collections의 synchronousList API를 호출하면 된다."
      ],
      "execution_count": null,
      "outputs": []
    },
    {
      "cell_type": "code",
      "metadata": {
        "id": "jUbm8Vmcdnmv"
      },
      "source": [
        ""
      ],
      "execution_count": null,
      "outputs": []
    },
    {
      "cell_type": "code",
      "metadata": {
        "id": "DbyYjzQ2dnke"
      },
      "source": [
        ""
      ],
      "execution_count": null,
      "outputs": []
    }
  ]
}