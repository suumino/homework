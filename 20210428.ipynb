{
  "nbformat": 4,
  "nbformat_minor": 0,
  "metadata": {
    "colab": {
      "name": "Colaboratory에 오신 것을 환영합니다",
      "provenance": [],
      "collapsed_sections": [],
      "include_colab_link": true
    },
    "kernelspec": {
      "display_name": "Python 3",
      "name": "python3"
    }
  },
  "cells": [
    {
      "cell_type": "markdown",
      "metadata": {
        "id": "view-in-github",
        "colab_type": "text"
      },
      "source": [
        "<a href=\"https://colab.research.google.com/github/suumino/homework/blob/main/20210428.ipynb\" target=\"_parent\"><img src=\"https://colab.research.google.com/assets/colab-badge.svg\" alt=\"Open In Colab\"/></a>"
      ]
    },
    {
      "cell_type": "code",
      "metadata": {
        "id": "GTm2e4lEolrr"
      },
      "source": [
        "81. Is it mandatory to import java.lang package every time?\n",
        "\n",
        "자바에서 패키지가 필수는 아니다. 자바에서 패키지를 선언하지 않는다면\n",
        "lang 패키지가 기본으로 되어있다. "
      ],
      "execution_count": null,
      "outputs": []
    },
    {
      "cell_type": "code",
      "metadata": {
        "id": "F4BhYsiDolt_"
      },
      "source": [
        "82. Can you import same package or class twice in your class?\n",
        "\n",
        "같은 패키지나 같은 클래스를 여러번 가져올 수 있다. 하지만 JVM에서 \n",
        "같은 클래스나 패키지를 여러번 가져와도 한번만 로드를 한다."
      ],
      "execution_count": null,
      "outputs": []
    },
    {
      "cell_type": "code",
      "metadata": {
        "id": "9SpgC4yWolwL"
      },
      "source": [
        "83. What is a static import in Java?\n",
        "\n",
        "static을 import 하는 것은 해당 클래스에서 public static 으로 지정된 것을\n",
        "사용할 수 있도록 한다. 특히 어떤 것으로 정의되지 않은 클래스나 메소드에서 \n",
        "public static 을 사용할 수 있다."
      ],
      "execution_count": null,
      "outputs": []
    },
    {
      "cell_type": "code",
      "metadata": {
        "id": "CK77sxc9olyz"
      },
      "source": [
        "84. What is the difference between import static com.test.Fooclass and import com.test.Fooclass?\n",
        "\n",
        "static 을 사용하면 클래스 이름을 사용하지 않고도 특정 클래스와 패키지에서\n",
        "static member를 가져올 수 있고, import는 정규화된 이름을 사용할 필요가 없고, 짧은 이름은\n",
        "직접 사용할 수 있다. "
      ],
      "execution_count": null,
      "outputs": []
    },
    {
      "cell_type": "code",
      "metadata": {
        "id": "qOxRReWYol1i"
      },
      "source": [
        "85. What is Locale in Java?\n",
        "\n",
        "java Locale 클래스는 지역의 언어, 나라 등의 정보를 담고있는 클래스이다."
      ],
      "execution_count": null,
      "outputs": []
    },
    {
      "cell_type": "code",
      "metadata": {
        "id": "R2WLLmBsol4R"
      },
      "source": [
        "86. How will you use a specific Locale in Java?\n",
        "\n",
        "인스턴스화 방법이 있는데 언어코드와 나라코드를 사용하는 것이다.\n",
        "필드값은 주요 나라에 대해 미리 정의되어있는 값을 사용하는 것이다. \n",
        "인스턴스화처럼 코드를 찾아 파라미터값으로 주는 수고는 없지만 정의되어 있는 수가 적다.\n",
        "메소드를 사용할 수도 있다."
      ],
      "execution_count": null,
      "outputs": []
    },
    {
      "cell_type": "code",
      "metadata": {
        "id": "syWfnJWRol6v"
      },
      "source": [
        "87. What is the serialization?\n",
        "\n",
        "데이터의 직력화는 데이터 구조나 객체 상태를 저장하거나 전송하고, 나중에 \n",
        "재구성할 수 있는 형식으로 변환하는 과정이다. "
      ],
      "execution_count": null,
      "outputs": []
    },
    {
      "cell_type": "code",
      "metadata": {
        "id": "pAj7xh-iol9x"
      },
      "source": [
        "88. What is the purpose of serialization?\n",
        "\n",
        "직렬화는 객체를 byte stream으로 변환한다. 그 후 로컬 디스크의 파일에 저장하거나\n",
        "네트워크를 통해 다른 컴퓨터로 전송할 수 있다. "
      ],
      "execution_count": null,
      "outputs": []
    },
    {
      "cell_type": "code",
      "metadata": {
        "id": "_iuoXQx6omAh"
      },
      "source": [
        "89. What is Deserialization?\n",
        "\n",
        "직렬화를 통해 byte stream으로 변한 객체를 다시 역정렬화를 통해 프로레스를 되돌린다."
      ],
      "execution_count": null,
      "outputs": []
    },
    {
      "cell_type": "code",
      "metadata": {
        "id": "7dbjxxdComDU"
      },
      "source": [
        "90. What is Serialization and Deserialization conceptually?\n",
        "\n",
        "직렬화는 객체를 byte stream으로 변환하는 것이고, 이 메모리는 컴퓨터에서 저장하거나\n",
        "전송하는 데에 사용된다. 데이터를 다시 사용할 때에는 역직렬화를 통해 사용가능한 형태로 만든다."
      ],
      "execution_count": null,
      "outputs": []
    },
    {
      "cell_type": "code",
      "metadata": {
        "id": "cyfRc71romGQ",
        "outputId": "8a49d331-738e-47ab-b222-4396c8ce0008",
        "colab": {
          "base_uri": "https://localhost:8080/"
        }
      },
      "source": [
        "# ALGORITHM HOMEWORK\n",
        "\n",
        "def ccc(a, b):      # 함수 생성\n",
        "  c = []            # 겹치는 것을 넣을 리스트 생성\n",
        "  for i in a:       # a 와\n",
        "    for j in b:     # b 중에\n",
        "      if i == j:    # 겹치는게 있다면\n",
        "        c.append(i) # c에 넣으십쇼\n",
        "  c = set(c)        # 중복중에도 겹치는게 있으면 빼세요\n",
        "  return len(c)     # 겹치는 리스트의 길이를 반환해요\n",
        "\n",
        "a = input(\"a : \")   # a를 받아요\n",
        "b = input(\"b : \")   # b를 받아요\n",
        "\n",
        "print(ccc(a, b))    # 출력해요\n"
      ],
      "execution_count": 4,
      "outputs": [
        {
          "output_type": "stream",
          "text": [
            "a : ㅁㄴㅇㄹ\n",
            "b : ㅁㄴㅇㄻㄴㅇㄹ\n",
            "4\n"
          ],
          "name": "stdout"
        }
      ]
    },
    {
      "cell_type": "code",
      "metadata": {
        "id": "GHZ3L9uDomJB"
      },
      "source": [
        ""
      ],
      "execution_count": null,
      "outputs": []
    }
  ]
}