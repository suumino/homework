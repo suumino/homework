{
  "nbformat": 4,
  "nbformat_minor": 0,
  "metadata": {
    "colab": {
      "name": "Colaboratory에 오신 것을 환영합니다",
      "provenance": [],
      "collapsed_sections": [],
      "include_colab_link": true
    },
    "kernelspec": {
      "display_name": "Python 3",
      "name": "python3"
    }
  },
  "cells": [
    {
      "cell_type": "markdown",
      "metadata": {
        "id": "view-in-github",
        "colab_type": "text"
      },
      "source": [
        "<a href=\"https://colab.research.google.com/github/suumino/homework/blob/main/20210503.ipynb\" target=\"_parent\"><img src=\"https://colab.research.google.com/assets/colab-badge.svg\" alt=\"Open In Colab\"/></a>"
      ]
    },
    {
      "cell_type": "code",
      "metadata": {
        "id": "YI9mkTVdZPGz"
      },
      "source": [
        "101.  Why java provides Garbage Collector?\n",
        "\n",
        "자바에서 더이상 사용하지 않는 메모리를 자동으로 판별하여 재활용하는 Garbage Collector는 \n",
        "메모리를 효율적으로 사용할 수 있게 해준다. 참조되지 않은 객체를 자동으로 제거하기 때문이다."
      ],
      "execution_count": null,
      "outputs": []
    },
    {
      "cell_type": "code",
      "metadata": {
        "id": "JsysWPneZPIr"
      },
      "source": [
        "102. What is the purpose of gc() in java?\n",
        "\n",
        "목적은 메모리를 회수하고 재사용하는 것이다. 애플리케이션에서 필요로하지 않는\n",
        "데이터를 판별한 후 없앤다."
      ],
      "execution_count": null,
      "outputs": []
    },
    {
      "cell_type": "code",
      "metadata": {
        "id": "05Os9PMNZXAM"
      },
      "source": [
        "103. How does Garbage Collection work in Java?\n",
        "\n",
        "gc() 메소드를 호출하면 현재 사용중인 메모리를 재사용할 수 있도록\n",
        "사용되지 않는 객체를 찾아내고 알려준다."
      ],
      "execution_count": null,
      "outputs": []
    },
    {
      "cell_type": "code",
      "metadata": {
        "id": "_Q-4bTCsZXCR"
      },
      "source": [
        "104. When does an object become eligible for Garbage Collection in java?\n",
        "\n",
        "Garbage Collect가 없애는 데이터는 참조가 없는 개체입니다. 참조는 일반적으로\n",
        "변수가 범위를 벗어날 때 삭제된다. 또는 변수를 null로 설정해도 참조가 삭제된다."
      ],
      "execution_count": null,
      "outputs": []
    },
    {
      "cell_type": "code",
      "metadata": {
        "id": "faJwh2ajZXEb"
      },
      "source": [
        "105. Why do we use finalize() method in java?\n",
        "\n",
        "finalize() 메소드는 메모리에서 제거되려는 개체들이 몇가지 최종 작업을 수행하는 데에\n",
        "사용이 된다. "
      ],
      "execution_count": null,
      "outputs": []
    },
    {
      "cell_type": "code",
      "metadata": {
        "id": "34q6A-HmZXGf"
      },
      "source": [
        "106. What are the different types of References in java?\n",
        "\n",
        "Strong references, Weak references, Soft references, Phantom references 가 있다.\n",
        "Strong은 GC의 대상이 되지 않는다.\n",
        "Weak는 GC의 대상이 될 수 있다. \n",
        "Soft는 대상 객체를 참조하는 경우가 Soft에만 존재하는 경우에는 GC의 대상이 된다. \n",
        "하지만 메모리가 부족하지 않다면 굳이 제거되지 않는다.\n",
        "Phantom은 생성자에서 무조건 ReferenceQueue를 받는다. "
      ],
      "execution_count": null,
      "outputs": []
    },
    {
      "cell_type": "code",
      "metadata": {
        "id": "Bd7Fw8_-ZXIl"
      },
      "source": [
        "107. How can we reference an unreferenced object again?\n",
        "\n",
        "참조되지 않은 객체의 참조를 finalize 메소드에서 얻을 수 있다. 즉, finalize 를 사용하면 참조되지\n",
        "않은 객체를 참조시킬 수 있다."
      ],
      "execution_count": null,
      "outputs": []
    },
    {
      "cell_type": "code",
      "metadata": {
        "id": "HdZx7CunZXKq"
      },
      "source": [
        "108. What kind of process is the Garbage collector thread?\n",
        "\n",
        "Mark and Sweep이라고 한다.\n",
        "Mark는 모든 변수를 스캔하며 각각 어떤 오브젝트를 참조하고 있는지 찾는 과정이고, \n",
        "Sweep은 mark 되어있지 않은 모든 객체들을 힙에서 제거하는 과정이다."
      ],
      "execution_count": null,
      "outputs": []
    },
    {
      "cell_type": "code",
      "metadata": {
        "id": "LVg0NuY9ZPLL"
      },
      "source": [
        "109. What is the purpose of the runtime class?\n",
        "\n",
        "목적은 java 런타임 시스템에 대한 접근을 제공한다. Java 에서 사용할 수 있는 최종 클래스이다."
      ],
      "execution_count": null,
      "outputs": []
    },
    {
      "cell_type": "code",
      "metadata": {
        "id": "4rFl9EbgZPNT"
      },
      "source": [
        "110. How can we invoke an external process in Java?\n",
        "\n",
        "getRuntime() 메서드를 사용하여 런타임 개체를 가져온다. 그 후 경로를 String 값으로 exec() 메서드에\n",
        "전달하여 필요한 프로세스를 실행한다."
      ],
      "execution_count": null,
      "outputs": []
    },
    {
      "cell_type": "code",
      "metadata": {
        "colab": {
          "base_uri": "https://localhost:8080/"
        },
        "id": "rRlSbY_nZPQB",
        "outputId": "fe5acd5d-dc29-4c28-8995-719bcb8eb948"
      },
      "source": [
        "# ALHORITHM HOMEWORK\n",
        "\n",
        "def ccc(n):\n",
        "  a = []\n",
        "  b = []\n",
        "  m = [1]\n",
        "  for i in range(n):\n",
        "    m = [1]\n",
        "    for i in range(len(a)):\n",
        "      b[i] = m.count(a[i])\n",
        "      for i in range(len(a)):\n",
        "        m.append(a[i])\n",
        "        m.append(b[i])\n",
        "  return m\n",
        "\n",
        "\n",
        "n = int(input(\"Input : \"))\n",
        "print(ccc(n))"
      ],
      "execution_count": 23,
      "outputs": [
        {
          "output_type": "stream",
          "text": [
            "Input : 6\n",
            "[1]\n"
          ],
          "name": "stdout"
        }
      ]
    },
    {
      "cell_type": "code",
      "metadata": {
        "colab": {
          "base_uri": "https://localhost:8080/",
          "height": 34
        },
        "id": "jd9BNrfSZPR-",
        "outputId": "4d8b84af-51be-419c-f834-e40b6af4ac85"
      },
      "source": [
        "def solution(n):\n",
        "  answer='1'\n",
        "  if n == 1:\n",
        "    return answer\n",
        "  for i in range(1,n):\n",
        "    answer = rule(answer)\n",
        "  return answer\n",
        "def rule(n):\n",
        "  num_l = max([int(i) for i in n])\n",
        "  d = [str(i)+str(str(n).count(str(i))) for i in range(1,num_l+1)]\n",
        "  return ''.join(d)\n",
        "solution(6) # 12213"
      ],
      "execution_count": 24,
      "outputs": [
        {
          "output_type": "execute_result",
          "data": {
            "application/vnd.google.colaboratory.intrinsic+json": {
              "type": "string"
            },
            "text/plain": [
              "'122131'"
            ]
          },
          "metadata": {
            "tags": []
          },
          "execution_count": 24
        }
      ]
    },
    {
      "cell_type": "code",
      "metadata": {
        "id": "BDzRjmnMhl1f"
      },
      "source": [
        ""
      ],
      "execution_count": null,
      "outputs": []
    }
  ]
}