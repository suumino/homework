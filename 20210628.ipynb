{
  "nbformat": 4,
  "nbformat_minor": 0,
  "metadata": {
    "colab": {
      "name": "Colaboratory에 오신 것을 환영합니다",
      "provenance": [],
      "collapsed_sections": [],
      "include_colab_link": true
    },
    "kernelspec": {
      "display_name": "Python 3",
      "name": "python3"
    }
  },
  "cells": [
    {
      "cell_type": "markdown",
      "metadata": {
        "id": "view-in-github",
        "colab_type": "text"
      },
      "source": [
        "<a href=\"https://colab.research.google.com/github/suumino/homework/blob/main/20210628.ipynb\" target=\"_parent\"><img src=\"https://colab.research.google.com/assets/colab-badge.svg\" alt=\"Open In Colab\"/></a>"
      ]
    },
    {
      "cell_type": "code",
      "metadata": {
        "id": "zNIwA38B1Mip",
        "outputId": "b591cf8d-4951-4cee-f5d5-726588a03a43",
        "colab": {
          "base_uri": "https://localhost:8080/"
        }
      },
      "source": [
        "class nnn:                                     # 클래스 생성\n",
        "  def ccc(self, n):                            # 함수 생성\n",
        "    for i in range(len(n)-1):                  # 길이 동안\n",
        "      if n[i] < n[i+2] < n[i+1]: return True   # n[i] < n[i+2] < n[i+1] 이면 True 반환\n",
        "      else: return False                       # 아니면 False 반환\n",
        "\n",
        "nnn = nnn()           # 클래스 객체 생성\n",
        "n = [-1, 3, 2, 0]     # 리스트\n",
        "m = [1, 2, 3, 4]      # 리스트\n",
        "l = [1, 3, 2, 4]      # 리스트\n",
        "print(nnn.ccc(n))     # 함수 호출\n",
        "print(nnn.ccc(m))     # 함수 호출\n",
        "print(nnn.ccc(l))     # 함수 호출\n",
        "  "
      ],
      "execution_count": 2,
      "outputs": [
        {
          "output_type": "stream",
          "text": [
            "True\n",
            "False\n",
            "True\n"
          ],
          "name": "stdout"
        }
      ]
    },
    {
      "cell_type": "code",
      "metadata": {
        "id": "kHD8jKfB1Mk5"
      },
      "source": [
        ""
      ],
      "execution_count": null,
      "outputs": []
    },
    {
      "cell_type": "code",
      "metadata": {
        "id": "TlVPNP031MnO"
      },
      "source": [
        ""
      ],
      "execution_count": null,
      "outputs": []
    },
    {
      "cell_type": "code",
      "metadata": {
        "id": "Q1cBy5671MpV"
      },
      "source": [
        ""
      ],
      "execution_count": null,
      "outputs": []
    }
  ]
}